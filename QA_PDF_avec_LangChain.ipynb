{
  "nbformat": 4,
  "nbformat_minor": 0,
  "metadata": {
    "colab": {
      "provenance": [],
      "machine_shape": "hm",
      "gpuType": "T4"
    },
    "kernelspec": {
      "name": "python3",
      "display_name": "Python 3"
    },
    "language_info": {
      "name": "python"
    },
    "accelerator": "GPU",
    "widgets": {
      "application/vnd.jupyter.widget-state+json": {
        "e899dc95c39e4fcbaccaa52687e03efd": {
          "model_module": "@jupyter-widgets/controls",
          "model_name": "HBoxModel",
          "model_module_version": "1.5.0",
          "state": {
            "_dom_classes": [],
            "_model_module": "@jupyter-widgets/controls",
            "_model_module_version": "1.5.0",
            "_model_name": "HBoxModel",
            "_view_count": null,
            "_view_module": "@jupyter-widgets/controls",
            "_view_module_version": "1.5.0",
            "_view_name": "HBoxView",
            "box_style": "",
            "children": [
              "IPY_MODEL_0a7bcf1de54c43ad98ddafd7e25760d8",
              "IPY_MODEL_2497e4c3cde4495c862d8e1ed30d26ae",
              "IPY_MODEL_732bab0253c54ee7817582124434cb6e"
            ],
            "layout": "IPY_MODEL_d859f7f11284424da4853927554181b2"
          }
        },
        "0a7bcf1de54c43ad98ddafd7e25760d8": {
          "model_module": "@jupyter-widgets/controls",
          "model_name": "HTMLModel",
          "model_module_version": "1.5.0",
          "state": {
            "_dom_classes": [],
            "_model_module": "@jupyter-widgets/controls",
            "_model_module_version": "1.5.0",
            "_model_name": "HTMLModel",
            "_view_count": null,
            "_view_module": "@jupyter-widgets/controls",
            "_view_module_version": "1.5.0",
            "_view_name": "HTMLView",
            "description": "",
            "description_tooltip": null,
            "layout": "IPY_MODEL_f87378b524264f95929385cc9370a0b1",
            "placeholder": "​",
            "style": "IPY_MODEL_31764b23f5734526ac94aff7b24da0f6",
            "value": "Downloading (…)60cb8/.gitattributes: 100%"
          }
        },
        "2497e4c3cde4495c862d8e1ed30d26ae": {
          "model_module": "@jupyter-widgets/controls",
          "model_name": "FloatProgressModel",
          "model_module_version": "1.5.0",
          "state": {
            "_dom_classes": [],
            "_model_module": "@jupyter-widgets/controls",
            "_model_module_version": "1.5.0",
            "_model_name": "FloatProgressModel",
            "_view_count": null,
            "_view_module": "@jupyter-widgets/controls",
            "_view_module_version": "1.5.0",
            "_view_name": "ProgressView",
            "bar_style": "success",
            "description": "",
            "description_tooltip": null,
            "layout": "IPY_MODEL_12838e8a34ce436ebbd7992afedf624d",
            "max": 1477,
            "min": 0,
            "orientation": "horizontal",
            "style": "IPY_MODEL_2f94f133961b48cda8861cb843ecd3b2",
            "value": 1477
          }
        },
        "732bab0253c54ee7817582124434cb6e": {
          "model_module": "@jupyter-widgets/controls",
          "model_name": "HTMLModel",
          "model_module_version": "1.5.0",
          "state": {
            "_dom_classes": [],
            "_model_module": "@jupyter-widgets/controls",
            "_model_module_version": "1.5.0",
            "_model_name": "HTMLModel",
            "_view_count": null,
            "_view_module": "@jupyter-widgets/controls",
            "_view_module_version": "1.5.0",
            "_view_name": "HTMLView",
            "description": "",
            "description_tooltip": null,
            "layout": "IPY_MODEL_55766a9c2db64767af51bed674117d96",
            "placeholder": "​",
            "style": "IPY_MODEL_4986736e52d34526b57aa48d0d46b576",
            "value": " 1.48k/1.48k [00:00&lt;00:00, 129kB/s]"
          }
        },
        "d859f7f11284424da4853927554181b2": {
          "model_module": "@jupyter-widgets/base",
          "model_name": "LayoutModel",
          "model_module_version": "1.2.0",
          "state": {
            "_model_module": "@jupyter-widgets/base",
            "_model_module_version": "1.2.0",
            "_model_name": "LayoutModel",
            "_view_count": null,
            "_view_module": "@jupyter-widgets/base",
            "_view_module_version": "1.2.0",
            "_view_name": "LayoutView",
            "align_content": null,
            "align_items": null,
            "align_self": null,
            "border": null,
            "bottom": null,
            "display": null,
            "flex": null,
            "flex_flow": null,
            "grid_area": null,
            "grid_auto_columns": null,
            "grid_auto_flow": null,
            "grid_auto_rows": null,
            "grid_column": null,
            "grid_gap": null,
            "grid_row": null,
            "grid_template_areas": null,
            "grid_template_columns": null,
            "grid_template_rows": null,
            "height": null,
            "justify_content": null,
            "justify_items": null,
            "left": null,
            "margin": null,
            "max_height": null,
            "max_width": null,
            "min_height": null,
            "min_width": null,
            "object_fit": null,
            "object_position": null,
            "order": null,
            "overflow": null,
            "overflow_x": null,
            "overflow_y": null,
            "padding": null,
            "right": null,
            "top": null,
            "visibility": null,
            "width": null
          }
        },
        "f87378b524264f95929385cc9370a0b1": {
          "model_module": "@jupyter-widgets/base",
          "model_name": "LayoutModel",
          "model_module_version": "1.2.0",
          "state": {
            "_model_module": "@jupyter-widgets/base",
            "_model_module_version": "1.2.0",
            "_model_name": "LayoutModel",
            "_view_count": null,
            "_view_module": "@jupyter-widgets/base",
            "_view_module_version": "1.2.0",
            "_view_name": "LayoutView",
            "align_content": null,
            "align_items": null,
            "align_self": null,
            "border": null,
            "bottom": null,
            "display": null,
            "flex": null,
            "flex_flow": null,
            "grid_area": null,
            "grid_auto_columns": null,
            "grid_auto_flow": null,
            "grid_auto_rows": null,
            "grid_column": null,
            "grid_gap": null,
            "grid_row": null,
            "grid_template_areas": null,
            "grid_template_columns": null,
            "grid_template_rows": null,
            "height": null,
            "justify_content": null,
            "justify_items": null,
            "left": null,
            "margin": null,
            "max_height": null,
            "max_width": null,
            "min_height": null,
            "min_width": null,
            "object_fit": null,
            "object_position": null,
            "order": null,
            "overflow": null,
            "overflow_x": null,
            "overflow_y": null,
            "padding": null,
            "right": null,
            "top": null,
            "visibility": null,
            "width": null
          }
        },
        "31764b23f5734526ac94aff7b24da0f6": {
          "model_module": "@jupyter-widgets/controls",
          "model_name": "DescriptionStyleModel",
          "model_module_version": "1.5.0",
          "state": {
            "_model_module": "@jupyter-widgets/controls",
            "_model_module_version": "1.5.0",
            "_model_name": "DescriptionStyleModel",
            "_view_count": null,
            "_view_module": "@jupyter-widgets/base",
            "_view_module_version": "1.2.0",
            "_view_name": "StyleView",
            "description_width": ""
          }
        },
        "12838e8a34ce436ebbd7992afedf624d": {
          "model_module": "@jupyter-widgets/base",
          "model_name": "LayoutModel",
          "model_module_version": "1.2.0",
          "state": {
            "_model_module": "@jupyter-widgets/base",
            "_model_module_version": "1.2.0",
            "_model_name": "LayoutModel",
            "_view_count": null,
            "_view_module": "@jupyter-widgets/base",
            "_view_module_version": "1.2.0",
            "_view_name": "LayoutView",
            "align_content": null,
            "align_items": null,
            "align_self": null,
            "border": null,
            "bottom": null,
            "display": null,
            "flex": null,
            "flex_flow": null,
            "grid_area": null,
            "grid_auto_columns": null,
            "grid_auto_flow": null,
            "grid_auto_rows": null,
            "grid_column": null,
            "grid_gap": null,
            "grid_row": null,
            "grid_template_areas": null,
            "grid_template_columns": null,
            "grid_template_rows": null,
            "height": null,
            "justify_content": null,
            "justify_items": null,
            "left": null,
            "margin": null,
            "max_height": null,
            "max_width": null,
            "min_height": null,
            "min_width": null,
            "object_fit": null,
            "object_position": null,
            "order": null,
            "overflow": null,
            "overflow_x": null,
            "overflow_y": null,
            "padding": null,
            "right": null,
            "top": null,
            "visibility": null,
            "width": null
          }
        },
        "2f94f133961b48cda8861cb843ecd3b2": {
          "model_module": "@jupyter-widgets/controls",
          "model_name": "ProgressStyleModel",
          "model_module_version": "1.5.0",
          "state": {
            "_model_module": "@jupyter-widgets/controls",
            "_model_module_version": "1.5.0",
            "_model_name": "ProgressStyleModel",
            "_view_count": null,
            "_view_module": "@jupyter-widgets/base",
            "_view_module_version": "1.2.0",
            "_view_name": "StyleView",
            "bar_color": null,
            "description_width": ""
          }
        },
        "55766a9c2db64767af51bed674117d96": {
          "model_module": "@jupyter-widgets/base",
          "model_name": "LayoutModel",
          "model_module_version": "1.2.0",
          "state": {
            "_model_module": "@jupyter-widgets/base",
            "_model_module_version": "1.2.0",
            "_model_name": "LayoutModel",
            "_view_count": null,
            "_view_module": "@jupyter-widgets/base",
            "_view_module_version": "1.2.0",
            "_view_name": "LayoutView",
            "align_content": null,
            "align_items": null,
            "align_self": null,
            "border": null,
            "bottom": null,
            "display": null,
            "flex": null,
            "flex_flow": null,
            "grid_area": null,
            "grid_auto_columns": null,
            "grid_auto_flow": null,
            "grid_auto_rows": null,
            "grid_column": null,
            "grid_gap": null,
            "grid_row": null,
            "grid_template_areas": null,
            "grid_template_columns": null,
            "grid_template_rows": null,
            "height": null,
            "justify_content": null,
            "justify_items": null,
            "left": null,
            "margin": null,
            "max_height": null,
            "max_width": null,
            "min_height": null,
            "min_width": null,
            "object_fit": null,
            "object_position": null,
            "order": null,
            "overflow": null,
            "overflow_x": null,
            "overflow_y": null,
            "padding": null,
            "right": null,
            "top": null,
            "visibility": null,
            "width": null
          }
        },
        "4986736e52d34526b57aa48d0d46b576": {
          "model_module": "@jupyter-widgets/controls",
          "model_name": "DescriptionStyleModel",
          "model_module_version": "1.5.0",
          "state": {
            "_model_module": "@jupyter-widgets/controls",
            "_model_module_version": "1.5.0",
            "_model_name": "DescriptionStyleModel",
            "_view_count": null,
            "_view_module": "@jupyter-widgets/base",
            "_view_module_version": "1.2.0",
            "_view_name": "StyleView",
            "description_width": ""
          }
        },
        "52f89fc36f8f47689e4f1cd2daede0ab": {
          "model_module": "@jupyter-widgets/controls",
          "model_name": "HBoxModel",
          "model_module_version": "1.5.0",
          "state": {
            "_dom_classes": [],
            "_model_module": "@jupyter-widgets/controls",
            "_model_module_version": "1.5.0",
            "_model_name": "HBoxModel",
            "_view_count": null,
            "_view_module": "@jupyter-widgets/controls",
            "_view_module_version": "1.5.0",
            "_view_name": "HBoxView",
            "box_style": "",
            "children": [
              "IPY_MODEL_af5b03dc1acf47f483a6217b07735ec8",
              "IPY_MODEL_711d72f11aa24f75b655a05ba59936e4",
              "IPY_MODEL_6bcdf82919154a719555e20d2c26dd4f"
            ],
            "layout": "IPY_MODEL_c4d1dea7843e4cbd975400eea84568b4"
          }
        },
        "af5b03dc1acf47f483a6217b07735ec8": {
          "model_module": "@jupyter-widgets/controls",
          "model_name": "HTMLModel",
          "model_module_version": "1.5.0",
          "state": {
            "_dom_classes": [],
            "_model_module": "@jupyter-widgets/controls",
            "_model_module_version": "1.5.0",
            "_model_name": "HTMLModel",
            "_view_count": null,
            "_view_module": "@jupyter-widgets/controls",
            "_view_module_version": "1.5.0",
            "_view_name": "HTMLView",
            "description": "",
            "description_tooltip": null,
            "layout": "IPY_MODEL_bd8ad8cce41d44b5a1d81dbb69493832",
            "placeholder": "​",
            "style": "IPY_MODEL_ef79190d679f420dbc28f2b55c71066b",
            "value": "Downloading (…)_Pooling/config.json: 100%"
          }
        },
        "711d72f11aa24f75b655a05ba59936e4": {
          "model_module": "@jupyter-widgets/controls",
          "model_name": "FloatProgressModel",
          "model_module_version": "1.5.0",
          "state": {
            "_dom_classes": [],
            "_model_module": "@jupyter-widgets/controls",
            "_model_module_version": "1.5.0",
            "_model_name": "FloatProgressModel",
            "_view_count": null,
            "_view_module": "@jupyter-widgets/controls",
            "_view_module_version": "1.5.0",
            "_view_name": "ProgressView",
            "bar_style": "success",
            "description": "",
            "description_tooltip": null,
            "layout": "IPY_MODEL_4d45c8a5132442a793bc3db6bf1f7ac7",
            "max": 200,
            "min": 0,
            "orientation": "horizontal",
            "style": "IPY_MODEL_29c1da16247942159587ef3edc1ad9cc",
            "value": 200
          }
        },
        "6bcdf82919154a719555e20d2c26dd4f": {
          "model_module": "@jupyter-widgets/controls",
          "model_name": "HTMLModel",
          "model_module_version": "1.5.0",
          "state": {
            "_dom_classes": [],
            "_model_module": "@jupyter-widgets/controls",
            "_model_module_version": "1.5.0",
            "_model_name": "HTMLModel",
            "_view_count": null,
            "_view_module": "@jupyter-widgets/controls",
            "_view_module_version": "1.5.0",
            "_view_name": "HTMLView",
            "description": "",
            "description_tooltip": null,
            "layout": "IPY_MODEL_087e138a22794598afdd0db9ca0be629",
            "placeholder": "​",
            "style": "IPY_MODEL_8d0a320a247f4117be0cc9b0105bc9f7",
            "value": " 200/200 [00:00&lt;00:00, 15.9kB/s]"
          }
        },
        "c4d1dea7843e4cbd975400eea84568b4": {
          "model_module": "@jupyter-widgets/base",
          "model_name": "LayoutModel",
          "model_module_version": "1.2.0",
          "state": {
            "_model_module": "@jupyter-widgets/base",
            "_model_module_version": "1.2.0",
            "_model_name": "LayoutModel",
            "_view_count": null,
            "_view_module": "@jupyter-widgets/base",
            "_view_module_version": "1.2.0",
            "_view_name": "LayoutView",
            "align_content": null,
            "align_items": null,
            "align_self": null,
            "border": null,
            "bottom": null,
            "display": null,
            "flex": null,
            "flex_flow": null,
            "grid_area": null,
            "grid_auto_columns": null,
            "grid_auto_flow": null,
            "grid_auto_rows": null,
            "grid_column": null,
            "grid_gap": null,
            "grid_row": null,
            "grid_template_areas": null,
            "grid_template_columns": null,
            "grid_template_rows": null,
            "height": null,
            "justify_content": null,
            "justify_items": null,
            "left": null,
            "margin": null,
            "max_height": null,
            "max_width": null,
            "min_height": null,
            "min_width": null,
            "object_fit": null,
            "object_position": null,
            "order": null,
            "overflow": null,
            "overflow_x": null,
            "overflow_y": null,
            "padding": null,
            "right": null,
            "top": null,
            "visibility": null,
            "width": null
          }
        },
        "bd8ad8cce41d44b5a1d81dbb69493832": {
          "model_module": "@jupyter-widgets/base",
          "model_name": "LayoutModel",
          "model_module_version": "1.2.0",
          "state": {
            "_model_module": "@jupyter-widgets/base",
            "_model_module_version": "1.2.0",
            "_model_name": "LayoutModel",
            "_view_count": null,
            "_view_module": "@jupyter-widgets/base",
            "_view_module_version": "1.2.0",
            "_view_name": "LayoutView",
            "align_content": null,
            "align_items": null,
            "align_self": null,
            "border": null,
            "bottom": null,
            "display": null,
            "flex": null,
            "flex_flow": null,
            "grid_area": null,
            "grid_auto_columns": null,
            "grid_auto_flow": null,
            "grid_auto_rows": null,
            "grid_column": null,
            "grid_gap": null,
            "grid_row": null,
            "grid_template_areas": null,
            "grid_template_columns": null,
            "grid_template_rows": null,
            "height": null,
            "justify_content": null,
            "justify_items": null,
            "left": null,
            "margin": null,
            "max_height": null,
            "max_width": null,
            "min_height": null,
            "min_width": null,
            "object_fit": null,
            "object_position": null,
            "order": null,
            "overflow": null,
            "overflow_x": null,
            "overflow_y": null,
            "padding": null,
            "right": null,
            "top": null,
            "visibility": null,
            "width": null
          }
        },
        "ef79190d679f420dbc28f2b55c71066b": {
          "model_module": "@jupyter-widgets/controls",
          "model_name": "DescriptionStyleModel",
          "model_module_version": "1.5.0",
          "state": {
            "_model_module": "@jupyter-widgets/controls",
            "_model_module_version": "1.5.0",
            "_model_name": "DescriptionStyleModel",
            "_view_count": null,
            "_view_module": "@jupyter-widgets/base",
            "_view_module_version": "1.2.0",
            "_view_name": "StyleView",
            "description_width": ""
          }
        },
        "4d45c8a5132442a793bc3db6bf1f7ac7": {
          "model_module": "@jupyter-widgets/base",
          "model_name": "LayoutModel",
          "model_module_version": "1.2.0",
          "state": {
            "_model_module": "@jupyter-widgets/base",
            "_model_module_version": "1.2.0",
            "_model_name": "LayoutModel",
            "_view_count": null,
            "_view_module": "@jupyter-widgets/base",
            "_view_module_version": "1.2.0",
            "_view_name": "LayoutView",
            "align_content": null,
            "align_items": null,
            "align_self": null,
            "border": null,
            "bottom": null,
            "display": null,
            "flex": null,
            "flex_flow": null,
            "grid_area": null,
            "grid_auto_columns": null,
            "grid_auto_flow": null,
            "grid_auto_rows": null,
            "grid_column": null,
            "grid_gap": null,
            "grid_row": null,
            "grid_template_areas": null,
            "grid_template_columns": null,
            "grid_template_rows": null,
            "height": null,
            "justify_content": null,
            "justify_items": null,
            "left": null,
            "margin": null,
            "max_height": null,
            "max_width": null,
            "min_height": null,
            "min_width": null,
            "object_fit": null,
            "object_position": null,
            "order": null,
            "overflow": null,
            "overflow_x": null,
            "overflow_y": null,
            "padding": null,
            "right": null,
            "top": null,
            "visibility": null,
            "width": null
          }
        },
        "29c1da16247942159587ef3edc1ad9cc": {
          "model_module": "@jupyter-widgets/controls",
          "model_name": "ProgressStyleModel",
          "model_module_version": "1.5.0",
          "state": {
            "_model_module": "@jupyter-widgets/controls",
            "_model_module_version": "1.5.0",
            "_model_name": "ProgressStyleModel",
            "_view_count": null,
            "_view_module": "@jupyter-widgets/base",
            "_view_module_version": "1.2.0",
            "_view_name": "StyleView",
            "bar_color": null,
            "description_width": ""
          }
        },
        "087e138a22794598afdd0db9ca0be629": {
          "model_module": "@jupyter-widgets/base",
          "model_name": "LayoutModel",
          "model_module_version": "1.2.0",
          "state": {
            "_model_module": "@jupyter-widgets/base",
            "_model_module_version": "1.2.0",
            "_model_name": "LayoutModel",
            "_view_count": null,
            "_view_module": "@jupyter-widgets/base",
            "_view_module_version": "1.2.0",
            "_view_name": "LayoutView",
            "align_content": null,
            "align_items": null,
            "align_self": null,
            "border": null,
            "bottom": null,
            "display": null,
            "flex": null,
            "flex_flow": null,
            "grid_area": null,
            "grid_auto_columns": null,
            "grid_auto_flow": null,
            "grid_auto_rows": null,
            "grid_column": null,
            "grid_gap": null,
            "grid_row": null,
            "grid_template_areas": null,
            "grid_template_columns": null,
            "grid_template_rows": null,
            "height": null,
            "justify_content": null,
            "justify_items": null,
            "left": null,
            "margin": null,
            "max_height": null,
            "max_width": null,
            "min_height": null,
            "min_width": null,
            "object_fit": null,
            "object_position": null,
            "order": null,
            "overflow": null,
            "overflow_x": null,
            "overflow_y": null,
            "padding": null,
            "right": null,
            "top": null,
            "visibility": null,
            "width": null
          }
        },
        "8d0a320a247f4117be0cc9b0105bc9f7": {
          "model_module": "@jupyter-widgets/controls",
          "model_name": "DescriptionStyleModel",
          "model_module_version": "1.5.0",
          "state": {
            "_model_module": "@jupyter-widgets/controls",
            "_model_module_version": "1.5.0",
            "_model_name": "DescriptionStyleModel",
            "_view_count": null,
            "_view_module": "@jupyter-widgets/base",
            "_view_module_version": "1.2.0",
            "_view_name": "StyleView",
            "description_width": ""
          }
        },
        "ec789c002a7f43e5b7a8f196b89cb743": {
          "model_module": "@jupyter-widgets/controls",
          "model_name": "HBoxModel",
          "model_module_version": "1.5.0",
          "state": {
            "_dom_classes": [],
            "_model_module": "@jupyter-widgets/controls",
            "_model_module_version": "1.5.0",
            "_model_name": "HBoxModel",
            "_view_count": null,
            "_view_module": "@jupyter-widgets/controls",
            "_view_module_version": "1.5.0",
            "_view_name": "HBoxView",
            "box_style": "",
            "children": [
              "IPY_MODEL_f31b00254e7d4aa3a1d10d8a04c0d18a",
              "IPY_MODEL_a4121a61fe5d4ba1bc50c4a4f2e896dd",
              "IPY_MODEL_4bf31c119e754de8b0afcd715224728b"
            ],
            "layout": "IPY_MODEL_4bd51a1977994efb9757e17b1a6b1f3f"
          }
        },
        "f31b00254e7d4aa3a1d10d8a04c0d18a": {
          "model_module": "@jupyter-widgets/controls",
          "model_name": "HTMLModel",
          "model_module_version": "1.5.0",
          "state": {
            "_dom_classes": [],
            "_model_module": "@jupyter-widgets/controls",
            "_model_module_version": "1.5.0",
            "_model_name": "HTMLModel",
            "_view_count": null,
            "_view_module": "@jupyter-widgets/controls",
            "_view_module_version": "1.5.0",
            "_view_name": "HTMLView",
            "description": "",
            "description_tooltip": null,
            "layout": "IPY_MODEL_e06fd11dd80740c585b3b201888898e5",
            "placeholder": "​",
            "style": "IPY_MODEL_29d1f77ec1464ce88265716a6fde05dd",
            "value": "Downloading (…)d605a60cb8/README.md: 100%"
          }
        },
        "a4121a61fe5d4ba1bc50c4a4f2e896dd": {
          "model_module": "@jupyter-widgets/controls",
          "model_name": "FloatProgressModel",
          "model_module_version": "1.5.0",
          "state": {
            "_dom_classes": [],
            "_model_module": "@jupyter-widgets/controls",
            "_model_module_version": "1.5.0",
            "_model_name": "FloatProgressModel",
            "_view_count": null,
            "_view_module": "@jupyter-widgets/controls",
            "_view_module_version": "1.5.0",
            "_view_name": "ProgressView",
            "bar_style": "success",
            "description": "",
            "description_tooltip": null,
            "layout": "IPY_MODEL_f6f1c2c67131450da037024d804e8e40",
            "max": 65988,
            "min": 0,
            "orientation": "horizontal",
            "style": "IPY_MODEL_061d2196e90c40839f32d34b57d4febc",
            "value": 65988
          }
        },
        "4bf31c119e754de8b0afcd715224728b": {
          "model_module": "@jupyter-widgets/controls",
          "model_name": "HTMLModel",
          "model_module_version": "1.5.0",
          "state": {
            "_dom_classes": [],
            "_model_module": "@jupyter-widgets/controls",
            "_model_module_version": "1.5.0",
            "_model_name": "HTMLModel",
            "_view_count": null,
            "_view_module": "@jupyter-widgets/controls",
            "_view_module_version": "1.5.0",
            "_view_name": "HTMLView",
            "description": "",
            "description_tooltip": null,
            "layout": "IPY_MODEL_beeb6ea26c3641b784b248c163b7f539",
            "placeholder": "​",
            "style": "IPY_MODEL_742c0d7d4f6742c49d8671b76a3cfdb1",
            "value": " 66.0k/66.0k [00:00&lt;00:00, 382kB/s]"
          }
        },
        "4bd51a1977994efb9757e17b1a6b1f3f": {
          "model_module": "@jupyter-widgets/base",
          "model_name": "LayoutModel",
          "model_module_version": "1.2.0",
          "state": {
            "_model_module": "@jupyter-widgets/base",
            "_model_module_version": "1.2.0",
            "_model_name": "LayoutModel",
            "_view_count": null,
            "_view_module": "@jupyter-widgets/base",
            "_view_module_version": "1.2.0",
            "_view_name": "LayoutView",
            "align_content": null,
            "align_items": null,
            "align_self": null,
            "border": null,
            "bottom": null,
            "display": null,
            "flex": null,
            "flex_flow": null,
            "grid_area": null,
            "grid_auto_columns": null,
            "grid_auto_flow": null,
            "grid_auto_rows": null,
            "grid_column": null,
            "grid_gap": null,
            "grid_row": null,
            "grid_template_areas": null,
            "grid_template_columns": null,
            "grid_template_rows": null,
            "height": null,
            "justify_content": null,
            "justify_items": null,
            "left": null,
            "margin": null,
            "max_height": null,
            "max_width": null,
            "min_height": null,
            "min_width": null,
            "object_fit": null,
            "object_position": null,
            "order": null,
            "overflow": null,
            "overflow_x": null,
            "overflow_y": null,
            "padding": null,
            "right": null,
            "top": null,
            "visibility": null,
            "width": null
          }
        },
        "e06fd11dd80740c585b3b201888898e5": {
          "model_module": "@jupyter-widgets/base",
          "model_name": "LayoutModel",
          "model_module_version": "1.2.0",
          "state": {
            "_model_module": "@jupyter-widgets/base",
            "_model_module_version": "1.2.0",
            "_model_name": "LayoutModel",
            "_view_count": null,
            "_view_module": "@jupyter-widgets/base",
            "_view_module_version": "1.2.0",
            "_view_name": "LayoutView",
            "align_content": null,
            "align_items": null,
            "align_self": null,
            "border": null,
            "bottom": null,
            "display": null,
            "flex": null,
            "flex_flow": null,
            "grid_area": null,
            "grid_auto_columns": null,
            "grid_auto_flow": null,
            "grid_auto_rows": null,
            "grid_column": null,
            "grid_gap": null,
            "grid_row": null,
            "grid_template_areas": null,
            "grid_template_columns": null,
            "grid_template_rows": null,
            "height": null,
            "justify_content": null,
            "justify_items": null,
            "left": null,
            "margin": null,
            "max_height": null,
            "max_width": null,
            "min_height": null,
            "min_width": null,
            "object_fit": null,
            "object_position": null,
            "order": null,
            "overflow": null,
            "overflow_x": null,
            "overflow_y": null,
            "padding": null,
            "right": null,
            "top": null,
            "visibility": null,
            "width": null
          }
        },
        "29d1f77ec1464ce88265716a6fde05dd": {
          "model_module": "@jupyter-widgets/controls",
          "model_name": "DescriptionStyleModel",
          "model_module_version": "1.5.0",
          "state": {
            "_model_module": "@jupyter-widgets/controls",
            "_model_module_version": "1.5.0",
            "_model_name": "DescriptionStyleModel",
            "_view_count": null,
            "_view_module": "@jupyter-widgets/base",
            "_view_module_version": "1.2.0",
            "_view_name": "StyleView",
            "description_width": ""
          }
        },
        "f6f1c2c67131450da037024d804e8e40": {
          "model_module": "@jupyter-widgets/base",
          "model_name": "LayoutModel",
          "model_module_version": "1.2.0",
          "state": {
            "_model_module": "@jupyter-widgets/base",
            "_model_module_version": "1.2.0",
            "_model_name": "LayoutModel",
            "_view_count": null,
            "_view_module": "@jupyter-widgets/base",
            "_view_module_version": "1.2.0",
            "_view_name": "LayoutView",
            "align_content": null,
            "align_items": null,
            "align_self": null,
            "border": null,
            "bottom": null,
            "display": null,
            "flex": null,
            "flex_flow": null,
            "grid_area": null,
            "grid_auto_columns": null,
            "grid_auto_flow": null,
            "grid_auto_rows": null,
            "grid_column": null,
            "grid_gap": null,
            "grid_row": null,
            "grid_template_areas": null,
            "grid_template_columns": null,
            "grid_template_rows": null,
            "height": null,
            "justify_content": null,
            "justify_items": null,
            "left": null,
            "margin": null,
            "max_height": null,
            "max_width": null,
            "min_height": null,
            "min_width": null,
            "object_fit": null,
            "object_position": null,
            "order": null,
            "overflow": null,
            "overflow_x": null,
            "overflow_y": null,
            "padding": null,
            "right": null,
            "top": null,
            "visibility": null,
            "width": null
          }
        },
        "061d2196e90c40839f32d34b57d4febc": {
          "model_module": "@jupyter-widgets/controls",
          "model_name": "ProgressStyleModel",
          "model_module_version": "1.5.0",
          "state": {
            "_model_module": "@jupyter-widgets/controls",
            "_model_module_version": "1.5.0",
            "_model_name": "ProgressStyleModel",
            "_view_count": null,
            "_view_module": "@jupyter-widgets/base",
            "_view_module_version": "1.2.0",
            "_view_name": "StyleView",
            "bar_color": null,
            "description_width": ""
          }
        },
        "beeb6ea26c3641b784b248c163b7f539": {
          "model_module": "@jupyter-widgets/base",
          "model_name": "LayoutModel",
          "model_module_version": "1.2.0",
          "state": {
            "_model_module": "@jupyter-widgets/base",
            "_model_module_version": "1.2.0",
            "_model_name": "LayoutModel",
            "_view_count": null,
            "_view_module": "@jupyter-widgets/base",
            "_view_module_version": "1.2.0",
            "_view_name": "LayoutView",
            "align_content": null,
            "align_items": null,
            "align_self": null,
            "border": null,
            "bottom": null,
            "display": null,
            "flex": null,
            "flex_flow": null,
            "grid_area": null,
            "grid_auto_columns": null,
            "grid_auto_flow": null,
            "grid_auto_rows": null,
            "grid_column": null,
            "grid_gap": null,
            "grid_row": null,
            "grid_template_areas": null,
            "grid_template_columns": null,
            "grid_template_rows": null,
            "height": null,
            "justify_content": null,
            "justify_items": null,
            "left": null,
            "margin": null,
            "max_height": null,
            "max_width": null,
            "min_height": null,
            "min_width": null,
            "object_fit": null,
            "object_position": null,
            "order": null,
            "overflow": null,
            "overflow_x": null,
            "overflow_y": null,
            "padding": null,
            "right": null,
            "top": null,
            "visibility": null,
            "width": null
          }
        },
        "742c0d7d4f6742c49d8671b76a3cfdb1": {
          "model_module": "@jupyter-widgets/controls",
          "model_name": "DescriptionStyleModel",
          "model_module_version": "1.5.0",
          "state": {
            "_model_module": "@jupyter-widgets/controls",
            "_model_module_version": "1.5.0",
            "_model_name": "DescriptionStyleModel",
            "_view_count": null,
            "_view_module": "@jupyter-widgets/base",
            "_view_module_version": "1.2.0",
            "_view_name": "StyleView",
            "description_width": ""
          }
        },
        "38fe3b94d6664bc19ba9b704daa893bf": {
          "model_module": "@jupyter-widgets/controls",
          "model_name": "HBoxModel",
          "model_module_version": "1.5.0",
          "state": {
            "_dom_classes": [],
            "_model_module": "@jupyter-widgets/controls",
            "_model_module_version": "1.5.0",
            "_model_name": "HBoxModel",
            "_view_count": null,
            "_view_module": "@jupyter-widgets/controls",
            "_view_module_version": "1.5.0",
            "_view_name": "HBoxView",
            "box_style": "",
            "children": [
              "IPY_MODEL_a4c1fee618d44ca1842074c5625f0147",
              "IPY_MODEL_8c68db44a93a46f3a10f83512df3f432",
              "IPY_MODEL_466024fcdae94be085fc24ce460e54c3"
            ],
            "layout": "IPY_MODEL_208551d25d85444fbcf5cf05247fb00b"
          }
        },
        "a4c1fee618d44ca1842074c5625f0147": {
          "model_module": "@jupyter-widgets/controls",
          "model_name": "HTMLModel",
          "model_module_version": "1.5.0",
          "state": {
            "_dom_classes": [],
            "_model_module": "@jupyter-widgets/controls",
            "_model_module_version": "1.5.0",
            "_model_name": "HTMLModel",
            "_view_count": null,
            "_view_module": "@jupyter-widgets/controls",
            "_view_module_version": "1.5.0",
            "_view_name": "HTMLView",
            "description": "",
            "description_tooltip": null,
            "layout": "IPY_MODEL_8f0d20689ff84fd4a8303b219c15d356",
            "placeholder": "​",
            "style": "IPY_MODEL_9099c81cb7184a61bfcfd19f1b6849b3",
            "value": "Downloading (…)05a60cb8/config.json: 100%"
          }
        },
        "8c68db44a93a46f3a10f83512df3f432": {
          "model_module": "@jupyter-widgets/controls",
          "model_name": "FloatProgressModel",
          "model_module_version": "1.5.0",
          "state": {
            "_dom_classes": [],
            "_model_module": "@jupyter-widgets/controls",
            "_model_module_version": "1.5.0",
            "_model_name": "FloatProgressModel",
            "_view_count": null,
            "_view_module": "@jupyter-widgets/controls",
            "_view_module_version": "1.5.0",
            "_view_name": "ProgressView",
            "bar_style": "success",
            "description": "",
            "description_tooltip": null,
            "layout": "IPY_MODEL_58dcd30fd234458481800d32044e064d",
            "max": 615,
            "min": 0,
            "orientation": "horizontal",
            "style": "IPY_MODEL_b285320bbe18419fb83b10f1f0628d0c",
            "value": 615
          }
        },
        "466024fcdae94be085fc24ce460e54c3": {
          "model_module": "@jupyter-widgets/controls",
          "model_name": "HTMLModel",
          "model_module_version": "1.5.0",
          "state": {
            "_dom_classes": [],
            "_model_module": "@jupyter-widgets/controls",
            "_model_module_version": "1.5.0",
            "_model_name": "HTMLModel",
            "_view_count": null,
            "_view_module": "@jupyter-widgets/controls",
            "_view_module_version": "1.5.0",
            "_view_name": "HTMLView",
            "description": "",
            "description_tooltip": null,
            "layout": "IPY_MODEL_06032fef4130429591d4709151eea91b",
            "placeholder": "​",
            "style": "IPY_MODEL_573494b9b5f344248fab255801c3ff3c",
            "value": " 615/615 [00:00&lt;00:00, 50.7kB/s]"
          }
        },
        "208551d25d85444fbcf5cf05247fb00b": {
          "model_module": "@jupyter-widgets/base",
          "model_name": "LayoutModel",
          "model_module_version": "1.2.0",
          "state": {
            "_model_module": "@jupyter-widgets/base",
            "_model_module_version": "1.2.0",
            "_model_name": "LayoutModel",
            "_view_count": null,
            "_view_module": "@jupyter-widgets/base",
            "_view_module_version": "1.2.0",
            "_view_name": "LayoutView",
            "align_content": null,
            "align_items": null,
            "align_self": null,
            "border": null,
            "bottom": null,
            "display": null,
            "flex": null,
            "flex_flow": null,
            "grid_area": null,
            "grid_auto_columns": null,
            "grid_auto_flow": null,
            "grid_auto_rows": null,
            "grid_column": null,
            "grid_gap": null,
            "grid_row": null,
            "grid_template_areas": null,
            "grid_template_columns": null,
            "grid_template_rows": null,
            "height": null,
            "justify_content": null,
            "justify_items": null,
            "left": null,
            "margin": null,
            "max_height": null,
            "max_width": null,
            "min_height": null,
            "min_width": null,
            "object_fit": null,
            "object_position": null,
            "order": null,
            "overflow": null,
            "overflow_x": null,
            "overflow_y": null,
            "padding": null,
            "right": null,
            "top": null,
            "visibility": null,
            "width": null
          }
        },
        "8f0d20689ff84fd4a8303b219c15d356": {
          "model_module": "@jupyter-widgets/base",
          "model_name": "LayoutModel",
          "model_module_version": "1.2.0",
          "state": {
            "_model_module": "@jupyter-widgets/base",
            "_model_module_version": "1.2.0",
            "_model_name": "LayoutModel",
            "_view_count": null,
            "_view_module": "@jupyter-widgets/base",
            "_view_module_version": "1.2.0",
            "_view_name": "LayoutView",
            "align_content": null,
            "align_items": null,
            "align_self": null,
            "border": null,
            "bottom": null,
            "display": null,
            "flex": null,
            "flex_flow": null,
            "grid_area": null,
            "grid_auto_columns": null,
            "grid_auto_flow": null,
            "grid_auto_rows": null,
            "grid_column": null,
            "grid_gap": null,
            "grid_row": null,
            "grid_template_areas": null,
            "grid_template_columns": null,
            "grid_template_rows": null,
            "height": null,
            "justify_content": null,
            "justify_items": null,
            "left": null,
            "margin": null,
            "max_height": null,
            "max_width": null,
            "min_height": null,
            "min_width": null,
            "object_fit": null,
            "object_position": null,
            "order": null,
            "overflow": null,
            "overflow_x": null,
            "overflow_y": null,
            "padding": null,
            "right": null,
            "top": null,
            "visibility": null,
            "width": null
          }
        },
        "9099c81cb7184a61bfcfd19f1b6849b3": {
          "model_module": "@jupyter-widgets/controls",
          "model_name": "DescriptionStyleModel",
          "model_module_version": "1.5.0",
          "state": {
            "_model_module": "@jupyter-widgets/controls",
            "_model_module_version": "1.5.0",
            "_model_name": "DescriptionStyleModel",
            "_view_count": null,
            "_view_module": "@jupyter-widgets/base",
            "_view_module_version": "1.2.0",
            "_view_name": "StyleView",
            "description_width": ""
          }
        },
        "58dcd30fd234458481800d32044e064d": {
          "model_module": "@jupyter-widgets/base",
          "model_name": "LayoutModel",
          "model_module_version": "1.2.0",
          "state": {
            "_model_module": "@jupyter-widgets/base",
            "_model_module_version": "1.2.0",
            "_model_name": "LayoutModel",
            "_view_count": null,
            "_view_module": "@jupyter-widgets/base",
            "_view_module_version": "1.2.0",
            "_view_name": "LayoutView",
            "align_content": null,
            "align_items": null,
            "align_self": null,
            "border": null,
            "bottom": null,
            "display": null,
            "flex": null,
            "flex_flow": null,
            "grid_area": null,
            "grid_auto_columns": null,
            "grid_auto_flow": null,
            "grid_auto_rows": null,
            "grid_column": null,
            "grid_gap": null,
            "grid_row": null,
            "grid_template_areas": null,
            "grid_template_columns": null,
            "grid_template_rows": null,
            "height": null,
            "justify_content": null,
            "justify_items": null,
            "left": null,
            "margin": null,
            "max_height": null,
            "max_width": null,
            "min_height": null,
            "min_width": null,
            "object_fit": null,
            "object_position": null,
            "order": null,
            "overflow": null,
            "overflow_x": null,
            "overflow_y": null,
            "padding": null,
            "right": null,
            "top": null,
            "visibility": null,
            "width": null
          }
        },
        "b285320bbe18419fb83b10f1f0628d0c": {
          "model_module": "@jupyter-widgets/controls",
          "model_name": "ProgressStyleModel",
          "model_module_version": "1.5.0",
          "state": {
            "_model_module": "@jupyter-widgets/controls",
            "_model_module_version": "1.5.0",
            "_model_name": "ProgressStyleModel",
            "_view_count": null,
            "_view_module": "@jupyter-widgets/base",
            "_view_module_version": "1.2.0",
            "_view_name": "StyleView",
            "bar_color": null,
            "description_width": ""
          }
        },
        "06032fef4130429591d4709151eea91b": {
          "model_module": "@jupyter-widgets/base",
          "model_name": "LayoutModel",
          "model_module_version": "1.2.0",
          "state": {
            "_model_module": "@jupyter-widgets/base",
            "_model_module_version": "1.2.0",
            "_model_name": "LayoutModel",
            "_view_count": null,
            "_view_module": "@jupyter-widgets/base",
            "_view_module_version": "1.2.0",
            "_view_name": "LayoutView",
            "align_content": null,
            "align_items": null,
            "align_self": null,
            "border": null,
            "bottom": null,
            "display": null,
            "flex": null,
            "flex_flow": null,
            "grid_area": null,
            "grid_auto_columns": null,
            "grid_auto_flow": null,
            "grid_auto_rows": null,
            "grid_column": null,
            "grid_gap": null,
            "grid_row": null,
            "grid_template_areas": null,
            "grid_template_columns": null,
            "grid_template_rows": null,
            "height": null,
            "justify_content": null,
            "justify_items": null,
            "left": null,
            "margin": null,
            "max_height": null,
            "max_width": null,
            "min_height": null,
            "min_width": null,
            "object_fit": null,
            "object_position": null,
            "order": null,
            "overflow": null,
            "overflow_x": null,
            "overflow_y": null,
            "padding": null,
            "right": null,
            "top": null,
            "visibility": null,
            "width": null
          }
        },
        "573494b9b5f344248fab255801c3ff3c": {
          "model_module": "@jupyter-widgets/controls",
          "model_name": "DescriptionStyleModel",
          "model_module_version": "1.5.0",
          "state": {
            "_model_module": "@jupyter-widgets/controls",
            "_model_module_version": "1.5.0",
            "_model_name": "DescriptionStyleModel",
            "_view_count": null,
            "_view_module": "@jupyter-widgets/base",
            "_view_module_version": "1.2.0",
            "_view_name": "StyleView",
            "description_width": ""
          }
        },
        "2ca5673e4fab449ebb68f60aa1a46eb2": {
          "model_module": "@jupyter-widgets/controls",
          "model_name": "HBoxModel",
          "model_module_version": "1.5.0",
          "state": {
            "_dom_classes": [],
            "_model_module": "@jupyter-widgets/controls",
            "_model_module_version": "1.5.0",
            "_model_name": "HBoxModel",
            "_view_count": null,
            "_view_module": "@jupyter-widgets/controls",
            "_view_module_version": "1.5.0",
            "_view_name": "HBoxView",
            "box_style": "",
            "children": [
              "IPY_MODEL_c1e8f941ba4f4cac8401b01dfde16459",
              "IPY_MODEL_a0704b698c9b41e7b6dff06f4b2863a7",
              "IPY_MODEL_87d6602fa74c4759a06c740f138fd6f8"
            ],
            "layout": "IPY_MODEL_ba4abee8a841410eb069f4477bd35dcb"
          }
        },
        "c1e8f941ba4f4cac8401b01dfde16459": {
          "model_module": "@jupyter-widgets/controls",
          "model_name": "HTMLModel",
          "model_module_version": "1.5.0",
          "state": {
            "_dom_classes": [],
            "_model_module": "@jupyter-widgets/controls",
            "_model_module_version": "1.5.0",
            "_model_name": "HTMLModel",
            "_view_count": null,
            "_view_module": "@jupyter-widgets/controls",
            "_view_module_version": "1.5.0",
            "_view_name": "HTMLView",
            "description": "",
            "description_tooltip": null,
            "layout": "IPY_MODEL_493bafdb4ced4569a447ed6a2963b2d7",
            "placeholder": "​",
            "style": "IPY_MODEL_38e97925d3d84eec8775eb36b1b0b5dd",
            "value": "Downloading pytorch_model.bin: 100%"
          }
        },
        "a0704b698c9b41e7b6dff06f4b2863a7": {
          "model_module": "@jupyter-widgets/controls",
          "model_name": "FloatProgressModel",
          "model_module_version": "1.5.0",
          "state": {
            "_dom_classes": [],
            "_model_module": "@jupyter-widgets/controls",
            "_model_module_version": "1.5.0",
            "_model_name": "FloatProgressModel",
            "_view_count": null,
            "_view_module": "@jupyter-widgets/controls",
            "_view_module_version": "1.5.0",
            "_view_name": "ProgressView",
            "bar_style": "success",
            "description": "",
            "description_tooltip": null,
            "layout": "IPY_MODEL_e05b626bc158473bbbffae9954904bdf",
            "max": 133508397,
            "min": 0,
            "orientation": "horizontal",
            "style": "IPY_MODEL_8b8cb1c78b8a404bad3597752188fbf7",
            "value": 133508397
          }
        },
        "87d6602fa74c4759a06c740f138fd6f8": {
          "model_module": "@jupyter-widgets/controls",
          "model_name": "HTMLModel",
          "model_module_version": "1.5.0",
          "state": {
            "_dom_classes": [],
            "_model_module": "@jupyter-widgets/controls",
            "_model_module_version": "1.5.0",
            "_model_name": "HTMLModel",
            "_view_count": null,
            "_view_module": "@jupyter-widgets/controls",
            "_view_module_version": "1.5.0",
            "_view_name": "HTMLView",
            "description": "",
            "description_tooltip": null,
            "layout": "IPY_MODEL_4ebb17eee8524dfcadec4356ee7c42f3",
            "placeholder": "​",
            "style": "IPY_MODEL_d5ef329dd8bd4a70b035e721e1a42b32",
            "value": " 134M/134M [00:07&lt;00:00, 21.0MB/s]"
          }
        },
        "ba4abee8a841410eb069f4477bd35dcb": {
          "model_module": "@jupyter-widgets/base",
          "model_name": "LayoutModel",
          "model_module_version": "1.2.0",
          "state": {
            "_model_module": "@jupyter-widgets/base",
            "_model_module_version": "1.2.0",
            "_model_name": "LayoutModel",
            "_view_count": null,
            "_view_module": "@jupyter-widgets/base",
            "_view_module_version": "1.2.0",
            "_view_name": "LayoutView",
            "align_content": null,
            "align_items": null,
            "align_self": null,
            "border": null,
            "bottom": null,
            "display": null,
            "flex": null,
            "flex_flow": null,
            "grid_area": null,
            "grid_auto_columns": null,
            "grid_auto_flow": null,
            "grid_auto_rows": null,
            "grid_column": null,
            "grid_gap": null,
            "grid_row": null,
            "grid_template_areas": null,
            "grid_template_columns": null,
            "grid_template_rows": null,
            "height": null,
            "justify_content": null,
            "justify_items": null,
            "left": null,
            "margin": null,
            "max_height": null,
            "max_width": null,
            "min_height": null,
            "min_width": null,
            "object_fit": null,
            "object_position": null,
            "order": null,
            "overflow": null,
            "overflow_x": null,
            "overflow_y": null,
            "padding": null,
            "right": null,
            "top": null,
            "visibility": null,
            "width": null
          }
        },
        "493bafdb4ced4569a447ed6a2963b2d7": {
          "model_module": "@jupyter-widgets/base",
          "model_name": "LayoutModel",
          "model_module_version": "1.2.0",
          "state": {
            "_model_module": "@jupyter-widgets/base",
            "_model_module_version": "1.2.0",
            "_model_name": "LayoutModel",
            "_view_count": null,
            "_view_module": "@jupyter-widgets/base",
            "_view_module_version": "1.2.0",
            "_view_name": "LayoutView",
            "align_content": null,
            "align_items": null,
            "align_self": null,
            "border": null,
            "bottom": null,
            "display": null,
            "flex": null,
            "flex_flow": null,
            "grid_area": null,
            "grid_auto_columns": null,
            "grid_auto_flow": null,
            "grid_auto_rows": null,
            "grid_column": null,
            "grid_gap": null,
            "grid_row": null,
            "grid_template_areas": null,
            "grid_template_columns": null,
            "grid_template_rows": null,
            "height": null,
            "justify_content": null,
            "justify_items": null,
            "left": null,
            "margin": null,
            "max_height": null,
            "max_width": null,
            "min_height": null,
            "min_width": null,
            "object_fit": null,
            "object_position": null,
            "order": null,
            "overflow": null,
            "overflow_x": null,
            "overflow_y": null,
            "padding": null,
            "right": null,
            "top": null,
            "visibility": null,
            "width": null
          }
        },
        "38e97925d3d84eec8775eb36b1b0b5dd": {
          "model_module": "@jupyter-widgets/controls",
          "model_name": "DescriptionStyleModel",
          "model_module_version": "1.5.0",
          "state": {
            "_model_module": "@jupyter-widgets/controls",
            "_model_module_version": "1.5.0",
            "_model_name": "DescriptionStyleModel",
            "_view_count": null,
            "_view_module": "@jupyter-widgets/base",
            "_view_module_version": "1.2.0",
            "_view_name": "StyleView",
            "description_width": ""
          }
        },
        "e05b626bc158473bbbffae9954904bdf": {
          "model_module": "@jupyter-widgets/base",
          "model_name": "LayoutModel",
          "model_module_version": "1.2.0",
          "state": {
            "_model_module": "@jupyter-widgets/base",
            "_model_module_version": "1.2.0",
            "_model_name": "LayoutModel",
            "_view_count": null,
            "_view_module": "@jupyter-widgets/base",
            "_view_module_version": "1.2.0",
            "_view_name": "LayoutView",
            "align_content": null,
            "align_items": null,
            "align_self": null,
            "border": null,
            "bottom": null,
            "display": null,
            "flex": null,
            "flex_flow": null,
            "grid_area": null,
            "grid_auto_columns": null,
            "grid_auto_flow": null,
            "grid_auto_rows": null,
            "grid_column": null,
            "grid_gap": null,
            "grid_row": null,
            "grid_template_areas": null,
            "grid_template_columns": null,
            "grid_template_rows": null,
            "height": null,
            "justify_content": null,
            "justify_items": null,
            "left": null,
            "margin": null,
            "max_height": null,
            "max_width": null,
            "min_height": null,
            "min_width": null,
            "object_fit": null,
            "object_position": null,
            "order": null,
            "overflow": null,
            "overflow_x": null,
            "overflow_y": null,
            "padding": null,
            "right": null,
            "top": null,
            "visibility": null,
            "width": null
          }
        },
        "8b8cb1c78b8a404bad3597752188fbf7": {
          "model_module": "@jupyter-widgets/controls",
          "model_name": "ProgressStyleModel",
          "model_module_version": "1.5.0",
          "state": {
            "_model_module": "@jupyter-widgets/controls",
            "_model_module_version": "1.5.0",
            "_model_name": "ProgressStyleModel",
            "_view_count": null,
            "_view_module": "@jupyter-widgets/base",
            "_view_module_version": "1.2.0",
            "_view_name": "StyleView",
            "bar_color": null,
            "description_width": ""
          }
        },
        "4ebb17eee8524dfcadec4356ee7c42f3": {
          "model_module": "@jupyter-widgets/base",
          "model_name": "LayoutModel",
          "model_module_version": "1.2.0",
          "state": {
            "_model_module": "@jupyter-widgets/base",
            "_model_module_version": "1.2.0",
            "_model_name": "LayoutModel",
            "_view_count": null,
            "_view_module": "@jupyter-widgets/base",
            "_view_module_version": "1.2.0",
            "_view_name": "LayoutView",
            "align_content": null,
            "align_items": null,
            "align_self": null,
            "border": null,
            "bottom": null,
            "display": null,
            "flex": null,
            "flex_flow": null,
            "grid_area": null,
            "grid_auto_columns": null,
            "grid_auto_flow": null,
            "grid_auto_rows": null,
            "grid_column": null,
            "grid_gap": null,
            "grid_row": null,
            "grid_template_areas": null,
            "grid_template_columns": null,
            "grid_template_rows": null,
            "height": null,
            "justify_content": null,
            "justify_items": null,
            "left": null,
            "margin": null,
            "max_height": null,
            "max_width": null,
            "min_height": null,
            "min_width": null,
            "object_fit": null,
            "object_position": null,
            "order": null,
            "overflow": null,
            "overflow_x": null,
            "overflow_y": null,
            "padding": null,
            "right": null,
            "top": null,
            "visibility": null,
            "width": null
          }
        },
        "d5ef329dd8bd4a70b035e721e1a42b32": {
          "model_module": "@jupyter-widgets/controls",
          "model_name": "DescriptionStyleModel",
          "model_module_version": "1.5.0",
          "state": {
            "_model_module": "@jupyter-widgets/controls",
            "_model_module_version": "1.5.0",
            "_model_name": "DescriptionStyleModel",
            "_view_count": null,
            "_view_module": "@jupyter-widgets/base",
            "_view_module_version": "1.2.0",
            "_view_name": "StyleView",
            "description_width": ""
          }
        },
        "24c7d4aa00734d57ad8b684f36df3bee": {
          "model_module": "@jupyter-widgets/controls",
          "model_name": "HBoxModel",
          "model_module_version": "1.5.0",
          "state": {
            "_dom_classes": [],
            "_model_module": "@jupyter-widgets/controls",
            "_model_module_version": "1.5.0",
            "_model_name": "HBoxModel",
            "_view_count": null,
            "_view_module": "@jupyter-widgets/controls",
            "_view_module_version": "1.5.0",
            "_view_name": "HBoxView",
            "box_style": "",
            "children": [
              "IPY_MODEL_6a8e94f831574aaa8e11d473ba43ffdb",
              "IPY_MODEL_74b72c332c0b4ed19e5bd4067266b2e6",
              "IPY_MODEL_4fe3e80f4c8544a0b11c76a717fc4189"
            ],
            "layout": "IPY_MODEL_b6a9fe0ee2164b3d96d2541be49efa3f"
          }
        },
        "6a8e94f831574aaa8e11d473ba43ffdb": {
          "model_module": "@jupyter-widgets/controls",
          "model_name": "HTMLModel",
          "model_module_version": "1.5.0",
          "state": {
            "_dom_classes": [],
            "_model_module": "@jupyter-widgets/controls",
            "_model_module_version": "1.5.0",
            "_model_name": "HTMLModel",
            "_view_count": null,
            "_view_module": "@jupyter-widgets/controls",
            "_view_module_version": "1.5.0",
            "_view_name": "HTMLView",
            "description": "",
            "description_tooltip": null,
            "layout": "IPY_MODEL_a28abdc596134a82aefb0b8ce8994559",
            "placeholder": "​",
            "style": "IPY_MODEL_03699581a5664520b2e4173263db07d5",
            "value": "Downloading (…)nce_bert_config.json: 100%"
          }
        },
        "74b72c332c0b4ed19e5bd4067266b2e6": {
          "model_module": "@jupyter-widgets/controls",
          "model_name": "FloatProgressModel",
          "model_module_version": "1.5.0",
          "state": {
            "_dom_classes": [],
            "_model_module": "@jupyter-widgets/controls",
            "_model_module_version": "1.5.0",
            "_model_name": "FloatProgressModel",
            "_view_count": null,
            "_view_module": "@jupyter-widgets/controls",
            "_view_module_version": "1.5.0",
            "_view_name": "ProgressView",
            "bar_style": "success",
            "description": "",
            "description_tooltip": null,
            "layout": "IPY_MODEL_670e183ee2514ce4b38f73839cdb1c9c",
            "max": 57,
            "min": 0,
            "orientation": "horizontal",
            "style": "IPY_MODEL_0499c4bf7da64874ae9b01202d1fee22",
            "value": 57
          }
        },
        "4fe3e80f4c8544a0b11c76a717fc4189": {
          "model_module": "@jupyter-widgets/controls",
          "model_name": "HTMLModel",
          "model_module_version": "1.5.0",
          "state": {
            "_dom_classes": [],
            "_model_module": "@jupyter-widgets/controls",
            "_model_module_version": "1.5.0",
            "_model_name": "HTMLModel",
            "_view_count": null,
            "_view_module": "@jupyter-widgets/controls",
            "_view_module_version": "1.5.0",
            "_view_name": "HTMLView",
            "description": "",
            "description_tooltip": null,
            "layout": "IPY_MODEL_3722886362fe454fa5ccac6d461d679b",
            "placeholder": "​",
            "style": "IPY_MODEL_992053bfbc4e4ea289fd904515f4ea1a",
            "value": " 57.0/57.0 [00:00&lt;00:00, 4.29kB/s]"
          }
        },
        "b6a9fe0ee2164b3d96d2541be49efa3f": {
          "model_module": "@jupyter-widgets/base",
          "model_name": "LayoutModel",
          "model_module_version": "1.2.0",
          "state": {
            "_model_module": "@jupyter-widgets/base",
            "_model_module_version": "1.2.0",
            "_model_name": "LayoutModel",
            "_view_count": null,
            "_view_module": "@jupyter-widgets/base",
            "_view_module_version": "1.2.0",
            "_view_name": "LayoutView",
            "align_content": null,
            "align_items": null,
            "align_self": null,
            "border": null,
            "bottom": null,
            "display": null,
            "flex": null,
            "flex_flow": null,
            "grid_area": null,
            "grid_auto_columns": null,
            "grid_auto_flow": null,
            "grid_auto_rows": null,
            "grid_column": null,
            "grid_gap": null,
            "grid_row": null,
            "grid_template_areas": null,
            "grid_template_columns": null,
            "grid_template_rows": null,
            "height": null,
            "justify_content": null,
            "justify_items": null,
            "left": null,
            "margin": null,
            "max_height": null,
            "max_width": null,
            "min_height": null,
            "min_width": null,
            "object_fit": null,
            "object_position": null,
            "order": null,
            "overflow": null,
            "overflow_x": null,
            "overflow_y": null,
            "padding": null,
            "right": null,
            "top": null,
            "visibility": null,
            "width": null
          }
        },
        "a28abdc596134a82aefb0b8ce8994559": {
          "model_module": "@jupyter-widgets/base",
          "model_name": "LayoutModel",
          "model_module_version": "1.2.0",
          "state": {
            "_model_module": "@jupyter-widgets/base",
            "_model_module_version": "1.2.0",
            "_model_name": "LayoutModel",
            "_view_count": null,
            "_view_module": "@jupyter-widgets/base",
            "_view_module_version": "1.2.0",
            "_view_name": "LayoutView",
            "align_content": null,
            "align_items": null,
            "align_self": null,
            "border": null,
            "bottom": null,
            "display": null,
            "flex": null,
            "flex_flow": null,
            "grid_area": null,
            "grid_auto_columns": null,
            "grid_auto_flow": null,
            "grid_auto_rows": null,
            "grid_column": null,
            "grid_gap": null,
            "grid_row": null,
            "grid_template_areas": null,
            "grid_template_columns": null,
            "grid_template_rows": null,
            "height": null,
            "justify_content": null,
            "justify_items": null,
            "left": null,
            "margin": null,
            "max_height": null,
            "max_width": null,
            "min_height": null,
            "min_width": null,
            "object_fit": null,
            "object_position": null,
            "order": null,
            "overflow": null,
            "overflow_x": null,
            "overflow_y": null,
            "padding": null,
            "right": null,
            "top": null,
            "visibility": null,
            "width": null
          }
        },
        "03699581a5664520b2e4173263db07d5": {
          "model_module": "@jupyter-widgets/controls",
          "model_name": "DescriptionStyleModel",
          "model_module_version": "1.5.0",
          "state": {
            "_model_module": "@jupyter-widgets/controls",
            "_model_module_version": "1.5.0",
            "_model_name": "DescriptionStyleModel",
            "_view_count": null,
            "_view_module": "@jupyter-widgets/base",
            "_view_module_version": "1.2.0",
            "_view_name": "StyleView",
            "description_width": ""
          }
        },
        "670e183ee2514ce4b38f73839cdb1c9c": {
          "model_module": "@jupyter-widgets/base",
          "model_name": "LayoutModel",
          "model_module_version": "1.2.0",
          "state": {
            "_model_module": "@jupyter-widgets/base",
            "_model_module_version": "1.2.0",
            "_model_name": "LayoutModel",
            "_view_count": null,
            "_view_module": "@jupyter-widgets/base",
            "_view_module_version": "1.2.0",
            "_view_name": "LayoutView",
            "align_content": null,
            "align_items": null,
            "align_self": null,
            "border": null,
            "bottom": null,
            "display": null,
            "flex": null,
            "flex_flow": null,
            "grid_area": null,
            "grid_auto_columns": null,
            "grid_auto_flow": null,
            "grid_auto_rows": null,
            "grid_column": null,
            "grid_gap": null,
            "grid_row": null,
            "grid_template_areas": null,
            "grid_template_columns": null,
            "grid_template_rows": null,
            "height": null,
            "justify_content": null,
            "justify_items": null,
            "left": null,
            "margin": null,
            "max_height": null,
            "max_width": null,
            "min_height": null,
            "min_width": null,
            "object_fit": null,
            "object_position": null,
            "order": null,
            "overflow": null,
            "overflow_x": null,
            "overflow_y": null,
            "padding": null,
            "right": null,
            "top": null,
            "visibility": null,
            "width": null
          }
        },
        "0499c4bf7da64874ae9b01202d1fee22": {
          "model_module": "@jupyter-widgets/controls",
          "model_name": "ProgressStyleModel",
          "model_module_version": "1.5.0",
          "state": {
            "_model_module": "@jupyter-widgets/controls",
            "_model_module_version": "1.5.0",
            "_model_name": "ProgressStyleModel",
            "_view_count": null,
            "_view_module": "@jupyter-widgets/base",
            "_view_module_version": "1.2.0",
            "_view_name": "StyleView",
            "bar_color": null,
            "description_width": ""
          }
        },
        "3722886362fe454fa5ccac6d461d679b": {
          "model_module": "@jupyter-widgets/base",
          "model_name": "LayoutModel",
          "model_module_version": "1.2.0",
          "state": {
            "_model_module": "@jupyter-widgets/base",
            "_model_module_version": "1.2.0",
            "_model_name": "LayoutModel",
            "_view_count": null,
            "_view_module": "@jupyter-widgets/base",
            "_view_module_version": "1.2.0",
            "_view_name": "LayoutView",
            "align_content": null,
            "align_items": null,
            "align_self": null,
            "border": null,
            "bottom": null,
            "display": null,
            "flex": null,
            "flex_flow": null,
            "grid_area": null,
            "grid_auto_columns": null,
            "grid_auto_flow": null,
            "grid_auto_rows": null,
            "grid_column": null,
            "grid_gap": null,
            "grid_row": null,
            "grid_template_areas": null,
            "grid_template_columns": null,
            "grid_template_rows": null,
            "height": null,
            "justify_content": null,
            "justify_items": null,
            "left": null,
            "margin": null,
            "max_height": null,
            "max_width": null,
            "min_height": null,
            "min_width": null,
            "object_fit": null,
            "object_position": null,
            "order": null,
            "overflow": null,
            "overflow_x": null,
            "overflow_y": null,
            "padding": null,
            "right": null,
            "top": null,
            "visibility": null,
            "width": null
          }
        },
        "992053bfbc4e4ea289fd904515f4ea1a": {
          "model_module": "@jupyter-widgets/controls",
          "model_name": "DescriptionStyleModel",
          "model_module_version": "1.5.0",
          "state": {
            "_model_module": "@jupyter-widgets/controls",
            "_model_module_version": "1.5.0",
            "_model_name": "DescriptionStyleModel",
            "_view_count": null,
            "_view_module": "@jupyter-widgets/base",
            "_view_module_version": "1.2.0",
            "_view_name": "StyleView",
            "description_width": ""
          }
        },
        "4384ba0734b0499b9758fff70d38858e": {
          "model_module": "@jupyter-widgets/controls",
          "model_name": "HBoxModel",
          "model_module_version": "1.5.0",
          "state": {
            "_dom_classes": [],
            "_model_module": "@jupyter-widgets/controls",
            "_model_module_version": "1.5.0",
            "_model_name": "HBoxModel",
            "_view_count": null,
            "_view_module": "@jupyter-widgets/controls",
            "_view_module_version": "1.5.0",
            "_view_name": "HBoxView",
            "box_style": "",
            "children": [
              "IPY_MODEL_a1fb11984bbe4f039fbd8bc4479ac7c1",
              "IPY_MODEL_9b7184ea60174369a18f70e4accbc33a",
              "IPY_MODEL_1238549f77d442c7a5efdb38285ddee5"
            ],
            "layout": "IPY_MODEL_4f0c2a549f2f44c9ad00bbb1088adfdd"
          }
        },
        "a1fb11984bbe4f039fbd8bc4479ac7c1": {
          "model_module": "@jupyter-widgets/controls",
          "model_name": "HTMLModel",
          "model_module_version": "1.5.0",
          "state": {
            "_dom_classes": [],
            "_model_module": "@jupyter-widgets/controls",
            "_model_module_version": "1.5.0",
            "_model_name": "HTMLModel",
            "_view_count": null,
            "_view_module": "@jupyter-widgets/controls",
            "_view_module_version": "1.5.0",
            "_view_name": "HTMLView",
            "description": "",
            "description_tooltip": null,
            "layout": "IPY_MODEL_df24d2d4d7ab4ce1b9ff755d32d297a8",
            "placeholder": "​",
            "style": "IPY_MODEL_d1fc986748e84ea9bc8f217dbd9926cb",
            "value": "Downloading (…)cial_tokens_map.json: 100%"
          }
        },
        "9b7184ea60174369a18f70e4accbc33a": {
          "model_module": "@jupyter-widgets/controls",
          "model_name": "FloatProgressModel",
          "model_module_version": "1.5.0",
          "state": {
            "_dom_classes": [],
            "_model_module": "@jupyter-widgets/controls",
            "_model_module_version": "1.5.0",
            "_model_name": "FloatProgressModel",
            "_view_count": null,
            "_view_module": "@jupyter-widgets/controls",
            "_view_module_version": "1.5.0",
            "_view_name": "ProgressView",
            "bar_style": "success",
            "description": "",
            "description_tooltip": null,
            "layout": "IPY_MODEL_313b0387932142318a0ecd3cd8bb01a7",
            "max": 125,
            "min": 0,
            "orientation": "horizontal",
            "style": "IPY_MODEL_7ffc9954d4f449bb930d335da20523f9",
            "value": 125
          }
        },
        "1238549f77d442c7a5efdb38285ddee5": {
          "model_module": "@jupyter-widgets/controls",
          "model_name": "HTMLModel",
          "model_module_version": "1.5.0",
          "state": {
            "_dom_classes": [],
            "_model_module": "@jupyter-widgets/controls",
            "_model_module_version": "1.5.0",
            "_model_name": "HTMLModel",
            "_view_count": null,
            "_view_module": "@jupyter-widgets/controls",
            "_view_module_version": "1.5.0",
            "_view_name": "HTMLView",
            "description": "",
            "description_tooltip": null,
            "layout": "IPY_MODEL_5ad03772b30e4d00b360e4941e6dafca",
            "placeholder": "​",
            "style": "IPY_MODEL_4869fbaaf50b4b32914bc56592ea3cad",
            "value": " 125/125 [00:00&lt;00:00, 9.68kB/s]"
          }
        },
        "4f0c2a549f2f44c9ad00bbb1088adfdd": {
          "model_module": "@jupyter-widgets/base",
          "model_name": "LayoutModel",
          "model_module_version": "1.2.0",
          "state": {
            "_model_module": "@jupyter-widgets/base",
            "_model_module_version": "1.2.0",
            "_model_name": "LayoutModel",
            "_view_count": null,
            "_view_module": "@jupyter-widgets/base",
            "_view_module_version": "1.2.0",
            "_view_name": "LayoutView",
            "align_content": null,
            "align_items": null,
            "align_self": null,
            "border": null,
            "bottom": null,
            "display": null,
            "flex": null,
            "flex_flow": null,
            "grid_area": null,
            "grid_auto_columns": null,
            "grid_auto_flow": null,
            "grid_auto_rows": null,
            "grid_column": null,
            "grid_gap": null,
            "grid_row": null,
            "grid_template_areas": null,
            "grid_template_columns": null,
            "grid_template_rows": null,
            "height": null,
            "justify_content": null,
            "justify_items": null,
            "left": null,
            "margin": null,
            "max_height": null,
            "max_width": null,
            "min_height": null,
            "min_width": null,
            "object_fit": null,
            "object_position": null,
            "order": null,
            "overflow": null,
            "overflow_x": null,
            "overflow_y": null,
            "padding": null,
            "right": null,
            "top": null,
            "visibility": null,
            "width": null
          }
        },
        "df24d2d4d7ab4ce1b9ff755d32d297a8": {
          "model_module": "@jupyter-widgets/base",
          "model_name": "LayoutModel",
          "model_module_version": "1.2.0",
          "state": {
            "_model_module": "@jupyter-widgets/base",
            "_model_module_version": "1.2.0",
            "_model_name": "LayoutModel",
            "_view_count": null,
            "_view_module": "@jupyter-widgets/base",
            "_view_module_version": "1.2.0",
            "_view_name": "LayoutView",
            "align_content": null,
            "align_items": null,
            "align_self": null,
            "border": null,
            "bottom": null,
            "display": null,
            "flex": null,
            "flex_flow": null,
            "grid_area": null,
            "grid_auto_columns": null,
            "grid_auto_flow": null,
            "grid_auto_rows": null,
            "grid_column": null,
            "grid_gap": null,
            "grid_row": null,
            "grid_template_areas": null,
            "grid_template_columns": null,
            "grid_template_rows": null,
            "height": null,
            "justify_content": null,
            "justify_items": null,
            "left": null,
            "margin": null,
            "max_height": null,
            "max_width": null,
            "min_height": null,
            "min_width": null,
            "object_fit": null,
            "object_position": null,
            "order": null,
            "overflow": null,
            "overflow_x": null,
            "overflow_y": null,
            "padding": null,
            "right": null,
            "top": null,
            "visibility": null,
            "width": null
          }
        },
        "d1fc986748e84ea9bc8f217dbd9926cb": {
          "model_module": "@jupyter-widgets/controls",
          "model_name": "DescriptionStyleModel",
          "model_module_version": "1.5.0",
          "state": {
            "_model_module": "@jupyter-widgets/controls",
            "_model_module_version": "1.5.0",
            "_model_name": "DescriptionStyleModel",
            "_view_count": null,
            "_view_module": "@jupyter-widgets/base",
            "_view_module_version": "1.2.0",
            "_view_name": "StyleView",
            "description_width": ""
          }
        },
        "313b0387932142318a0ecd3cd8bb01a7": {
          "model_module": "@jupyter-widgets/base",
          "model_name": "LayoutModel",
          "model_module_version": "1.2.0",
          "state": {
            "_model_module": "@jupyter-widgets/base",
            "_model_module_version": "1.2.0",
            "_model_name": "LayoutModel",
            "_view_count": null,
            "_view_module": "@jupyter-widgets/base",
            "_view_module_version": "1.2.0",
            "_view_name": "LayoutView",
            "align_content": null,
            "align_items": null,
            "align_self": null,
            "border": null,
            "bottom": null,
            "display": null,
            "flex": null,
            "flex_flow": null,
            "grid_area": null,
            "grid_auto_columns": null,
            "grid_auto_flow": null,
            "grid_auto_rows": null,
            "grid_column": null,
            "grid_gap": null,
            "grid_row": null,
            "grid_template_areas": null,
            "grid_template_columns": null,
            "grid_template_rows": null,
            "height": null,
            "justify_content": null,
            "justify_items": null,
            "left": null,
            "margin": null,
            "max_height": null,
            "max_width": null,
            "min_height": null,
            "min_width": null,
            "object_fit": null,
            "object_position": null,
            "order": null,
            "overflow": null,
            "overflow_x": null,
            "overflow_y": null,
            "padding": null,
            "right": null,
            "top": null,
            "visibility": null,
            "width": null
          }
        },
        "7ffc9954d4f449bb930d335da20523f9": {
          "model_module": "@jupyter-widgets/controls",
          "model_name": "ProgressStyleModel",
          "model_module_version": "1.5.0",
          "state": {
            "_model_module": "@jupyter-widgets/controls",
            "_model_module_version": "1.5.0",
            "_model_name": "ProgressStyleModel",
            "_view_count": null,
            "_view_module": "@jupyter-widgets/base",
            "_view_module_version": "1.2.0",
            "_view_name": "StyleView",
            "bar_color": null,
            "description_width": ""
          }
        },
        "5ad03772b30e4d00b360e4941e6dafca": {
          "model_module": "@jupyter-widgets/base",
          "model_name": "LayoutModel",
          "model_module_version": "1.2.0",
          "state": {
            "_model_module": "@jupyter-widgets/base",
            "_model_module_version": "1.2.0",
            "_model_name": "LayoutModel",
            "_view_count": null,
            "_view_module": "@jupyter-widgets/base",
            "_view_module_version": "1.2.0",
            "_view_name": "LayoutView",
            "align_content": null,
            "align_items": null,
            "align_self": null,
            "border": null,
            "bottom": null,
            "display": null,
            "flex": null,
            "flex_flow": null,
            "grid_area": null,
            "grid_auto_columns": null,
            "grid_auto_flow": null,
            "grid_auto_rows": null,
            "grid_column": null,
            "grid_gap": null,
            "grid_row": null,
            "grid_template_areas": null,
            "grid_template_columns": null,
            "grid_template_rows": null,
            "height": null,
            "justify_content": null,
            "justify_items": null,
            "left": null,
            "margin": null,
            "max_height": null,
            "max_width": null,
            "min_height": null,
            "min_width": null,
            "object_fit": null,
            "object_position": null,
            "order": null,
            "overflow": null,
            "overflow_x": null,
            "overflow_y": null,
            "padding": null,
            "right": null,
            "top": null,
            "visibility": null,
            "width": null
          }
        },
        "4869fbaaf50b4b32914bc56592ea3cad": {
          "model_module": "@jupyter-widgets/controls",
          "model_name": "DescriptionStyleModel",
          "model_module_version": "1.5.0",
          "state": {
            "_model_module": "@jupyter-widgets/controls",
            "_model_module_version": "1.5.0",
            "_model_name": "DescriptionStyleModel",
            "_view_count": null,
            "_view_module": "@jupyter-widgets/base",
            "_view_module_version": "1.2.0",
            "_view_name": "StyleView",
            "description_width": ""
          }
        },
        "747346035823436289be6fe3e4f82af6": {
          "model_module": "@jupyter-widgets/controls",
          "model_name": "HBoxModel",
          "model_module_version": "1.5.0",
          "state": {
            "_dom_classes": [],
            "_model_module": "@jupyter-widgets/controls",
            "_model_module_version": "1.5.0",
            "_model_name": "HBoxModel",
            "_view_count": null,
            "_view_module": "@jupyter-widgets/controls",
            "_view_module_version": "1.5.0",
            "_view_name": "HBoxView",
            "box_style": "",
            "children": [
              "IPY_MODEL_9630c9f9316c4f2b8bdec6591abb6676",
              "IPY_MODEL_4e22cc7ce2a34567b1d40addfe7465f8",
              "IPY_MODEL_2f632b91c61d40b4b22569d4857c81e3"
            ],
            "layout": "IPY_MODEL_08741aefe304402a99f2d9f5ccf43efc"
          }
        },
        "9630c9f9316c4f2b8bdec6591abb6676": {
          "model_module": "@jupyter-widgets/controls",
          "model_name": "HTMLModel",
          "model_module_version": "1.5.0",
          "state": {
            "_dom_classes": [],
            "_model_module": "@jupyter-widgets/controls",
            "_model_module_version": "1.5.0",
            "_model_name": "HTMLModel",
            "_view_count": null,
            "_view_module": "@jupyter-widgets/controls",
            "_view_module_version": "1.5.0",
            "_view_name": "HTMLView",
            "description": "",
            "description_tooltip": null,
            "layout": "IPY_MODEL_6bd746908c284ec1bfc93d044503f9c9",
            "placeholder": "​",
            "style": "IPY_MODEL_4426e36746694d0d8daf7895e6f30150",
            "value": "Downloading (…)60cb8/tokenizer.json: 100%"
          }
        },
        "4e22cc7ce2a34567b1d40addfe7465f8": {
          "model_module": "@jupyter-widgets/controls",
          "model_name": "FloatProgressModel",
          "model_module_version": "1.5.0",
          "state": {
            "_dom_classes": [],
            "_model_module": "@jupyter-widgets/controls",
            "_model_module_version": "1.5.0",
            "_model_name": "FloatProgressModel",
            "_view_count": null,
            "_view_module": "@jupyter-widgets/controls",
            "_view_module_version": "1.5.0",
            "_view_name": "ProgressView",
            "bar_style": "success",
            "description": "",
            "description_tooltip": null,
            "layout": "IPY_MODEL_dfb2f76370024d5f9669393ec826b639",
            "max": 711396,
            "min": 0,
            "orientation": "horizontal",
            "style": "IPY_MODEL_a67ea528d0e34cbea3bf419e7ecdba9a",
            "value": 711396
          }
        },
        "2f632b91c61d40b4b22569d4857c81e3": {
          "model_module": "@jupyter-widgets/controls",
          "model_name": "HTMLModel",
          "model_module_version": "1.5.0",
          "state": {
            "_dom_classes": [],
            "_model_module": "@jupyter-widgets/controls",
            "_model_module_version": "1.5.0",
            "_model_name": "HTMLModel",
            "_view_count": null,
            "_view_module": "@jupyter-widgets/controls",
            "_view_module_version": "1.5.0",
            "_view_name": "HTMLView",
            "description": "",
            "description_tooltip": null,
            "layout": "IPY_MODEL_1ac1acf2cbc8440a938e716703f6f87d",
            "placeholder": "​",
            "style": "IPY_MODEL_9951c1e46519430dbae03338dc45ba7c",
            "value": " 711k/711k [00:00&lt;00:00, 1.03MB/s]"
          }
        },
        "08741aefe304402a99f2d9f5ccf43efc": {
          "model_module": "@jupyter-widgets/base",
          "model_name": "LayoutModel",
          "model_module_version": "1.2.0",
          "state": {
            "_model_module": "@jupyter-widgets/base",
            "_model_module_version": "1.2.0",
            "_model_name": "LayoutModel",
            "_view_count": null,
            "_view_module": "@jupyter-widgets/base",
            "_view_module_version": "1.2.0",
            "_view_name": "LayoutView",
            "align_content": null,
            "align_items": null,
            "align_self": null,
            "border": null,
            "bottom": null,
            "display": null,
            "flex": null,
            "flex_flow": null,
            "grid_area": null,
            "grid_auto_columns": null,
            "grid_auto_flow": null,
            "grid_auto_rows": null,
            "grid_column": null,
            "grid_gap": null,
            "grid_row": null,
            "grid_template_areas": null,
            "grid_template_columns": null,
            "grid_template_rows": null,
            "height": null,
            "justify_content": null,
            "justify_items": null,
            "left": null,
            "margin": null,
            "max_height": null,
            "max_width": null,
            "min_height": null,
            "min_width": null,
            "object_fit": null,
            "object_position": null,
            "order": null,
            "overflow": null,
            "overflow_x": null,
            "overflow_y": null,
            "padding": null,
            "right": null,
            "top": null,
            "visibility": null,
            "width": null
          }
        },
        "6bd746908c284ec1bfc93d044503f9c9": {
          "model_module": "@jupyter-widgets/base",
          "model_name": "LayoutModel",
          "model_module_version": "1.2.0",
          "state": {
            "_model_module": "@jupyter-widgets/base",
            "_model_module_version": "1.2.0",
            "_model_name": "LayoutModel",
            "_view_count": null,
            "_view_module": "@jupyter-widgets/base",
            "_view_module_version": "1.2.0",
            "_view_name": "LayoutView",
            "align_content": null,
            "align_items": null,
            "align_self": null,
            "border": null,
            "bottom": null,
            "display": null,
            "flex": null,
            "flex_flow": null,
            "grid_area": null,
            "grid_auto_columns": null,
            "grid_auto_flow": null,
            "grid_auto_rows": null,
            "grid_column": null,
            "grid_gap": null,
            "grid_row": null,
            "grid_template_areas": null,
            "grid_template_columns": null,
            "grid_template_rows": null,
            "height": null,
            "justify_content": null,
            "justify_items": null,
            "left": null,
            "margin": null,
            "max_height": null,
            "max_width": null,
            "min_height": null,
            "min_width": null,
            "object_fit": null,
            "object_position": null,
            "order": null,
            "overflow": null,
            "overflow_x": null,
            "overflow_y": null,
            "padding": null,
            "right": null,
            "top": null,
            "visibility": null,
            "width": null
          }
        },
        "4426e36746694d0d8daf7895e6f30150": {
          "model_module": "@jupyter-widgets/controls",
          "model_name": "DescriptionStyleModel",
          "model_module_version": "1.5.0",
          "state": {
            "_model_module": "@jupyter-widgets/controls",
            "_model_module_version": "1.5.0",
            "_model_name": "DescriptionStyleModel",
            "_view_count": null,
            "_view_module": "@jupyter-widgets/base",
            "_view_module_version": "1.2.0",
            "_view_name": "StyleView",
            "description_width": ""
          }
        },
        "dfb2f76370024d5f9669393ec826b639": {
          "model_module": "@jupyter-widgets/base",
          "model_name": "LayoutModel",
          "model_module_version": "1.2.0",
          "state": {
            "_model_module": "@jupyter-widgets/base",
            "_model_module_version": "1.2.0",
            "_model_name": "LayoutModel",
            "_view_count": null,
            "_view_module": "@jupyter-widgets/base",
            "_view_module_version": "1.2.0",
            "_view_name": "LayoutView",
            "align_content": null,
            "align_items": null,
            "align_self": null,
            "border": null,
            "bottom": null,
            "display": null,
            "flex": null,
            "flex_flow": null,
            "grid_area": null,
            "grid_auto_columns": null,
            "grid_auto_flow": null,
            "grid_auto_rows": null,
            "grid_column": null,
            "grid_gap": null,
            "grid_row": null,
            "grid_template_areas": null,
            "grid_template_columns": null,
            "grid_template_rows": null,
            "height": null,
            "justify_content": null,
            "justify_items": null,
            "left": null,
            "margin": null,
            "max_height": null,
            "max_width": null,
            "min_height": null,
            "min_width": null,
            "object_fit": null,
            "object_position": null,
            "order": null,
            "overflow": null,
            "overflow_x": null,
            "overflow_y": null,
            "padding": null,
            "right": null,
            "top": null,
            "visibility": null,
            "width": null
          }
        },
        "a67ea528d0e34cbea3bf419e7ecdba9a": {
          "model_module": "@jupyter-widgets/controls",
          "model_name": "ProgressStyleModel",
          "model_module_version": "1.5.0",
          "state": {
            "_model_module": "@jupyter-widgets/controls",
            "_model_module_version": "1.5.0",
            "_model_name": "ProgressStyleModel",
            "_view_count": null,
            "_view_module": "@jupyter-widgets/base",
            "_view_module_version": "1.2.0",
            "_view_name": "StyleView",
            "bar_color": null,
            "description_width": ""
          }
        },
        "1ac1acf2cbc8440a938e716703f6f87d": {
          "model_module": "@jupyter-widgets/base",
          "model_name": "LayoutModel",
          "model_module_version": "1.2.0",
          "state": {
            "_model_module": "@jupyter-widgets/base",
            "_model_module_version": "1.2.0",
            "_model_name": "LayoutModel",
            "_view_count": null,
            "_view_module": "@jupyter-widgets/base",
            "_view_module_version": "1.2.0",
            "_view_name": "LayoutView",
            "align_content": null,
            "align_items": null,
            "align_self": null,
            "border": null,
            "bottom": null,
            "display": null,
            "flex": null,
            "flex_flow": null,
            "grid_area": null,
            "grid_auto_columns": null,
            "grid_auto_flow": null,
            "grid_auto_rows": null,
            "grid_column": null,
            "grid_gap": null,
            "grid_row": null,
            "grid_template_areas": null,
            "grid_template_columns": null,
            "grid_template_rows": null,
            "height": null,
            "justify_content": null,
            "justify_items": null,
            "left": null,
            "margin": null,
            "max_height": null,
            "max_width": null,
            "min_height": null,
            "min_width": null,
            "object_fit": null,
            "object_position": null,
            "order": null,
            "overflow": null,
            "overflow_x": null,
            "overflow_y": null,
            "padding": null,
            "right": null,
            "top": null,
            "visibility": null,
            "width": null
          }
        },
        "9951c1e46519430dbae03338dc45ba7c": {
          "model_module": "@jupyter-widgets/controls",
          "model_name": "DescriptionStyleModel",
          "model_module_version": "1.5.0",
          "state": {
            "_model_module": "@jupyter-widgets/controls",
            "_model_module_version": "1.5.0",
            "_model_name": "DescriptionStyleModel",
            "_view_count": null,
            "_view_module": "@jupyter-widgets/base",
            "_view_module_version": "1.2.0",
            "_view_name": "StyleView",
            "description_width": ""
          }
        },
        "71dbed1bc59e49ce9250ee706e66967a": {
          "model_module": "@jupyter-widgets/controls",
          "model_name": "HBoxModel",
          "model_module_version": "1.5.0",
          "state": {
            "_dom_classes": [],
            "_model_module": "@jupyter-widgets/controls",
            "_model_module_version": "1.5.0",
            "_model_name": "HBoxModel",
            "_view_count": null,
            "_view_module": "@jupyter-widgets/controls",
            "_view_module_version": "1.5.0",
            "_view_name": "HBoxView",
            "box_style": "",
            "children": [
              "IPY_MODEL_f593e565bf44404c8e606de1ec3778dd",
              "IPY_MODEL_19c95be07a28499f8a6c148013731646",
              "IPY_MODEL_13ce1560f92d4456b2bdc1430ddc950b"
            ],
            "layout": "IPY_MODEL_85b45dd035144dcbaabd8a12091d67f2"
          }
        },
        "f593e565bf44404c8e606de1ec3778dd": {
          "model_module": "@jupyter-widgets/controls",
          "model_name": "HTMLModel",
          "model_module_version": "1.5.0",
          "state": {
            "_dom_classes": [],
            "_model_module": "@jupyter-widgets/controls",
            "_model_module_version": "1.5.0",
            "_model_name": "HTMLModel",
            "_view_count": null,
            "_view_module": "@jupyter-widgets/controls",
            "_view_module_version": "1.5.0",
            "_view_name": "HTMLView",
            "description": "",
            "description_tooltip": null,
            "layout": "IPY_MODEL_79b1b8ea3c6b4b1bbb74a189f568e9ef",
            "placeholder": "​",
            "style": "IPY_MODEL_45909356a3bf44d4b4681b4a202bfeed",
            "value": "Downloading (…)okenizer_config.json: 100%"
          }
        },
        "19c95be07a28499f8a6c148013731646": {
          "model_module": "@jupyter-widgets/controls",
          "model_name": "FloatProgressModel",
          "model_module_version": "1.5.0",
          "state": {
            "_dom_classes": [],
            "_model_module": "@jupyter-widgets/controls",
            "_model_module_version": "1.5.0",
            "_model_name": "FloatProgressModel",
            "_view_count": null,
            "_view_module": "@jupyter-widgets/controls",
            "_view_module_version": "1.5.0",
            "_view_name": "ProgressView",
            "bar_style": "success",
            "description": "",
            "description_tooltip": null,
            "layout": "IPY_MODEL_fe3210a30c9e4d8699c7de9f4e256dca",
            "max": 394,
            "min": 0,
            "orientation": "horizontal",
            "style": "IPY_MODEL_b26badf7d43b486e8884c64c0a4c4f87",
            "value": 394
          }
        },
        "13ce1560f92d4456b2bdc1430ddc950b": {
          "model_module": "@jupyter-widgets/controls",
          "model_name": "HTMLModel",
          "model_module_version": "1.5.0",
          "state": {
            "_dom_classes": [],
            "_model_module": "@jupyter-widgets/controls",
            "_model_module_version": "1.5.0",
            "_model_name": "HTMLModel",
            "_view_count": null,
            "_view_module": "@jupyter-widgets/controls",
            "_view_module_version": "1.5.0",
            "_view_name": "HTMLView",
            "description": "",
            "description_tooltip": null,
            "layout": "IPY_MODEL_53a01aa1e81a49deb87150593c57b828",
            "placeholder": "​",
            "style": "IPY_MODEL_176540343e33426da5bd52a3a4915b6d",
            "value": " 394/394 [00:00&lt;00:00, 32.7kB/s]"
          }
        },
        "85b45dd035144dcbaabd8a12091d67f2": {
          "model_module": "@jupyter-widgets/base",
          "model_name": "LayoutModel",
          "model_module_version": "1.2.0",
          "state": {
            "_model_module": "@jupyter-widgets/base",
            "_model_module_version": "1.2.0",
            "_model_name": "LayoutModel",
            "_view_count": null,
            "_view_module": "@jupyter-widgets/base",
            "_view_module_version": "1.2.0",
            "_view_name": "LayoutView",
            "align_content": null,
            "align_items": null,
            "align_self": null,
            "border": null,
            "bottom": null,
            "display": null,
            "flex": null,
            "flex_flow": null,
            "grid_area": null,
            "grid_auto_columns": null,
            "grid_auto_flow": null,
            "grid_auto_rows": null,
            "grid_column": null,
            "grid_gap": null,
            "grid_row": null,
            "grid_template_areas": null,
            "grid_template_columns": null,
            "grid_template_rows": null,
            "height": null,
            "justify_content": null,
            "justify_items": null,
            "left": null,
            "margin": null,
            "max_height": null,
            "max_width": null,
            "min_height": null,
            "min_width": null,
            "object_fit": null,
            "object_position": null,
            "order": null,
            "overflow": null,
            "overflow_x": null,
            "overflow_y": null,
            "padding": null,
            "right": null,
            "top": null,
            "visibility": null,
            "width": null
          }
        },
        "79b1b8ea3c6b4b1bbb74a189f568e9ef": {
          "model_module": "@jupyter-widgets/base",
          "model_name": "LayoutModel",
          "model_module_version": "1.2.0",
          "state": {
            "_model_module": "@jupyter-widgets/base",
            "_model_module_version": "1.2.0",
            "_model_name": "LayoutModel",
            "_view_count": null,
            "_view_module": "@jupyter-widgets/base",
            "_view_module_version": "1.2.0",
            "_view_name": "LayoutView",
            "align_content": null,
            "align_items": null,
            "align_self": null,
            "border": null,
            "bottom": null,
            "display": null,
            "flex": null,
            "flex_flow": null,
            "grid_area": null,
            "grid_auto_columns": null,
            "grid_auto_flow": null,
            "grid_auto_rows": null,
            "grid_column": null,
            "grid_gap": null,
            "grid_row": null,
            "grid_template_areas": null,
            "grid_template_columns": null,
            "grid_template_rows": null,
            "height": null,
            "justify_content": null,
            "justify_items": null,
            "left": null,
            "margin": null,
            "max_height": null,
            "max_width": null,
            "min_height": null,
            "min_width": null,
            "object_fit": null,
            "object_position": null,
            "order": null,
            "overflow": null,
            "overflow_x": null,
            "overflow_y": null,
            "padding": null,
            "right": null,
            "top": null,
            "visibility": null,
            "width": null
          }
        },
        "45909356a3bf44d4b4681b4a202bfeed": {
          "model_module": "@jupyter-widgets/controls",
          "model_name": "DescriptionStyleModel",
          "model_module_version": "1.5.0",
          "state": {
            "_model_module": "@jupyter-widgets/controls",
            "_model_module_version": "1.5.0",
            "_model_name": "DescriptionStyleModel",
            "_view_count": null,
            "_view_module": "@jupyter-widgets/base",
            "_view_module_version": "1.2.0",
            "_view_name": "StyleView",
            "description_width": ""
          }
        },
        "fe3210a30c9e4d8699c7de9f4e256dca": {
          "model_module": "@jupyter-widgets/base",
          "model_name": "LayoutModel",
          "model_module_version": "1.2.0",
          "state": {
            "_model_module": "@jupyter-widgets/base",
            "_model_module_version": "1.2.0",
            "_model_name": "LayoutModel",
            "_view_count": null,
            "_view_module": "@jupyter-widgets/base",
            "_view_module_version": "1.2.0",
            "_view_name": "LayoutView",
            "align_content": null,
            "align_items": null,
            "align_self": null,
            "border": null,
            "bottom": null,
            "display": null,
            "flex": null,
            "flex_flow": null,
            "grid_area": null,
            "grid_auto_columns": null,
            "grid_auto_flow": null,
            "grid_auto_rows": null,
            "grid_column": null,
            "grid_gap": null,
            "grid_row": null,
            "grid_template_areas": null,
            "grid_template_columns": null,
            "grid_template_rows": null,
            "height": null,
            "justify_content": null,
            "justify_items": null,
            "left": null,
            "margin": null,
            "max_height": null,
            "max_width": null,
            "min_height": null,
            "min_width": null,
            "object_fit": null,
            "object_position": null,
            "order": null,
            "overflow": null,
            "overflow_x": null,
            "overflow_y": null,
            "padding": null,
            "right": null,
            "top": null,
            "visibility": null,
            "width": null
          }
        },
        "b26badf7d43b486e8884c64c0a4c4f87": {
          "model_module": "@jupyter-widgets/controls",
          "model_name": "ProgressStyleModel",
          "model_module_version": "1.5.0",
          "state": {
            "_model_module": "@jupyter-widgets/controls",
            "_model_module_version": "1.5.0",
            "_model_name": "ProgressStyleModel",
            "_view_count": null,
            "_view_module": "@jupyter-widgets/base",
            "_view_module_version": "1.2.0",
            "_view_name": "StyleView",
            "bar_color": null,
            "description_width": ""
          }
        },
        "53a01aa1e81a49deb87150593c57b828": {
          "model_module": "@jupyter-widgets/base",
          "model_name": "LayoutModel",
          "model_module_version": "1.2.0",
          "state": {
            "_model_module": "@jupyter-widgets/base",
            "_model_module_version": "1.2.0",
            "_model_name": "LayoutModel",
            "_view_count": null,
            "_view_module": "@jupyter-widgets/base",
            "_view_module_version": "1.2.0",
            "_view_name": "LayoutView",
            "align_content": null,
            "align_items": null,
            "align_self": null,
            "border": null,
            "bottom": null,
            "display": null,
            "flex": null,
            "flex_flow": null,
            "grid_area": null,
            "grid_auto_columns": null,
            "grid_auto_flow": null,
            "grid_auto_rows": null,
            "grid_column": null,
            "grid_gap": null,
            "grid_row": null,
            "grid_template_areas": null,
            "grid_template_columns": null,
            "grid_template_rows": null,
            "height": null,
            "justify_content": null,
            "justify_items": null,
            "left": null,
            "margin": null,
            "max_height": null,
            "max_width": null,
            "min_height": null,
            "min_width": null,
            "object_fit": null,
            "object_position": null,
            "order": null,
            "overflow": null,
            "overflow_x": null,
            "overflow_y": null,
            "padding": null,
            "right": null,
            "top": null,
            "visibility": null,
            "width": null
          }
        },
        "176540343e33426da5bd52a3a4915b6d": {
          "model_module": "@jupyter-widgets/controls",
          "model_name": "DescriptionStyleModel",
          "model_module_version": "1.5.0",
          "state": {
            "_model_module": "@jupyter-widgets/controls",
            "_model_module_version": "1.5.0",
            "_model_name": "DescriptionStyleModel",
            "_view_count": null,
            "_view_module": "@jupyter-widgets/base",
            "_view_module_version": "1.2.0",
            "_view_name": "StyleView",
            "description_width": ""
          }
        },
        "1d5a695379e24e7cbb81c93e25d3fff6": {
          "model_module": "@jupyter-widgets/controls",
          "model_name": "HBoxModel",
          "model_module_version": "1.5.0",
          "state": {
            "_dom_classes": [],
            "_model_module": "@jupyter-widgets/controls",
            "_model_module_version": "1.5.0",
            "_model_name": "HBoxModel",
            "_view_count": null,
            "_view_module": "@jupyter-widgets/controls",
            "_view_module_version": "1.5.0",
            "_view_name": "HBoxView",
            "box_style": "",
            "children": [
              "IPY_MODEL_44bf3d93e4994831835e6f89d4d58d6e",
              "IPY_MODEL_89a83736484f43009601afbf4d02aae4",
              "IPY_MODEL_f001990d47234d6b87c793952b8bdfa4"
            ],
            "layout": "IPY_MODEL_89d55093b6474a2abc680b6c77e75b43"
          }
        },
        "44bf3d93e4994831835e6f89d4d58d6e": {
          "model_module": "@jupyter-widgets/controls",
          "model_name": "HTMLModel",
          "model_module_version": "1.5.0",
          "state": {
            "_dom_classes": [],
            "_model_module": "@jupyter-widgets/controls",
            "_model_module_version": "1.5.0",
            "_model_name": "HTMLModel",
            "_view_count": null,
            "_view_module": "@jupyter-widgets/controls",
            "_view_module_version": "1.5.0",
            "_view_name": "HTMLView",
            "description": "",
            "description_tooltip": null,
            "layout": "IPY_MODEL_ac4ceca62dd94f6b9af019dd3a8c8260",
            "placeholder": "​",
            "style": "IPY_MODEL_a23222790eac4080a0e4f2933288b31b",
            "value": "Downloading (…)d605a60cb8/vocab.txt: 100%"
          }
        },
        "89a83736484f43009601afbf4d02aae4": {
          "model_module": "@jupyter-widgets/controls",
          "model_name": "FloatProgressModel",
          "model_module_version": "1.5.0",
          "state": {
            "_dom_classes": [],
            "_model_module": "@jupyter-widgets/controls",
            "_model_module_version": "1.5.0",
            "_model_name": "FloatProgressModel",
            "_view_count": null,
            "_view_module": "@jupyter-widgets/controls",
            "_view_module_version": "1.5.0",
            "_view_name": "ProgressView",
            "bar_style": "success",
            "description": "",
            "description_tooltip": null,
            "layout": "IPY_MODEL_4650c94d03294f7995eb338e60f9db1c",
            "max": 231508,
            "min": 0,
            "orientation": "horizontal",
            "style": "IPY_MODEL_2f5dbdcb6b64407e89ef9d3656f2f504",
            "value": 231508
          }
        },
        "f001990d47234d6b87c793952b8bdfa4": {
          "model_module": "@jupyter-widgets/controls",
          "model_name": "HTMLModel",
          "model_module_version": "1.5.0",
          "state": {
            "_dom_classes": [],
            "_model_module": "@jupyter-widgets/controls",
            "_model_module_version": "1.5.0",
            "_model_name": "HTMLModel",
            "_view_count": null,
            "_view_module": "@jupyter-widgets/controls",
            "_view_module_version": "1.5.0",
            "_view_name": "HTMLView",
            "description": "",
            "description_tooltip": null,
            "layout": "IPY_MODEL_65b6158d6f86484a80f218f92de1ec03",
            "placeholder": "​",
            "style": "IPY_MODEL_402380a9ffe14f37b5d4852120f319db",
            "value": " 232k/232k [00:00&lt;00:00, 17.1MB/s]"
          }
        },
        "89d55093b6474a2abc680b6c77e75b43": {
          "model_module": "@jupyter-widgets/base",
          "model_name": "LayoutModel",
          "model_module_version": "1.2.0",
          "state": {
            "_model_module": "@jupyter-widgets/base",
            "_model_module_version": "1.2.0",
            "_model_name": "LayoutModel",
            "_view_count": null,
            "_view_module": "@jupyter-widgets/base",
            "_view_module_version": "1.2.0",
            "_view_name": "LayoutView",
            "align_content": null,
            "align_items": null,
            "align_self": null,
            "border": null,
            "bottom": null,
            "display": null,
            "flex": null,
            "flex_flow": null,
            "grid_area": null,
            "grid_auto_columns": null,
            "grid_auto_flow": null,
            "grid_auto_rows": null,
            "grid_column": null,
            "grid_gap": null,
            "grid_row": null,
            "grid_template_areas": null,
            "grid_template_columns": null,
            "grid_template_rows": null,
            "height": null,
            "justify_content": null,
            "justify_items": null,
            "left": null,
            "margin": null,
            "max_height": null,
            "max_width": null,
            "min_height": null,
            "min_width": null,
            "object_fit": null,
            "object_position": null,
            "order": null,
            "overflow": null,
            "overflow_x": null,
            "overflow_y": null,
            "padding": null,
            "right": null,
            "top": null,
            "visibility": null,
            "width": null
          }
        },
        "ac4ceca62dd94f6b9af019dd3a8c8260": {
          "model_module": "@jupyter-widgets/base",
          "model_name": "LayoutModel",
          "model_module_version": "1.2.0",
          "state": {
            "_model_module": "@jupyter-widgets/base",
            "_model_module_version": "1.2.0",
            "_model_name": "LayoutModel",
            "_view_count": null,
            "_view_module": "@jupyter-widgets/base",
            "_view_module_version": "1.2.0",
            "_view_name": "LayoutView",
            "align_content": null,
            "align_items": null,
            "align_self": null,
            "border": null,
            "bottom": null,
            "display": null,
            "flex": null,
            "flex_flow": null,
            "grid_area": null,
            "grid_auto_columns": null,
            "grid_auto_flow": null,
            "grid_auto_rows": null,
            "grid_column": null,
            "grid_gap": null,
            "grid_row": null,
            "grid_template_areas": null,
            "grid_template_columns": null,
            "grid_template_rows": null,
            "height": null,
            "justify_content": null,
            "justify_items": null,
            "left": null,
            "margin": null,
            "max_height": null,
            "max_width": null,
            "min_height": null,
            "min_width": null,
            "object_fit": null,
            "object_position": null,
            "order": null,
            "overflow": null,
            "overflow_x": null,
            "overflow_y": null,
            "padding": null,
            "right": null,
            "top": null,
            "visibility": null,
            "width": null
          }
        },
        "a23222790eac4080a0e4f2933288b31b": {
          "model_module": "@jupyter-widgets/controls",
          "model_name": "DescriptionStyleModel",
          "model_module_version": "1.5.0",
          "state": {
            "_model_module": "@jupyter-widgets/controls",
            "_model_module_version": "1.5.0",
            "_model_name": "DescriptionStyleModel",
            "_view_count": null,
            "_view_module": "@jupyter-widgets/base",
            "_view_module_version": "1.2.0",
            "_view_name": "StyleView",
            "description_width": ""
          }
        },
        "4650c94d03294f7995eb338e60f9db1c": {
          "model_module": "@jupyter-widgets/base",
          "model_name": "LayoutModel",
          "model_module_version": "1.2.0",
          "state": {
            "_model_module": "@jupyter-widgets/base",
            "_model_module_version": "1.2.0",
            "_model_name": "LayoutModel",
            "_view_count": null,
            "_view_module": "@jupyter-widgets/base",
            "_view_module_version": "1.2.0",
            "_view_name": "LayoutView",
            "align_content": null,
            "align_items": null,
            "align_self": null,
            "border": null,
            "bottom": null,
            "display": null,
            "flex": null,
            "flex_flow": null,
            "grid_area": null,
            "grid_auto_columns": null,
            "grid_auto_flow": null,
            "grid_auto_rows": null,
            "grid_column": null,
            "grid_gap": null,
            "grid_row": null,
            "grid_template_areas": null,
            "grid_template_columns": null,
            "grid_template_rows": null,
            "height": null,
            "justify_content": null,
            "justify_items": null,
            "left": null,
            "margin": null,
            "max_height": null,
            "max_width": null,
            "min_height": null,
            "min_width": null,
            "object_fit": null,
            "object_position": null,
            "order": null,
            "overflow": null,
            "overflow_x": null,
            "overflow_y": null,
            "padding": null,
            "right": null,
            "top": null,
            "visibility": null,
            "width": null
          }
        },
        "2f5dbdcb6b64407e89ef9d3656f2f504": {
          "model_module": "@jupyter-widgets/controls",
          "model_name": "ProgressStyleModel",
          "model_module_version": "1.5.0",
          "state": {
            "_model_module": "@jupyter-widgets/controls",
            "_model_module_version": "1.5.0",
            "_model_name": "ProgressStyleModel",
            "_view_count": null,
            "_view_module": "@jupyter-widgets/base",
            "_view_module_version": "1.2.0",
            "_view_name": "StyleView",
            "bar_color": null,
            "description_width": ""
          }
        },
        "65b6158d6f86484a80f218f92de1ec03": {
          "model_module": "@jupyter-widgets/base",
          "model_name": "LayoutModel",
          "model_module_version": "1.2.0",
          "state": {
            "_model_module": "@jupyter-widgets/base",
            "_model_module_version": "1.2.0",
            "_model_name": "LayoutModel",
            "_view_count": null,
            "_view_module": "@jupyter-widgets/base",
            "_view_module_version": "1.2.0",
            "_view_name": "LayoutView",
            "align_content": null,
            "align_items": null,
            "align_self": null,
            "border": null,
            "bottom": null,
            "display": null,
            "flex": null,
            "flex_flow": null,
            "grid_area": null,
            "grid_auto_columns": null,
            "grid_auto_flow": null,
            "grid_auto_rows": null,
            "grid_column": null,
            "grid_gap": null,
            "grid_row": null,
            "grid_template_areas": null,
            "grid_template_columns": null,
            "grid_template_rows": null,
            "height": null,
            "justify_content": null,
            "justify_items": null,
            "left": null,
            "margin": null,
            "max_height": null,
            "max_width": null,
            "min_height": null,
            "min_width": null,
            "object_fit": null,
            "object_position": null,
            "order": null,
            "overflow": null,
            "overflow_x": null,
            "overflow_y": null,
            "padding": null,
            "right": null,
            "top": null,
            "visibility": null,
            "width": null
          }
        },
        "402380a9ffe14f37b5d4852120f319db": {
          "model_module": "@jupyter-widgets/controls",
          "model_name": "DescriptionStyleModel",
          "model_module_version": "1.5.0",
          "state": {
            "_model_module": "@jupyter-widgets/controls",
            "_model_module_version": "1.5.0",
            "_model_name": "DescriptionStyleModel",
            "_view_count": null,
            "_view_module": "@jupyter-widgets/base",
            "_view_module_version": "1.2.0",
            "_view_name": "StyleView",
            "description_width": ""
          }
        },
        "e580481ae94b4f1ea8ce1dd1effc4383": {
          "model_module": "@jupyter-widgets/controls",
          "model_name": "HBoxModel",
          "model_module_version": "1.5.0",
          "state": {
            "_dom_classes": [],
            "_model_module": "@jupyter-widgets/controls",
            "_model_module_version": "1.5.0",
            "_model_name": "HBoxModel",
            "_view_count": null,
            "_view_module": "@jupyter-widgets/controls",
            "_view_module_version": "1.5.0",
            "_view_name": "HBoxView",
            "box_style": "",
            "children": [
              "IPY_MODEL_3a6bfd90f62a4b038f9248841f916cce",
              "IPY_MODEL_25dde8d188db4d6db83fb1c70e1010ce",
              "IPY_MODEL_3f69f17f7f564922a243dbc104edc246"
            ],
            "layout": "IPY_MODEL_01eeff6328034524bcd0e60e05819cfb"
          }
        },
        "3a6bfd90f62a4b038f9248841f916cce": {
          "model_module": "@jupyter-widgets/controls",
          "model_name": "HTMLModel",
          "model_module_version": "1.5.0",
          "state": {
            "_dom_classes": [],
            "_model_module": "@jupyter-widgets/controls",
            "_model_module_version": "1.5.0",
            "_model_name": "HTMLModel",
            "_view_count": null,
            "_view_module": "@jupyter-widgets/controls",
            "_view_module_version": "1.5.0",
            "_view_name": "HTMLView",
            "description": "",
            "description_tooltip": null,
            "layout": "IPY_MODEL_7af4c2c02305442491a6f8598ab4a45e",
            "placeholder": "​",
            "style": "IPY_MODEL_93cd41d6beba4269a663c32d848501e6",
            "value": "Downloading (…)5a60cb8/modules.json: 100%"
          }
        },
        "25dde8d188db4d6db83fb1c70e1010ce": {
          "model_module": "@jupyter-widgets/controls",
          "model_name": "FloatProgressModel",
          "model_module_version": "1.5.0",
          "state": {
            "_dom_classes": [],
            "_model_module": "@jupyter-widgets/controls",
            "_model_module_version": "1.5.0",
            "_model_name": "FloatProgressModel",
            "_view_count": null,
            "_view_module": "@jupyter-widgets/controls",
            "_view_module_version": "1.5.0",
            "_view_name": "ProgressView",
            "bar_style": "success",
            "description": "",
            "description_tooltip": null,
            "layout": "IPY_MODEL_e7e1a78d44fb4071af2923831f186c3a",
            "max": 387,
            "min": 0,
            "orientation": "horizontal",
            "style": "IPY_MODEL_5dc5acf7a2894a9297130a4d83394276",
            "value": 387
          }
        },
        "3f69f17f7f564922a243dbc104edc246": {
          "model_module": "@jupyter-widgets/controls",
          "model_name": "HTMLModel",
          "model_module_version": "1.5.0",
          "state": {
            "_dom_classes": [],
            "_model_module": "@jupyter-widgets/controls",
            "_model_module_version": "1.5.0",
            "_model_name": "HTMLModel",
            "_view_count": null,
            "_view_module": "@jupyter-widgets/controls",
            "_view_module_version": "1.5.0",
            "_view_name": "HTMLView",
            "description": "",
            "description_tooltip": null,
            "layout": "IPY_MODEL_1f4645b45ffb4d58890044b3ddbe1dee",
            "placeholder": "​",
            "style": "IPY_MODEL_f2d4f8e6df37488aa9fa69f82d39bc75",
            "value": " 387/387 [00:00&lt;00:00, 34.3kB/s]"
          }
        },
        "01eeff6328034524bcd0e60e05819cfb": {
          "model_module": "@jupyter-widgets/base",
          "model_name": "LayoutModel",
          "model_module_version": "1.2.0",
          "state": {
            "_model_module": "@jupyter-widgets/base",
            "_model_module_version": "1.2.0",
            "_model_name": "LayoutModel",
            "_view_count": null,
            "_view_module": "@jupyter-widgets/base",
            "_view_module_version": "1.2.0",
            "_view_name": "LayoutView",
            "align_content": null,
            "align_items": null,
            "align_self": null,
            "border": null,
            "bottom": null,
            "display": null,
            "flex": null,
            "flex_flow": null,
            "grid_area": null,
            "grid_auto_columns": null,
            "grid_auto_flow": null,
            "grid_auto_rows": null,
            "grid_column": null,
            "grid_gap": null,
            "grid_row": null,
            "grid_template_areas": null,
            "grid_template_columns": null,
            "grid_template_rows": null,
            "height": null,
            "justify_content": null,
            "justify_items": null,
            "left": null,
            "margin": null,
            "max_height": null,
            "max_width": null,
            "min_height": null,
            "min_width": null,
            "object_fit": null,
            "object_position": null,
            "order": null,
            "overflow": null,
            "overflow_x": null,
            "overflow_y": null,
            "padding": null,
            "right": null,
            "top": null,
            "visibility": null,
            "width": null
          }
        },
        "7af4c2c02305442491a6f8598ab4a45e": {
          "model_module": "@jupyter-widgets/base",
          "model_name": "LayoutModel",
          "model_module_version": "1.2.0",
          "state": {
            "_model_module": "@jupyter-widgets/base",
            "_model_module_version": "1.2.0",
            "_model_name": "LayoutModel",
            "_view_count": null,
            "_view_module": "@jupyter-widgets/base",
            "_view_module_version": "1.2.0",
            "_view_name": "LayoutView",
            "align_content": null,
            "align_items": null,
            "align_self": null,
            "border": null,
            "bottom": null,
            "display": null,
            "flex": null,
            "flex_flow": null,
            "grid_area": null,
            "grid_auto_columns": null,
            "grid_auto_flow": null,
            "grid_auto_rows": null,
            "grid_column": null,
            "grid_gap": null,
            "grid_row": null,
            "grid_template_areas": null,
            "grid_template_columns": null,
            "grid_template_rows": null,
            "height": null,
            "justify_content": null,
            "justify_items": null,
            "left": null,
            "margin": null,
            "max_height": null,
            "max_width": null,
            "min_height": null,
            "min_width": null,
            "object_fit": null,
            "object_position": null,
            "order": null,
            "overflow": null,
            "overflow_x": null,
            "overflow_y": null,
            "padding": null,
            "right": null,
            "top": null,
            "visibility": null,
            "width": null
          }
        },
        "93cd41d6beba4269a663c32d848501e6": {
          "model_module": "@jupyter-widgets/controls",
          "model_name": "DescriptionStyleModel",
          "model_module_version": "1.5.0",
          "state": {
            "_model_module": "@jupyter-widgets/controls",
            "_model_module_version": "1.5.0",
            "_model_name": "DescriptionStyleModel",
            "_view_count": null,
            "_view_module": "@jupyter-widgets/base",
            "_view_module_version": "1.2.0",
            "_view_name": "StyleView",
            "description_width": ""
          }
        },
        "e7e1a78d44fb4071af2923831f186c3a": {
          "model_module": "@jupyter-widgets/base",
          "model_name": "LayoutModel",
          "model_module_version": "1.2.0",
          "state": {
            "_model_module": "@jupyter-widgets/base",
            "_model_module_version": "1.2.0",
            "_model_name": "LayoutModel",
            "_view_count": null,
            "_view_module": "@jupyter-widgets/base",
            "_view_module_version": "1.2.0",
            "_view_name": "LayoutView",
            "align_content": null,
            "align_items": null,
            "align_self": null,
            "border": null,
            "bottom": null,
            "display": null,
            "flex": null,
            "flex_flow": null,
            "grid_area": null,
            "grid_auto_columns": null,
            "grid_auto_flow": null,
            "grid_auto_rows": null,
            "grid_column": null,
            "grid_gap": null,
            "grid_row": null,
            "grid_template_areas": null,
            "grid_template_columns": null,
            "grid_template_rows": null,
            "height": null,
            "justify_content": null,
            "justify_items": null,
            "left": null,
            "margin": null,
            "max_height": null,
            "max_width": null,
            "min_height": null,
            "min_width": null,
            "object_fit": null,
            "object_position": null,
            "order": null,
            "overflow": null,
            "overflow_x": null,
            "overflow_y": null,
            "padding": null,
            "right": null,
            "top": null,
            "visibility": null,
            "width": null
          }
        },
        "5dc5acf7a2894a9297130a4d83394276": {
          "model_module": "@jupyter-widgets/controls",
          "model_name": "ProgressStyleModel",
          "model_module_version": "1.5.0",
          "state": {
            "_model_module": "@jupyter-widgets/controls",
            "_model_module_version": "1.5.0",
            "_model_name": "ProgressStyleModel",
            "_view_count": null,
            "_view_module": "@jupyter-widgets/base",
            "_view_module_version": "1.2.0",
            "_view_name": "StyleView",
            "bar_color": null,
            "description_width": ""
          }
        },
        "1f4645b45ffb4d58890044b3ddbe1dee": {
          "model_module": "@jupyter-widgets/base",
          "model_name": "LayoutModel",
          "model_module_version": "1.2.0",
          "state": {
            "_model_module": "@jupyter-widgets/base",
            "_model_module_version": "1.2.0",
            "_model_name": "LayoutModel",
            "_view_count": null,
            "_view_module": "@jupyter-widgets/base",
            "_view_module_version": "1.2.0",
            "_view_name": "LayoutView",
            "align_content": null,
            "align_items": null,
            "align_self": null,
            "border": null,
            "bottom": null,
            "display": null,
            "flex": null,
            "flex_flow": null,
            "grid_area": null,
            "grid_auto_columns": null,
            "grid_auto_flow": null,
            "grid_auto_rows": null,
            "grid_column": null,
            "grid_gap": null,
            "grid_row": null,
            "grid_template_areas": null,
            "grid_template_columns": null,
            "grid_template_rows": null,
            "height": null,
            "justify_content": null,
            "justify_items": null,
            "left": null,
            "margin": null,
            "max_height": null,
            "max_width": null,
            "min_height": null,
            "min_width": null,
            "object_fit": null,
            "object_position": null,
            "order": null,
            "overflow": null,
            "overflow_x": null,
            "overflow_y": null,
            "padding": null,
            "right": null,
            "top": null,
            "visibility": null,
            "width": null
          }
        },
        "f2d4f8e6df37488aa9fa69f82d39bc75": {
          "model_module": "@jupyter-widgets/controls",
          "model_name": "DescriptionStyleModel",
          "model_module_version": "1.5.0",
          "state": {
            "_model_module": "@jupyter-widgets/controls",
            "_model_module_version": "1.5.0",
            "_model_name": "DescriptionStyleModel",
            "_view_count": null,
            "_view_module": "@jupyter-widgets/base",
            "_view_module_version": "1.2.0",
            "_view_name": "StyleView",
            "description_width": ""
          }
        },
        "7ebeb7bb514e4645bf7b7324e9f62d14": {
          "model_module": "@jupyter-widgets/controls",
          "model_name": "HBoxModel",
          "model_module_version": "1.5.0",
          "state": {
            "_dom_classes": [],
            "_model_module": "@jupyter-widgets/controls",
            "_model_module_version": "1.5.0",
            "_model_name": "HBoxModel",
            "_view_count": null,
            "_view_module": "@jupyter-widgets/controls",
            "_view_module_version": "1.5.0",
            "_view_name": "HBoxView",
            "box_style": "",
            "children": [
              "IPY_MODEL_b5a7bebe013d4d8abbc01bf3376e489b",
              "IPY_MODEL_b5a0c0b0f6c540109afdc3edbb87cd61",
              "IPY_MODEL_8b34e51c041b4fe39323c345bb62f545"
            ],
            "layout": "IPY_MODEL_da5385f408c54ddcb1ef3dc9993e772f"
          }
        },
        "b5a7bebe013d4d8abbc01bf3376e489b": {
          "model_module": "@jupyter-widgets/controls",
          "model_name": "HTMLModel",
          "model_module_version": "1.5.0",
          "state": {
            "_dom_classes": [],
            "_model_module": "@jupyter-widgets/controls",
            "_model_module_version": "1.5.0",
            "_model_name": "HTMLModel",
            "_view_count": null,
            "_view_module": "@jupyter-widgets/controls",
            "_view_module_version": "1.5.0",
            "_view_name": "HTMLView",
            "description": "",
            "description_tooltip": null,
            "layout": "IPY_MODEL_5e8919231a974af99f7b5090342ae43a",
            "placeholder": "​",
            "style": "IPY_MODEL_609dd9af735b4e9082bbbe389d9c4f84",
            "value": "Downloading (…)okenizer_config.json: 100%"
          }
        },
        "b5a0c0b0f6c540109afdc3edbb87cd61": {
          "model_module": "@jupyter-widgets/controls",
          "model_name": "FloatProgressModel",
          "model_module_version": "1.5.0",
          "state": {
            "_dom_classes": [],
            "_model_module": "@jupyter-widgets/controls",
            "_model_module_version": "1.5.0",
            "_model_name": "FloatProgressModel",
            "_view_count": null,
            "_view_module": "@jupyter-widgets/controls",
            "_view_module_version": "1.5.0",
            "_view_name": "ProgressView",
            "bar_style": "success",
            "description": "",
            "description_tooltip": null,
            "layout": "IPY_MODEL_40f821a7c5dc46beaa470463afb5ba6c",
            "max": 222,
            "min": 0,
            "orientation": "horizontal",
            "style": "IPY_MODEL_5f18397ffe5e4571bd8f59f6bb1cd195",
            "value": 222
          }
        },
        "8b34e51c041b4fe39323c345bb62f545": {
          "model_module": "@jupyter-widgets/controls",
          "model_name": "HTMLModel",
          "model_module_version": "1.5.0",
          "state": {
            "_dom_classes": [],
            "_model_module": "@jupyter-widgets/controls",
            "_model_module_version": "1.5.0",
            "_model_name": "HTMLModel",
            "_view_count": null,
            "_view_module": "@jupyter-widgets/controls",
            "_view_module_version": "1.5.0",
            "_view_name": "HTMLView",
            "description": "",
            "description_tooltip": null,
            "layout": "IPY_MODEL_89f87dc1eeab4c998cd5b62e54720fff",
            "placeholder": "​",
            "style": "IPY_MODEL_5b436ea5310f42ba82e703e1560aff8f",
            "value": " 222/222 [00:00&lt;00:00, 13.0kB/s]"
          }
        },
        "da5385f408c54ddcb1ef3dc9993e772f": {
          "model_module": "@jupyter-widgets/base",
          "model_name": "LayoutModel",
          "model_module_version": "1.2.0",
          "state": {
            "_model_module": "@jupyter-widgets/base",
            "_model_module_version": "1.2.0",
            "_model_name": "LayoutModel",
            "_view_count": null,
            "_view_module": "@jupyter-widgets/base",
            "_view_module_version": "1.2.0",
            "_view_name": "LayoutView",
            "align_content": null,
            "align_items": null,
            "align_self": null,
            "border": null,
            "bottom": null,
            "display": null,
            "flex": null,
            "flex_flow": null,
            "grid_area": null,
            "grid_auto_columns": null,
            "grid_auto_flow": null,
            "grid_auto_rows": null,
            "grid_column": null,
            "grid_gap": null,
            "grid_row": null,
            "grid_template_areas": null,
            "grid_template_columns": null,
            "grid_template_rows": null,
            "height": null,
            "justify_content": null,
            "justify_items": null,
            "left": null,
            "margin": null,
            "max_height": null,
            "max_width": null,
            "min_height": null,
            "min_width": null,
            "object_fit": null,
            "object_position": null,
            "order": null,
            "overflow": null,
            "overflow_x": null,
            "overflow_y": null,
            "padding": null,
            "right": null,
            "top": null,
            "visibility": null,
            "width": null
          }
        },
        "5e8919231a974af99f7b5090342ae43a": {
          "model_module": "@jupyter-widgets/base",
          "model_name": "LayoutModel",
          "model_module_version": "1.2.0",
          "state": {
            "_model_module": "@jupyter-widgets/base",
            "_model_module_version": "1.2.0",
            "_model_name": "LayoutModel",
            "_view_count": null,
            "_view_module": "@jupyter-widgets/base",
            "_view_module_version": "1.2.0",
            "_view_name": "LayoutView",
            "align_content": null,
            "align_items": null,
            "align_self": null,
            "border": null,
            "bottom": null,
            "display": null,
            "flex": null,
            "flex_flow": null,
            "grid_area": null,
            "grid_auto_columns": null,
            "grid_auto_flow": null,
            "grid_auto_rows": null,
            "grid_column": null,
            "grid_gap": null,
            "grid_row": null,
            "grid_template_areas": null,
            "grid_template_columns": null,
            "grid_template_rows": null,
            "height": null,
            "justify_content": null,
            "justify_items": null,
            "left": null,
            "margin": null,
            "max_height": null,
            "max_width": null,
            "min_height": null,
            "min_width": null,
            "object_fit": null,
            "object_position": null,
            "order": null,
            "overflow": null,
            "overflow_x": null,
            "overflow_y": null,
            "padding": null,
            "right": null,
            "top": null,
            "visibility": null,
            "width": null
          }
        },
        "609dd9af735b4e9082bbbe389d9c4f84": {
          "model_module": "@jupyter-widgets/controls",
          "model_name": "DescriptionStyleModel",
          "model_module_version": "1.5.0",
          "state": {
            "_model_module": "@jupyter-widgets/controls",
            "_model_module_version": "1.5.0",
            "_model_name": "DescriptionStyleModel",
            "_view_count": null,
            "_view_module": "@jupyter-widgets/base",
            "_view_module_version": "1.2.0",
            "_view_name": "StyleView",
            "description_width": ""
          }
        },
        "40f821a7c5dc46beaa470463afb5ba6c": {
          "model_module": "@jupyter-widgets/base",
          "model_name": "LayoutModel",
          "model_module_version": "1.2.0",
          "state": {
            "_model_module": "@jupyter-widgets/base",
            "_model_module_version": "1.2.0",
            "_model_name": "LayoutModel",
            "_view_count": null,
            "_view_module": "@jupyter-widgets/base",
            "_view_module_version": "1.2.0",
            "_view_name": "LayoutView",
            "align_content": null,
            "align_items": null,
            "align_self": null,
            "border": null,
            "bottom": null,
            "display": null,
            "flex": null,
            "flex_flow": null,
            "grid_area": null,
            "grid_auto_columns": null,
            "grid_auto_flow": null,
            "grid_auto_rows": null,
            "grid_column": null,
            "grid_gap": null,
            "grid_row": null,
            "grid_template_areas": null,
            "grid_template_columns": null,
            "grid_template_rows": null,
            "height": null,
            "justify_content": null,
            "justify_items": null,
            "left": null,
            "margin": null,
            "max_height": null,
            "max_width": null,
            "min_height": null,
            "min_width": null,
            "object_fit": null,
            "object_position": null,
            "order": null,
            "overflow": null,
            "overflow_x": null,
            "overflow_y": null,
            "padding": null,
            "right": null,
            "top": null,
            "visibility": null,
            "width": null
          }
        },
        "5f18397ffe5e4571bd8f59f6bb1cd195": {
          "model_module": "@jupyter-widgets/controls",
          "model_name": "ProgressStyleModel",
          "model_module_version": "1.5.0",
          "state": {
            "_model_module": "@jupyter-widgets/controls",
            "_model_module_version": "1.5.0",
            "_model_name": "ProgressStyleModel",
            "_view_count": null,
            "_view_module": "@jupyter-widgets/base",
            "_view_module_version": "1.2.0",
            "_view_name": "StyleView",
            "bar_color": null,
            "description_width": ""
          }
        },
        "89f87dc1eeab4c998cd5b62e54720fff": {
          "model_module": "@jupyter-widgets/base",
          "model_name": "LayoutModel",
          "model_module_version": "1.2.0",
          "state": {
            "_model_module": "@jupyter-widgets/base",
            "_model_module_version": "1.2.0",
            "_model_name": "LayoutModel",
            "_view_count": null,
            "_view_module": "@jupyter-widgets/base",
            "_view_module_version": "1.2.0",
            "_view_name": "LayoutView",
            "align_content": null,
            "align_items": null,
            "align_self": null,
            "border": null,
            "bottom": null,
            "display": null,
            "flex": null,
            "flex_flow": null,
            "grid_area": null,
            "grid_auto_columns": null,
            "grid_auto_flow": null,
            "grid_auto_rows": null,
            "grid_column": null,
            "grid_gap": null,
            "grid_row": null,
            "grid_template_areas": null,
            "grid_template_columns": null,
            "grid_template_rows": null,
            "height": null,
            "justify_content": null,
            "justify_items": null,
            "left": null,
            "margin": null,
            "max_height": null,
            "max_width": null,
            "min_height": null,
            "min_width": null,
            "object_fit": null,
            "object_position": null,
            "order": null,
            "overflow": null,
            "overflow_x": null,
            "overflow_y": null,
            "padding": null,
            "right": null,
            "top": null,
            "visibility": null,
            "width": null
          }
        },
        "5b436ea5310f42ba82e703e1560aff8f": {
          "model_module": "@jupyter-widgets/controls",
          "model_name": "DescriptionStyleModel",
          "model_module_version": "1.5.0",
          "state": {
            "_model_module": "@jupyter-widgets/controls",
            "_model_module_version": "1.5.0",
            "_model_name": "DescriptionStyleModel",
            "_view_count": null,
            "_view_module": "@jupyter-widgets/base",
            "_view_module_version": "1.2.0",
            "_view_name": "StyleView",
            "description_width": ""
          }
        },
        "cd2b38c09d6f48ecac7b2fa2f74ae701": {
          "model_module": "@jupyter-widgets/controls",
          "model_name": "HBoxModel",
          "model_module_version": "1.5.0",
          "state": {
            "_dom_classes": [],
            "_model_module": "@jupyter-widgets/controls",
            "_model_module_version": "1.5.0",
            "_model_name": "HBoxModel",
            "_view_count": null,
            "_view_module": "@jupyter-widgets/controls",
            "_view_module_version": "1.5.0",
            "_view_name": "HBoxView",
            "box_style": "",
            "children": [
              "IPY_MODEL_69c9b9722c22445ab99f26c819d8856d",
              "IPY_MODEL_abd1c06ccf324d829a11294617393ec4",
              "IPY_MODEL_c9c7af7540f14a4e9df899cc8aca76a8"
            ],
            "layout": "IPY_MODEL_2df2ae24636e4e4d8d2e415ffac61f09"
          }
        },
        "69c9b9722c22445ab99f26c819d8856d": {
          "model_module": "@jupyter-widgets/controls",
          "model_name": "HTMLModel",
          "model_module_version": "1.5.0",
          "state": {
            "_dom_classes": [],
            "_model_module": "@jupyter-widgets/controls",
            "_model_module_version": "1.5.0",
            "_model_name": "HTMLModel",
            "_view_count": null,
            "_view_module": "@jupyter-widgets/controls",
            "_view_module_version": "1.5.0",
            "_view_name": "HTMLView",
            "description": "",
            "description_tooltip": null,
            "layout": "IPY_MODEL_222ed32feb4443a2b8cf42506f4cd96f",
            "placeholder": "​",
            "style": "IPY_MODEL_d506c183caa343f3a1a2622d6c10a803",
            "value": "Downloading tokenizer.json: 100%"
          }
        },
        "abd1c06ccf324d829a11294617393ec4": {
          "model_module": "@jupyter-widgets/controls",
          "model_name": "FloatProgressModel",
          "model_module_version": "1.5.0",
          "state": {
            "_dom_classes": [],
            "_model_module": "@jupyter-widgets/controls",
            "_model_module_version": "1.5.0",
            "_model_name": "FloatProgressModel",
            "_view_count": null,
            "_view_module": "@jupyter-widgets/controls",
            "_view_module_version": "1.5.0",
            "_view_name": "ProgressView",
            "bar_style": "success",
            "description": "",
            "description_tooltip": null,
            "layout": "IPY_MODEL_7f147e65e49340e58b3a7bcf96075464",
            "max": 14500438,
            "min": 0,
            "orientation": "horizontal",
            "style": "IPY_MODEL_a62565ce0de546e0aab004ba7434b5d7",
            "value": 14500438
          }
        },
        "c9c7af7540f14a4e9df899cc8aca76a8": {
          "model_module": "@jupyter-widgets/controls",
          "model_name": "HTMLModel",
          "model_module_version": "1.5.0",
          "state": {
            "_dom_classes": [],
            "_model_module": "@jupyter-widgets/controls",
            "_model_module_version": "1.5.0",
            "_model_name": "HTMLModel",
            "_view_count": null,
            "_view_module": "@jupyter-widgets/controls",
            "_view_module_version": "1.5.0",
            "_view_name": "HTMLView",
            "description": "",
            "description_tooltip": null,
            "layout": "IPY_MODEL_e1bb22be541e4cdc98a205fddccc4628",
            "placeholder": "​",
            "style": "IPY_MODEL_7881d7b08f544789a78e30937fa6196c",
            "value": " 14.5M/14.5M [00:00&lt;00:00, 74.4MB/s]"
          }
        },
        "2df2ae24636e4e4d8d2e415ffac61f09": {
          "model_module": "@jupyter-widgets/base",
          "model_name": "LayoutModel",
          "model_module_version": "1.2.0",
          "state": {
            "_model_module": "@jupyter-widgets/base",
            "_model_module_version": "1.2.0",
            "_model_name": "LayoutModel",
            "_view_count": null,
            "_view_module": "@jupyter-widgets/base",
            "_view_module_version": "1.2.0",
            "_view_name": "LayoutView",
            "align_content": null,
            "align_items": null,
            "align_self": null,
            "border": null,
            "bottom": null,
            "display": null,
            "flex": null,
            "flex_flow": null,
            "grid_area": null,
            "grid_auto_columns": null,
            "grid_auto_flow": null,
            "grid_auto_rows": null,
            "grid_column": null,
            "grid_gap": null,
            "grid_row": null,
            "grid_template_areas": null,
            "grid_template_columns": null,
            "grid_template_rows": null,
            "height": null,
            "justify_content": null,
            "justify_items": null,
            "left": null,
            "margin": null,
            "max_height": null,
            "max_width": null,
            "min_height": null,
            "min_width": null,
            "object_fit": null,
            "object_position": null,
            "order": null,
            "overflow": null,
            "overflow_x": null,
            "overflow_y": null,
            "padding": null,
            "right": null,
            "top": null,
            "visibility": null,
            "width": null
          }
        },
        "222ed32feb4443a2b8cf42506f4cd96f": {
          "model_module": "@jupyter-widgets/base",
          "model_name": "LayoutModel",
          "model_module_version": "1.2.0",
          "state": {
            "_model_module": "@jupyter-widgets/base",
            "_model_module_version": "1.2.0",
            "_model_name": "LayoutModel",
            "_view_count": null,
            "_view_module": "@jupyter-widgets/base",
            "_view_module_version": "1.2.0",
            "_view_name": "LayoutView",
            "align_content": null,
            "align_items": null,
            "align_self": null,
            "border": null,
            "bottom": null,
            "display": null,
            "flex": null,
            "flex_flow": null,
            "grid_area": null,
            "grid_auto_columns": null,
            "grid_auto_flow": null,
            "grid_auto_rows": null,
            "grid_column": null,
            "grid_gap": null,
            "grid_row": null,
            "grid_template_areas": null,
            "grid_template_columns": null,
            "grid_template_rows": null,
            "height": null,
            "justify_content": null,
            "justify_items": null,
            "left": null,
            "margin": null,
            "max_height": null,
            "max_width": null,
            "min_height": null,
            "min_width": null,
            "object_fit": null,
            "object_position": null,
            "order": null,
            "overflow": null,
            "overflow_x": null,
            "overflow_y": null,
            "padding": null,
            "right": null,
            "top": null,
            "visibility": null,
            "width": null
          }
        },
        "d506c183caa343f3a1a2622d6c10a803": {
          "model_module": "@jupyter-widgets/controls",
          "model_name": "DescriptionStyleModel",
          "model_module_version": "1.5.0",
          "state": {
            "_model_module": "@jupyter-widgets/controls",
            "_model_module_version": "1.5.0",
            "_model_name": "DescriptionStyleModel",
            "_view_count": null,
            "_view_module": "@jupyter-widgets/base",
            "_view_module_version": "1.2.0",
            "_view_name": "StyleView",
            "description_width": ""
          }
        },
        "7f147e65e49340e58b3a7bcf96075464": {
          "model_module": "@jupyter-widgets/base",
          "model_name": "LayoutModel",
          "model_module_version": "1.2.0",
          "state": {
            "_model_module": "@jupyter-widgets/base",
            "_model_module_version": "1.2.0",
            "_model_name": "LayoutModel",
            "_view_count": null,
            "_view_module": "@jupyter-widgets/base",
            "_view_module_version": "1.2.0",
            "_view_name": "LayoutView",
            "align_content": null,
            "align_items": null,
            "align_self": null,
            "border": null,
            "bottom": null,
            "display": null,
            "flex": null,
            "flex_flow": null,
            "grid_area": null,
            "grid_auto_columns": null,
            "grid_auto_flow": null,
            "grid_auto_rows": null,
            "grid_column": null,
            "grid_gap": null,
            "grid_row": null,
            "grid_template_areas": null,
            "grid_template_columns": null,
            "grid_template_rows": null,
            "height": null,
            "justify_content": null,
            "justify_items": null,
            "left": null,
            "margin": null,
            "max_height": null,
            "max_width": null,
            "min_height": null,
            "min_width": null,
            "object_fit": null,
            "object_position": null,
            "order": null,
            "overflow": null,
            "overflow_x": null,
            "overflow_y": null,
            "padding": null,
            "right": null,
            "top": null,
            "visibility": null,
            "width": null
          }
        },
        "a62565ce0de546e0aab004ba7434b5d7": {
          "model_module": "@jupyter-widgets/controls",
          "model_name": "ProgressStyleModel",
          "model_module_version": "1.5.0",
          "state": {
            "_model_module": "@jupyter-widgets/controls",
            "_model_module_version": "1.5.0",
            "_model_name": "ProgressStyleModel",
            "_view_count": null,
            "_view_module": "@jupyter-widgets/base",
            "_view_module_version": "1.2.0",
            "_view_name": "StyleView",
            "bar_color": null,
            "description_width": ""
          }
        },
        "e1bb22be541e4cdc98a205fddccc4628": {
          "model_module": "@jupyter-widgets/base",
          "model_name": "LayoutModel",
          "model_module_version": "1.2.0",
          "state": {
            "_model_module": "@jupyter-widgets/base",
            "_model_module_version": "1.2.0",
            "_model_name": "LayoutModel",
            "_view_count": null,
            "_view_module": "@jupyter-widgets/base",
            "_view_module_version": "1.2.0",
            "_view_name": "LayoutView",
            "align_content": null,
            "align_items": null,
            "align_self": null,
            "border": null,
            "bottom": null,
            "display": null,
            "flex": null,
            "flex_flow": null,
            "grid_area": null,
            "grid_auto_columns": null,
            "grid_auto_flow": null,
            "grid_auto_rows": null,
            "grid_column": null,
            "grid_gap": null,
            "grid_row": null,
            "grid_template_areas": null,
            "grid_template_columns": null,
            "grid_template_rows": null,
            "height": null,
            "justify_content": null,
            "justify_items": null,
            "left": null,
            "margin": null,
            "max_height": null,
            "max_width": null,
            "min_height": null,
            "min_width": null,
            "object_fit": null,
            "object_position": null,
            "order": null,
            "overflow": null,
            "overflow_x": null,
            "overflow_y": null,
            "padding": null,
            "right": null,
            "top": null,
            "visibility": null,
            "width": null
          }
        },
        "7881d7b08f544789a78e30937fa6196c": {
          "model_module": "@jupyter-widgets/controls",
          "model_name": "DescriptionStyleModel",
          "model_module_version": "1.5.0",
          "state": {
            "_model_module": "@jupyter-widgets/controls",
            "_model_module_version": "1.5.0",
            "_model_name": "DescriptionStyleModel",
            "_view_count": null,
            "_view_module": "@jupyter-widgets/base",
            "_view_module_version": "1.2.0",
            "_view_name": "StyleView",
            "description_width": ""
          }
        },
        "4059399fa7914e9fab91dc8243d68b4b": {
          "model_module": "@jupyter-widgets/controls",
          "model_name": "HBoxModel",
          "model_module_version": "1.5.0",
          "state": {
            "_dom_classes": [],
            "_model_module": "@jupyter-widgets/controls",
            "_model_module_version": "1.5.0",
            "_model_name": "HBoxModel",
            "_view_count": null,
            "_view_module": "@jupyter-widgets/controls",
            "_view_module_version": "1.5.0",
            "_view_name": "HBoxView",
            "box_style": "",
            "children": [
              "IPY_MODEL_e15a6e06e9ba4f68a2ab1f48eb276948",
              "IPY_MODEL_8699c769f67f4bf699d1aff6fba701d1",
              "IPY_MODEL_1d0ccf20e9a744f38958df31ba5c9d7d"
            ],
            "layout": "IPY_MODEL_d0dd646c363949ceb70afea23aa63d39"
          }
        },
        "e15a6e06e9ba4f68a2ab1f48eb276948": {
          "model_module": "@jupyter-widgets/controls",
          "model_name": "HTMLModel",
          "model_module_version": "1.5.0",
          "state": {
            "_dom_classes": [],
            "_model_module": "@jupyter-widgets/controls",
            "_model_module_version": "1.5.0",
            "_model_name": "HTMLModel",
            "_view_count": null,
            "_view_module": "@jupyter-widgets/controls",
            "_view_module_version": "1.5.0",
            "_view_name": "HTMLView",
            "description": "",
            "description_tooltip": null,
            "layout": "IPY_MODEL_2e4a11ff70ad4b3f8db40ffeddb3319d",
            "placeholder": "​",
            "style": "IPY_MODEL_77f825458bba46899bab8aac911c7eff",
            "value": "Downloading (…)cial_tokens_map.json: 100%"
          }
        },
        "8699c769f67f4bf699d1aff6fba701d1": {
          "model_module": "@jupyter-widgets/controls",
          "model_name": "FloatProgressModel",
          "model_module_version": "1.5.0",
          "state": {
            "_dom_classes": [],
            "_model_module": "@jupyter-widgets/controls",
            "_model_module_version": "1.5.0",
            "_model_name": "FloatProgressModel",
            "_view_count": null,
            "_view_module": "@jupyter-widgets/controls",
            "_view_module_version": "1.5.0",
            "_view_name": "ProgressView",
            "bar_style": "success",
            "description": "",
            "description_tooltip": null,
            "layout": "IPY_MODEL_67d344bac9b0461da3ba22f99088679e",
            "max": 85,
            "min": 0,
            "orientation": "horizontal",
            "style": "IPY_MODEL_36d4e99456514dbb8b7942463a2f256e",
            "value": 85
          }
        },
        "1d0ccf20e9a744f38958df31ba5c9d7d": {
          "model_module": "@jupyter-widgets/controls",
          "model_name": "HTMLModel",
          "model_module_version": "1.5.0",
          "state": {
            "_dom_classes": [],
            "_model_module": "@jupyter-widgets/controls",
            "_model_module_version": "1.5.0",
            "_model_name": "HTMLModel",
            "_view_count": null,
            "_view_module": "@jupyter-widgets/controls",
            "_view_module_version": "1.5.0",
            "_view_name": "HTMLView",
            "description": "",
            "description_tooltip": null,
            "layout": "IPY_MODEL_8ad4bd1afe8c412e90b914fee506e8e2",
            "placeholder": "​",
            "style": "IPY_MODEL_c7309475c0f0486db3d133927a99b0d9",
            "value": " 85.0/85.0 [00:00&lt;00:00, 6.43kB/s]"
          }
        },
        "d0dd646c363949ceb70afea23aa63d39": {
          "model_module": "@jupyter-widgets/base",
          "model_name": "LayoutModel",
          "model_module_version": "1.2.0",
          "state": {
            "_model_module": "@jupyter-widgets/base",
            "_model_module_version": "1.2.0",
            "_model_name": "LayoutModel",
            "_view_count": null,
            "_view_module": "@jupyter-widgets/base",
            "_view_module_version": "1.2.0",
            "_view_name": "LayoutView",
            "align_content": null,
            "align_items": null,
            "align_self": null,
            "border": null,
            "bottom": null,
            "display": null,
            "flex": null,
            "flex_flow": null,
            "grid_area": null,
            "grid_auto_columns": null,
            "grid_auto_flow": null,
            "grid_auto_rows": null,
            "grid_column": null,
            "grid_gap": null,
            "grid_row": null,
            "grid_template_areas": null,
            "grid_template_columns": null,
            "grid_template_rows": null,
            "height": null,
            "justify_content": null,
            "justify_items": null,
            "left": null,
            "margin": null,
            "max_height": null,
            "max_width": null,
            "min_height": null,
            "min_width": null,
            "object_fit": null,
            "object_position": null,
            "order": null,
            "overflow": null,
            "overflow_x": null,
            "overflow_y": null,
            "padding": null,
            "right": null,
            "top": null,
            "visibility": null,
            "width": null
          }
        },
        "2e4a11ff70ad4b3f8db40ffeddb3319d": {
          "model_module": "@jupyter-widgets/base",
          "model_name": "LayoutModel",
          "model_module_version": "1.2.0",
          "state": {
            "_model_module": "@jupyter-widgets/base",
            "_model_module_version": "1.2.0",
            "_model_name": "LayoutModel",
            "_view_count": null,
            "_view_module": "@jupyter-widgets/base",
            "_view_module_version": "1.2.0",
            "_view_name": "LayoutView",
            "align_content": null,
            "align_items": null,
            "align_self": null,
            "border": null,
            "bottom": null,
            "display": null,
            "flex": null,
            "flex_flow": null,
            "grid_area": null,
            "grid_auto_columns": null,
            "grid_auto_flow": null,
            "grid_auto_rows": null,
            "grid_column": null,
            "grid_gap": null,
            "grid_row": null,
            "grid_template_areas": null,
            "grid_template_columns": null,
            "grid_template_rows": null,
            "height": null,
            "justify_content": null,
            "justify_items": null,
            "left": null,
            "margin": null,
            "max_height": null,
            "max_width": null,
            "min_height": null,
            "min_width": null,
            "object_fit": null,
            "object_position": null,
            "order": null,
            "overflow": null,
            "overflow_x": null,
            "overflow_y": null,
            "padding": null,
            "right": null,
            "top": null,
            "visibility": null,
            "width": null
          }
        },
        "77f825458bba46899bab8aac911c7eff": {
          "model_module": "@jupyter-widgets/controls",
          "model_name": "DescriptionStyleModel",
          "model_module_version": "1.5.0",
          "state": {
            "_model_module": "@jupyter-widgets/controls",
            "_model_module_version": "1.5.0",
            "_model_name": "DescriptionStyleModel",
            "_view_count": null,
            "_view_module": "@jupyter-widgets/base",
            "_view_module_version": "1.2.0",
            "_view_name": "StyleView",
            "description_width": ""
          }
        },
        "67d344bac9b0461da3ba22f99088679e": {
          "model_module": "@jupyter-widgets/base",
          "model_name": "LayoutModel",
          "model_module_version": "1.2.0",
          "state": {
            "_model_module": "@jupyter-widgets/base",
            "_model_module_version": "1.2.0",
            "_model_name": "LayoutModel",
            "_view_count": null,
            "_view_module": "@jupyter-widgets/base",
            "_view_module_version": "1.2.0",
            "_view_name": "LayoutView",
            "align_content": null,
            "align_items": null,
            "align_self": null,
            "border": null,
            "bottom": null,
            "display": null,
            "flex": null,
            "flex_flow": null,
            "grid_area": null,
            "grid_auto_columns": null,
            "grid_auto_flow": null,
            "grid_auto_rows": null,
            "grid_column": null,
            "grid_gap": null,
            "grid_row": null,
            "grid_template_areas": null,
            "grid_template_columns": null,
            "grid_template_rows": null,
            "height": null,
            "justify_content": null,
            "justify_items": null,
            "left": null,
            "margin": null,
            "max_height": null,
            "max_width": null,
            "min_height": null,
            "min_width": null,
            "object_fit": null,
            "object_position": null,
            "order": null,
            "overflow": null,
            "overflow_x": null,
            "overflow_y": null,
            "padding": null,
            "right": null,
            "top": null,
            "visibility": null,
            "width": null
          }
        },
        "36d4e99456514dbb8b7942463a2f256e": {
          "model_module": "@jupyter-widgets/controls",
          "model_name": "ProgressStyleModel",
          "model_module_version": "1.5.0",
          "state": {
            "_model_module": "@jupyter-widgets/controls",
            "_model_module_version": "1.5.0",
            "_model_name": "ProgressStyleModel",
            "_view_count": null,
            "_view_module": "@jupyter-widgets/base",
            "_view_module_version": "1.2.0",
            "_view_name": "StyleView",
            "bar_color": null,
            "description_width": ""
          }
        },
        "8ad4bd1afe8c412e90b914fee506e8e2": {
          "model_module": "@jupyter-widgets/base",
          "model_name": "LayoutModel",
          "model_module_version": "1.2.0",
          "state": {
            "_model_module": "@jupyter-widgets/base",
            "_model_module_version": "1.2.0",
            "_model_name": "LayoutModel",
            "_view_count": null,
            "_view_module": "@jupyter-widgets/base",
            "_view_module_version": "1.2.0",
            "_view_name": "LayoutView",
            "align_content": null,
            "align_items": null,
            "align_self": null,
            "border": null,
            "bottom": null,
            "display": null,
            "flex": null,
            "flex_flow": null,
            "grid_area": null,
            "grid_auto_columns": null,
            "grid_auto_flow": null,
            "grid_auto_rows": null,
            "grid_column": null,
            "grid_gap": null,
            "grid_row": null,
            "grid_template_areas": null,
            "grid_template_columns": null,
            "grid_template_rows": null,
            "height": null,
            "justify_content": null,
            "justify_items": null,
            "left": null,
            "margin": null,
            "max_height": null,
            "max_width": null,
            "min_height": null,
            "min_width": null,
            "object_fit": null,
            "object_position": null,
            "order": null,
            "overflow": null,
            "overflow_x": null,
            "overflow_y": null,
            "padding": null,
            "right": null,
            "top": null,
            "visibility": null,
            "width": null
          }
        },
        "c7309475c0f0486db3d133927a99b0d9": {
          "model_module": "@jupyter-widgets/controls",
          "model_name": "DescriptionStyleModel",
          "model_module_version": "1.5.0",
          "state": {
            "_model_module": "@jupyter-widgets/controls",
            "_model_module_version": "1.5.0",
            "_model_name": "DescriptionStyleModel",
            "_view_count": null,
            "_view_module": "@jupyter-widgets/base",
            "_view_module_version": "1.2.0",
            "_view_name": "StyleView",
            "description_width": ""
          }
        },
        "28733c081dcf4a44a7201f6d446bab07": {
          "model_module": "@jupyter-widgets/controls",
          "model_name": "HBoxModel",
          "model_module_version": "1.5.0",
          "state": {
            "_dom_classes": [],
            "_model_module": "@jupyter-widgets/controls",
            "_model_module_version": "1.5.0",
            "_model_name": "HBoxModel",
            "_view_count": null,
            "_view_module": "@jupyter-widgets/controls",
            "_view_module_version": "1.5.0",
            "_view_name": "HBoxView",
            "box_style": "",
            "children": [
              "IPY_MODEL_b7631c1439d340319dfe9875deffb887",
              "IPY_MODEL_33934129deed46e69287670f925720db",
              "IPY_MODEL_1d21ee836ad347b694a25950c9405bd4"
            ],
            "layout": "IPY_MODEL_34bdb225557f4021ad00cadd88b67c8d"
          }
        },
        "b7631c1439d340319dfe9875deffb887": {
          "model_module": "@jupyter-widgets/controls",
          "model_name": "HTMLModel",
          "model_module_version": "1.5.0",
          "state": {
            "_dom_classes": [],
            "_model_module": "@jupyter-widgets/controls",
            "_model_module_version": "1.5.0",
            "_model_name": "HTMLModel",
            "_view_count": null,
            "_view_module": "@jupyter-widgets/controls",
            "_view_module_version": "1.5.0",
            "_view_name": "HTMLView",
            "description": "",
            "description_tooltip": null,
            "layout": "IPY_MODEL_01f7dd3ac55b43c09ea6c43699e4b17e",
            "placeholder": "​",
            "style": "IPY_MODEL_f7539b0766284089a5e06c2cc42b21ec",
            "value": "Downloading (…)lve/main/config.json: 100%"
          }
        },
        "33934129deed46e69287670f925720db": {
          "model_module": "@jupyter-widgets/controls",
          "model_name": "FloatProgressModel",
          "model_module_version": "1.5.0",
          "state": {
            "_dom_classes": [],
            "_model_module": "@jupyter-widgets/controls",
            "_model_module_version": "1.5.0",
            "_model_name": "FloatProgressModel",
            "_view_count": null,
            "_view_module": "@jupyter-widgets/controls",
            "_view_module_version": "1.5.0",
            "_view_name": "ProgressView",
            "bar_style": "success",
            "description": "",
            "description_tooltip": null,
            "layout": "IPY_MODEL_15cba67d237344a5868ab58470feba32",
            "max": 715,
            "min": 0,
            "orientation": "horizontal",
            "style": "IPY_MODEL_296d41e06bf247489a99ee1ef0ecefc5",
            "value": 715
          }
        },
        "1d21ee836ad347b694a25950c9405bd4": {
          "model_module": "@jupyter-widgets/controls",
          "model_name": "HTMLModel",
          "model_module_version": "1.5.0",
          "state": {
            "_dom_classes": [],
            "_model_module": "@jupyter-widgets/controls",
            "_model_module_version": "1.5.0",
            "_model_name": "HTMLModel",
            "_view_count": null,
            "_view_module": "@jupyter-widgets/controls",
            "_view_module_version": "1.5.0",
            "_view_name": "HTMLView",
            "description": "",
            "description_tooltip": null,
            "layout": "IPY_MODEL_fa7e641d0ce44cfcb0a136ed44c67f94",
            "placeholder": "​",
            "style": "IPY_MODEL_c64f902438db492cad4549180b8ce3f6",
            "value": " 715/715 [00:00&lt;00:00, 33.4kB/s]"
          }
        },
        "34bdb225557f4021ad00cadd88b67c8d": {
          "model_module": "@jupyter-widgets/base",
          "model_name": "LayoutModel",
          "model_module_version": "1.2.0",
          "state": {
            "_model_module": "@jupyter-widgets/base",
            "_model_module_version": "1.2.0",
            "_model_name": "LayoutModel",
            "_view_count": null,
            "_view_module": "@jupyter-widgets/base",
            "_view_module_version": "1.2.0",
            "_view_name": "LayoutView",
            "align_content": null,
            "align_items": null,
            "align_self": null,
            "border": null,
            "bottom": null,
            "display": null,
            "flex": null,
            "flex_flow": null,
            "grid_area": null,
            "grid_auto_columns": null,
            "grid_auto_flow": null,
            "grid_auto_rows": null,
            "grid_column": null,
            "grid_gap": null,
            "grid_row": null,
            "grid_template_areas": null,
            "grid_template_columns": null,
            "grid_template_rows": null,
            "height": null,
            "justify_content": null,
            "justify_items": null,
            "left": null,
            "margin": null,
            "max_height": null,
            "max_width": null,
            "min_height": null,
            "min_width": null,
            "object_fit": null,
            "object_position": null,
            "order": null,
            "overflow": null,
            "overflow_x": null,
            "overflow_y": null,
            "padding": null,
            "right": null,
            "top": null,
            "visibility": null,
            "width": null
          }
        },
        "01f7dd3ac55b43c09ea6c43699e4b17e": {
          "model_module": "@jupyter-widgets/base",
          "model_name": "LayoutModel",
          "model_module_version": "1.2.0",
          "state": {
            "_model_module": "@jupyter-widgets/base",
            "_model_module_version": "1.2.0",
            "_model_name": "LayoutModel",
            "_view_count": null,
            "_view_module": "@jupyter-widgets/base",
            "_view_module_version": "1.2.0",
            "_view_name": "LayoutView",
            "align_content": null,
            "align_items": null,
            "align_self": null,
            "border": null,
            "bottom": null,
            "display": null,
            "flex": null,
            "flex_flow": null,
            "grid_area": null,
            "grid_auto_columns": null,
            "grid_auto_flow": null,
            "grid_auto_rows": null,
            "grid_column": null,
            "grid_gap": null,
            "grid_row": null,
            "grid_template_areas": null,
            "grid_template_columns": null,
            "grid_template_rows": null,
            "height": null,
            "justify_content": null,
            "justify_items": null,
            "left": null,
            "margin": null,
            "max_height": null,
            "max_width": null,
            "min_height": null,
            "min_width": null,
            "object_fit": null,
            "object_position": null,
            "order": null,
            "overflow": null,
            "overflow_x": null,
            "overflow_y": null,
            "padding": null,
            "right": null,
            "top": null,
            "visibility": null,
            "width": null
          }
        },
        "f7539b0766284089a5e06c2cc42b21ec": {
          "model_module": "@jupyter-widgets/controls",
          "model_name": "DescriptionStyleModel",
          "model_module_version": "1.5.0",
          "state": {
            "_model_module": "@jupyter-widgets/controls",
            "_model_module_version": "1.5.0",
            "_model_name": "DescriptionStyleModel",
            "_view_count": null,
            "_view_module": "@jupyter-widgets/base",
            "_view_module_version": "1.2.0",
            "_view_name": "StyleView",
            "description_width": ""
          }
        },
        "15cba67d237344a5868ab58470feba32": {
          "model_module": "@jupyter-widgets/base",
          "model_name": "LayoutModel",
          "model_module_version": "1.2.0",
          "state": {
            "_model_module": "@jupyter-widgets/base",
            "_model_module_version": "1.2.0",
            "_model_name": "LayoutModel",
            "_view_count": null,
            "_view_module": "@jupyter-widgets/base",
            "_view_module_version": "1.2.0",
            "_view_name": "LayoutView",
            "align_content": null,
            "align_items": null,
            "align_self": null,
            "border": null,
            "bottom": null,
            "display": null,
            "flex": null,
            "flex_flow": null,
            "grid_area": null,
            "grid_auto_columns": null,
            "grid_auto_flow": null,
            "grid_auto_rows": null,
            "grid_column": null,
            "grid_gap": null,
            "grid_row": null,
            "grid_template_areas": null,
            "grid_template_columns": null,
            "grid_template_rows": null,
            "height": null,
            "justify_content": null,
            "justify_items": null,
            "left": null,
            "margin": null,
            "max_height": null,
            "max_width": null,
            "min_height": null,
            "min_width": null,
            "object_fit": null,
            "object_position": null,
            "order": null,
            "overflow": null,
            "overflow_x": null,
            "overflow_y": null,
            "padding": null,
            "right": null,
            "top": null,
            "visibility": null,
            "width": null
          }
        },
        "296d41e06bf247489a99ee1ef0ecefc5": {
          "model_module": "@jupyter-widgets/controls",
          "model_name": "ProgressStyleModel",
          "model_module_version": "1.5.0",
          "state": {
            "_model_module": "@jupyter-widgets/controls",
            "_model_module_version": "1.5.0",
            "_model_name": "ProgressStyleModel",
            "_view_count": null,
            "_view_module": "@jupyter-widgets/base",
            "_view_module_version": "1.2.0",
            "_view_name": "StyleView",
            "bar_color": null,
            "description_width": ""
          }
        },
        "fa7e641d0ce44cfcb0a136ed44c67f94": {
          "model_module": "@jupyter-widgets/base",
          "model_name": "LayoutModel",
          "model_module_version": "1.2.0",
          "state": {
            "_model_module": "@jupyter-widgets/base",
            "_model_module_version": "1.2.0",
            "_model_name": "LayoutModel",
            "_view_count": null,
            "_view_module": "@jupyter-widgets/base",
            "_view_module_version": "1.2.0",
            "_view_name": "LayoutView",
            "align_content": null,
            "align_items": null,
            "align_self": null,
            "border": null,
            "bottom": null,
            "display": null,
            "flex": null,
            "flex_flow": null,
            "grid_area": null,
            "grid_auto_columns": null,
            "grid_auto_flow": null,
            "grid_auto_rows": null,
            "grid_column": null,
            "grid_gap": null,
            "grid_row": null,
            "grid_template_areas": null,
            "grid_template_columns": null,
            "grid_template_rows": null,
            "height": null,
            "justify_content": null,
            "justify_items": null,
            "left": null,
            "margin": null,
            "max_height": null,
            "max_width": null,
            "min_height": null,
            "min_width": null,
            "object_fit": null,
            "object_position": null,
            "order": null,
            "overflow": null,
            "overflow_x": null,
            "overflow_y": null,
            "padding": null,
            "right": null,
            "top": null,
            "visibility": null,
            "width": null
          }
        },
        "c64f902438db492cad4549180b8ce3f6": {
          "model_module": "@jupyter-widgets/controls",
          "model_name": "DescriptionStyleModel",
          "model_module_version": "1.5.0",
          "state": {
            "_model_module": "@jupyter-widgets/controls",
            "_model_module_version": "1.5.0",
            "_model_name": "DescriptionStyleModel",
            "_view_count": null,
            "_view_module": "@jupyter-widgets/base",
            "_view_module_version": "1.2.0",
            "_view_name": "StyleView",
            "description_width": ""
          }
        },
        "c53de866414e4dedbc6f35d2098f7fca": {
          "model_module": "@jupyter-widgets/controls",
          "model_name": "HBoxModel",
          "model_module_version": "1.5.0",
          "state": {
            "_dom_classes": [],
            "_model_module": "@jupyter-widgets/controls",
            "_model_module_version": "1.5.0",
            "_model_name": "HBoxModel",
            "_view_count": null,
            "_view_module": "@jupyter-widgets/controls",
            "_view_module_version": "1.5.0",
            "_view_name": "HBoxView",
            "box_style": "",
            "children": [
              "IPY_MODEL_c73a11a9994e4b41adb3684d30ba661e",
              "IPY_MODEL_937463ba60ae4eaca78aed8824780945",
              "IPY_MODEL_a5b91f6b4472433f9ec407c965193d0c"
            ],
            "layout": "IPY_MODEL_d27950b59ec44b61a1f0013bc6ef40a3"
          }
        },
        "c73a11a9994e4b41adb3684d30ba661e": {
          "model_module": "@jupyter-widgets/controls",
          "model_name": "HTMLModel",
          "model_module_version": "1.5.0",
          "state": {
            "_dom_classes": [],
            "_model_module": "@jupyter-widgets/controls",
            "_model_module_version": "1.5.0",
            "_model_name": "HTMLModel",
            "_view_count": null,
            "_view_module": "@jupyter-widgets/controls",
            "_view_module_version": "1.5.0",
            "_view_name": "HTMLView",
            "description": "",
            "description_tooltip": null,
            "layout": "IPY_MODEL_b4954a1106964dd5b39ae482cd3283d0",
            "placeholder": "​",
            "style": "IPY_MODEL_5f1c69d953934de083e40775cff9604f",
            "value": "Downloading model.safetensors: 100%"
          }
        },
        "937463ba60ae4eaca78aed8824780945": {
          "model_module": "@jupyter-widgets/controls",
          "model_name": "FloatProgressModel",
          "model_module_version": "1.5.0",
          "state": {
            "_dom_classes": [],
            "_model_module": "@jupyter-widgets/controls",
            "_model_module_version": "1.5.0",
            "_model_name": "FloatProgressModel",
            "_view_count": null,
            "_view_module": "@jupyter-widgets/controls",
            "_view_module_version": "1.5.0",
            "_view_name": "ProgressView",
            "bar_style": "success",
            "description": "",
            "description_tooltip": null,
            "layout": "IPY_MODEL_e326948397da41b39a41b1e1d900f43e",
            "max": 1118459450,
            "min": 0,
            "orientation": "horizontal",
            "style": "IPY_MODEL_b7ca2805381f45458228d0fd59b49b91",
            "value": 1118459450
          }
        },
        "a5b91f6b4472433f9ec407c965193d0c": {
          "model_module": "@jupyter-widgets/controls",
          "model_name": "HTMLModel",
          "model_module_version": "1.5.0",
          "state": {
            "_dom_classes": [],
            "_model_module": "@jupyter-widgets/controls",
            "_model_module_version": "1.5.0",
            "_model_name": "HTMLModel",
            "_view_count": null,
            "_view_module": "@jupyter-widgets/controls",
            "_view_module_version": "1.5.0",
            "_view_name": "HTMLView",
            "description": "",
            "description_tooltip": null,
            "layout": "IPY_MODEL_08486333e9574f44869d56b05d0a9afe",
            "placeholder": "​",
            "style": "IPY_MODEL_410ea7a5b8d34b33b2ecdc91d7ea27b9",
            "value": " 1.12G/1.12G [00:06&lt;00:00, 185MB/s]"
          }
        },
        "d27950b59ec44b61a1f0013bc6ef40a3": {
          "model_module": "@jupyter-widgets/base",
          "model_name": "LayoutModel",
          "model_module_version": "1.2.0",
          "state": {
            "_model_module": "@jupyter-widgets/base",
            "_model_module_version": "1.2.0",
            "_model_name": "LayoutModel",
            "_view_count": null,
            "_view_module": "@jupyter-widgets/base",
            "_view_module_version": "1.2.0",
            "_view_name": "LayoutView",
            "align_content": null,
            "align_items": null,
            "align_self": null,
            "border": null,
            "bottom": null,
            "display": null,
            "flex": null,
            "flex_flow": null,
            "grid_area": null,
            "grid_auto_columns": null,
            "grid_auto_flow": null,
            "grid_auto_rows": null,
            "grid_column": null,
            "grid_gap": null,
            "grid_row": null,
            "grid_template_areas": null,
            "grid_template_columns": null,
            "grid_template_rows": null,
            "height": null,
            "justify_content": null,
            "justify_items": null,
            "left": null,
            "margin": null,
            "max_height": null,
            "max_width": null,
            "min_height": null,
            "min_width": null,
            "object_fit": null,
            "object_position": null,
            "order": null,
            "overflow": null,
            "overflow_x": null,
            "overflow_y": null,
            "padding": null,
            "right": null,
            "top": null,
            "visibility": null,
            "width": null
          }
        },
        "b4954a1106964dd5b39ae482cd3283d0": {
          "model_module": "@jupyter-widgets/base",
          "model_name": "LayoutModel",
          "model_module_version": "1.2.0",
          "state": {
            "_model_module": "@jupyter-widgets/base",
            "_model_module_version": "1.2.0",
            "_model_name": "LayoutModel",
            "_view_count": null,
            "_view_module": "@jupyter-widgets/base",
            "_view_module_version": "1.2.0",
            "_view_name": "LayoutView",
            "align_content": null,
            "align_items": null,
            "align_self": null,
            "border": null,
            "bottom": null,
            "display": null,
            "flex": null,
            "flex_flow": null,
            "grid_area": null,
            "grid_auto_columns": null,
            "grid_auto_flow": null,
            "grid_auto_rows": null,
            "grid_column": null,
            "grid_gap": null,
            "grid_row": null,
            "grid_template_areas": null,
            "grid_template_columns": null,
            "grid_template_rows": null,
            "height": null,
            "justify_content": null,
            "justify_items": null,
            "left": null,
            "margin": null,
            "max_height": null,
            "max_width": null,
            "min_height": null,
            "min_width": null,
            "object_fit": null,
            "object_position": null,
            "order": null,
            "overflow": null,
            "overflow_x": null,
            "overflow_y": null,
            "padding": null,
            "right": null,
            "top": null,
            "visibility": null,
            "width": null
          }
        },
        "5f1c69d953934de083e40775cff9604f": {
          "model_module": "@jupyter-widgets/controls",
          "model_name": "DescriptionStyleModel",
          "model_module_version": "1.5.0",
          "state": {
            "_model_module": "@jupyter-widgets/controls",
            "_model_module_version": "1.5.0",
            "_model_name": "DescriptionStyleModel",
            "_view_count": null,
            "_view_module": "@jupyter-widgets/base",
            "_view_module_version": "1.2.0",
            "_view_name": "StyleView",
            "description_width": ""
          }
        },
        "e326948397da41b39a41b1e1d900f43e": {
          "model_module": "@jupyter-widgets/base",
          "model_name": "LayoutModel",
          "model_module_version": "1.2.0",
          "state": {
            "_model_module": "@jupyter-widgets/base",
            "_model_module_version": "1.2.0",
            "_model_name": "LayoutModel",
            "_view_count": null,
            "_view_module": "@jupyter-widgets/base",
            "_view_module_version": "1.2.0",
            "_view_name": "LayoutView",
            "align_content": null,
            "align_items": null,
            "align_self": null,
            "border": null,
            "bottom": null,
            "display": null,
            "flex": null,
            "flex_flow": null,
            "grid_area": null,
            "grid_auto_columns": null,
            "grid_auto_flow": null,
            "grid_auto_rows": null,
            "grid_column": null,
            "grid_gap": null,
            "grid_row": null,
            "grid_template_areas": null,
            "grid_template_columns": null,
            "grid_template_rows": null,
            "height": null,
            "justify_content": null,
            "justify_items": null,
            "left": null,
            "margin": null,
            "max_height": null,
            "max_width": null,
            "min_height": null,
            "min_width": null,
            "object_fit": null,
            "object_position": null,
            "order": null,
            "overflow": null,
            "overflow_x": null,
            "overflow_y": null,
            "padding": null,
            "right": null,
            "top": null,
            "visibility": null,
            "width": null
          }
        },
        "b7ca2805381f45458228d0fd59b49b91": {
          "model_module": "@jupyter-widgets/controls",
          "model_name": "ProgressStyleModel",
          "model_module_version": "1.5.0",
          "state": {
            "_model_module": "@jupyter-widgets/controls",
            "_model_module_version": "1.5.0",
            "_model_name": "ProgressStyleModel",
            "_view_count": null,
            "_view_module": "@jupyter-widgets/base",
            "_view_module_version": "1.2.0",
            "_view_name": "StyleView",
            "bar_color": null,
            "description_width": ""
          }
        },
        "08486333e9574f44869d56b05d0a9afe": {
          "model_module": "@jupyter-widgets/base",
          "model_name": "LayoutModel",
          "model_module_version": "1.2.0",
          "state": {
            "_model_module": "@jupyter-widgets/base",
            "_model_module_version": "1.2.0",
            "_model_name": "LayoutModel",
            "_view_count": null,
            "_view_module": "@jupyter-widgets/base",
            "_view_module_version": "1.2.0",
            "_view_name": "LayoutView",
            "align_content": null,
            "align_items": null,
            "align_self": null,
            "border": null,
            "bottom": null,
            "display": null,
            "flex": null,
            "flex_flow": null,
            "grid_area": null,
            "grid_auto_columns": null,
            "grid_auto_flow": null,
            "grid_auto_rows": null,
            "grid_column": null,
            "grid_gap": null,
            "grid_row": null,
            "grid_template_areas": null,
            "grid_template_columns": null,
            "grid_template_rows": null,
            "height": null,
            "justify_content": null,
            "justify_items": null,
            "left": null,
            "margin": null,
            "max_height": null,
            "max_width": null,
            "min_height": null,
            "min_width": null,
            "object_fit": null,
            "object_position": null,
            "order": null,
            "overflow": null,
            "overflow_x": null,
            "overflow_y": null,
            "padding": null,
            "right": null,
            "top": null,
            "visibility": null,
            "width": null
          }
        },
        "410ea7a5b8d34b33b2ecdc91d7ea27b9": {
          "model_module": "@jupyter-widgets/controls",
          "model_name": "DescriptionStyleModel",
          "model_module_version": "1.5.0",
          "state": {
            "_model_module": "@jupyter-widgets/controls",
            "_model_module_version": "1.5.0",
            "_model_name": "DescriptionStyleModel",
            "_view_count": null,
            "_view_module": "@jupyter-widgets/base",
            "_view_module_version": "1.2.0",
            "_view_name": "StyleView",
            "description_width": ""
          }
        }
      }
    }
  },
  "cells": [
    {
      "cell_type": "markdown",
      "source": [
        "# QA sur document PDF avec LangChain & Hugging Face\n",
        "Ce notebook présente un use case de QA traité avec Langchain. LangChain, un framework open-source, qui permet de construire facilement des applications. Ce notebook explique pas à pas, les étapes pour construire cette application. L'idée est la suivante : on effectue de la recherche par similarité entre l'embedding de la question (input) et des morceaux de textes du document, afin d'identifier où la réponse semble se trouver. Enfin, on fournit au LLM la question ainsi que les informations dont on dispose (les morceaux de textes pertinants), pour avoir une réponse claire en language naturel.\n",
        "\n",
        "Etapes clés :\n",
        "1. Import du modèle\n",
        "2. Chargement & processing des documents\n",
        "3. HF Embeddings\n",
        "4. Creation de la Vector DB\n",
        "5. Creation de retriever\n",
        "6. Creation de la chain"
      ],
      "metadata": {
        "id": "t7wRa_GFNCp4"
      }
    },
    {
      "cell_type": "markdown",
      "source": [
        "![image.png](data:image/png;base64,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)"
      ],
      "metadata": {
        "id": "yWIH6RB5YDju"
      }
    },
    {
      "cell_type": "markdown",
      "source": [
        "Sources\n",
        "\n",
        "\n",
        "*   https://python.langchain.com/docs/modules/chains/popular/vector_db_qa.html\n",
        "*   https://github.com/gkamradt/langchain-tutorials/blob/main/LangChain%20Cookbook%20Part%202%20-%20Use%20Cases.ipynb"
      ],
      "metadata": {
        "id": "UXU4qOsqXawP"
      }
    },
    {
      "cell_type": "markdown",
      "source": [
        "## import"
      ],
      "metadata": {
        "id": "tHSbF0E_vihb"
      }
    },
    {
      "cell_type": "code",
      "execution_count": null,
      "metadata": {
        "id": "RRYSu48huSUW"
      },
      "outputs": [],
      "source": [
        "!pip -q install langchain tiktoken chromadb pypdf transformers InstructorEmbedding sentence_transformers\n",
        "!pip -q install accelerate bitsandbytes sentencepiece Xformers"
      ]
    },
    {
      "cell_type": "code",
      "source": [
        "!pip show langchain"
      ],
      "metadata": {
        "id": "J-KFB7J_u_3L",
        "colab": {
          "base_uri": "https://localhost:8080/"
        },
        "outputId": "11621689-7879-47fb-e477-19514cad7821"
      },
      "execution_count": null,
      "outputs": [
        {
          "output_type": "stream",
          "name": "stdout",
          "text": [
            "Name: langchain\n",
            "Version: 0.0.229\n",
            "Summary: Building applications with LLMs through composability\n",
            "Home-page: https://www.github.com/hwchase17/langchain\n",
            "Author: \n",
            "Author-email: \n",
            "License: MIT\n",
            "Location: /usr/local/lib/python3.10/dist-packages\n",
            "Requires: aiohttp, async-timeout, dataclasses-json, langchainplus-sdk, numexpr, numpy, openapi-schema-pydantic, pydantic, PyYAML, requests, SQLAlchemy, tenacity\n",
            "Required-by: \n"
          ]
        }
      ]
    },
    {
      "cell_type": "markdown",
      "source": [
        "## 1. Import du modèle\n",
        "Import du LLM, la brique élémentaire de notre application. Téléchargement via hugging face, le LLM tourne le local.\n",
        "\n"
      ],
      "metadata": {
        "id": "yAdw3ADcS8Ph"
      }
    },
    {
      "cell_type": "code",
      "source": [
        "import torch\n",
        "import transformers\n",
        "from transformers import GenerationConfig, pipeline, AutoModelForCausalLM, AutoTokenizer\n",
        "\n",
        "tokenizer = AutoTokenizer.from_pretrained(\"bigscience/bloomz-560m\") #3b 1b1 560m\n",
        "model = AutoModelForCausalLM.from_pretrained(\"bigscience/bloomz-560m\",load_in_8bit=True, device_map='auto', torch_dtype=torch.float16, low_cpu_mem_usage=True)"
      ],
      "metadata": {
        "id": "_38HzUkvIewb",
        "colab": {
          "base_uri": "https://localhost:8080/",
          "height": 718,
          "referenced_widgets": [
            "7ebeb7bb514e4645bf7b7324e9f62d14",
            "b5a7bebe013d4d8abbc01bf3376e489b",
            "b5a0c0b0f6c540109afdc3edbb87cd61",
            "8b34e51c041b4fe39323c345bb62f545",
            "da5385f408c54ddcb1ef3dc9993e772f",
            "5e8919231a974af99f7b5090342ae43a",
            "609dd9af735b4e9082bbbe389d9c4f84",
            "40f821a7c5dc46beaa470463afb5ba6c",
            "5f18397ffe5e4571bd8f59f6bb1cd195",
            "89f87dc1eeab4c998cd5b62e54720fff",
            "5b436ea5310f42ba82e703e1560aff8f",
            "cd2b38c09d6f48ecac7b2fa2f74ae701",
            "69c9b9722c22445ab99f26c819d8856d",
            "abd1c06ccf324d829a11294617393ec4",
            "c9c7af7540f14a4e9df899cc8aca76a8",
            "2df2ae24636e4e4d8d2e415ffac61f09",
            "222ed32feb4443a2b8cf42506f4cd96f",
            "d506c183caa343f3a1a2622d6c10a803",
            "7f147e65e49340e58b3a7bcf96075464",
            "a62565ce0de546e0aab004ba7434b5d7",
            "e1bb22be541e4cdc98a205fddccc4628",
            "7881d7b08f544789a78e30937fa6196c",
            "4059399fa7914e9fab91dc8243d68b4b",
            "e15a6e06e9ba4f68a2ab1f48eb276948",
            "8699c769f67f4bf699d1aff6fba701d1",
            "1d0ccf20e9a744f38958df31ba5c9d7d",
            "d0dd646c363949ceb70afea23aa63d39",
            "2e4a11ff70ad4b3f8db40ffeddb3319d",
            "77f825458bba46899bab8aac911c7eff",
            "67d344bac9b0461da3ba22f99088679e",
            "36d4e99456514dbb8b7942463a2f256e",
            "8ad4bd1afe8c412e90b914fee506e8e2",
            "c7309475c0f0486db3d133927a99b0d9",
            "28733c081dcf4a44a7201f6d446bab07",
            "b7631c1439d340319dfe9875deffb887",
            "33934129deed46e69287670f925720db",
            "1d21ee836ad347b694a25950c9405bd4",
            "34bdb225557f4021ad00cadd88b67c8d",
            "01f7dd3ac55b43c09ea6c43699e4b17e",
            "f7539b0766284089a5e06c2cc42b21ec",
            "15cba67d237344a5868ab58470feba32",
            "296d41e06bf247489a99ee1ef0ecefc5",
            "fa7e641d0ce44cfcb0a136ed44c67f94",
            "c64f902438db492cad4549180b8ce3f6",
            "c53de866414e4dedbc6f35d2098f7fca",
            "c73a11a9994e4b41adb3684d30ba661e",
            "937463ba60ae4eaca78aed8824780945",
            "a5b91f6b4472433f9ec407c965193d0c",
            "d27950b59ec44b61a1f0013bc6ef40a3",
            "b4954a1106964dd5b39ae482cd3283d0",
            "5f1c69d953934de083e40775cff9604f",
            "e326948397da41b39a41b1e1d900f43e",
            "b7ca2805381f45458228d0fd59b49b91",
            "08486333e9574f44869d56b05d0a9afe",
            "410ea7a5b8d34b33b2ecdc91d7ea27b9"
          ]
        },
        "outputId": "609aba49-67b2-4819-a2cf-03205e9316c4"
      },
      "execution_count": null,
      "outputs": [
        {
          "output_type": "display_data",
          "data": {
            "text/plain": [
              "Downloading (…)okenizer_config.json:   0%|          | 0.00/222 [00:00<?, ?B/s]"
            ],
            "application/vnd.jupyter.widget-view+json": {
              "version_major": 2,
              "version_minor": 0,
              "model_id": "7ebeb7bb514e4645bf7b7324e9f62d14"
            }
          },
          "metadata": {}
        },
        {
          "output_type": "display_data",
          "data": {
            "text/plain": [
              "Downloading tokenizer.json:   0%|          | 0.00/14.5M [00:00<?, ?B/s]"
            ],
            "application/vnd.jupyter.widget-view+json": {
              "version_major": 2,
              "version_minor": 0,
              "model_id": "cd2b38c09d6f48ecac7b2fa2f74ae701"
            }
          },
          "metadata": {}
        },
        {
          "output_type": "display_data",
          "data": {
            "text/plain": [
              "Downloading (…)cial_tokens_map.json:   0%|          | 0.00/85.0 [00:00<?, ?B/s]"
            ],
            "application/vnd.jupyter.widget-view+json": {
              "version_major": 2,
              "version_minor": 0,
              "model_id": "4059399fa7914e9fab91dc8243d68b4b"
            }
          },
          "metadata": {}
        },
        {
          "output_type": "display_data",
          "data": {
            "text/plain": [
              "Downloading (…)lve/main/config.json:   0%|          | 0.00/715 [00:00<?, ?B/s]"
            ],
            "application/vnd.jupyter.widget-view+json": {
              "version_major": 2,
              "version_minor": 0,
              "model_id": "28733c081dcf4a44a7201f6d446bab07"
            }
          },
          "metadata": {}
        },
        {
          "output_type": "display_data",
          "data": {
            "text/plain": [
              "Downloading model.safetensors:   0%|          | 0.00/1.12G [00:00<?, ?B/s]"
            ],
            "application/vnd.jupyter.widget-view+json": {
              "version_major": 2,
              "version_minor": 0,
              "model_id": "c53de866414e4dedbc6f35d2098f7fca"
            }
          },
          "metadata": {}
        },
        {
          "output_type": "stream",
          "name": "stdout",
          "text": [
            "\n",
            "===================================BUG REPORT===================================\n",
            "Welcome to bitsandbytes. For bug reports, please run\n",
            "\n",
            "python -m bitsandbytes\n",
            "\n",
            " and submit this information together with your error trace to: https://github.com/TimDettmers/bitsandbytes/issues\n",
            "================================================================================\n",
            "bin /usr/local/lib/python3.10/dist-packages/bitsandbytes/libbitsandbytes_cuda118.so\n",
            "CUDA_SETUP: WARNING! libcudart.so not found in any environmental path. Searching in backup paths...\n",
            "CUDA SETUP: CUDA runtime path found: /usr/local/cuda/lib64/libcudart.so\n",
            "CUDA SETUP: Highest compute capability among GPUs detected: 7.5\n",
            "CUDA SETUP: Detected CUDA version 118\n",
            "CUDA SETUP: Loading binary /usr/local/lib/python3.10/dist-packages/bitsandbytes/libbitsandbytes_cuda118.so...\n"
          ]
        },
        {
          "output_type": "stream",
          "name": "stderr",
          "text": [
            "/usr/local/lib/python3.10/dist-packages/bitsandbytes/cuda_setup/main.py:149: UserWarning: /usr/lib64-nvidia did not contain ['libcudart.so', 'libcudart.so.11.0', 'libcudart.so.12.0'] as expected! Searching further paths...\n",
            "  warn(msg)\n",
            "/usr/local/lib/python3.10/dist-packages/bitsandbytes/cuda_setup/main.py:149: UserWarning: WARNING: The following directories listed in your path were found to be non-existent: {PosixPath('/sys/fs/cgroup/memory.events /var/colab/cgroup/jupyter-children/memory.events')}\n",
            "  warn(msg)\n",
            "/usr/local/lib/python3.10/dist-packages/bitsandbytes/cuda_setup/main.py:149: UserWarning: WARNING: The following directories listed in your path were found to be non-existent: {PosixPath('//172.28.0.1'), PosixPath('http'), PosixPath('8013')}\n",
            "  warn(msg)\n",
            "/usr/local/lib/python3.10/dist-packages/bitsandbytes/cuda_setup/main.py:149: UserWarning: WARNING: The following directories listed in your path were found to be non-existent: {PosixPath('--logtostderr --listen_host=172.28.0.12 --target_host=172.28.0.12 --tunnel_background_save_url=https'), PosixPath('//colab.research.google.com/tun/m/cc48301118ce562b961b3c22d803539adc1e0c19/gpu-t4-hm-2z9ptvdmk4i2a --tunnel_background_save_delay=10s --tunnel_periodic_background_save_frequency=30m0s --enable_output_coalescing=true --output_coalescing_required=true')}\n",
            "  warn(msg)\n",
            "/usr/local/lib/python3.10/dist-packages/bitsandbytes/cuda_setup/main.py:149: UserWarning: WARNING: The following directories listed in your path were found to be non-existent: {PosixPath('/env/python')}\n",
            "  warn(msg)\n",
            "/usr/local/lib/python3.10/dist-packages/bitsandbytes/cuda_setup/main.py:149: UserWarning: WARNING: The following directories listed in your path were found to be non-existent: {PosixPath('//ipykernel.pylab.backend_inline'), PosixPath('module')}\n",
            "  warn(msg)\n",
            "/usr/local/lib/python3.10/dist-packages/bitsandbytes/cuda_setup/main.py:149: UserWarning: Found duplicate ['libcudart.so', 'libcudart.so.11.0', 'libcudart.so.12.0'] files: {PosixPath('/usr/local/cuda/lib64/libcudart.so'), PosixPath('/usr/local/cuda/lib64/libcudart.so.11.0')}.. We'll flip a coin and try one of these, in order to fail forward.\n",
            "Either way, this might cause trouble in the future:\n",
            "If you get `CUDA error: invalid device function` errors, the above might be the cause and the solution is to make sure only one ['libcudart.so', 'libcudart.so.11.0', 'libcudart.so.12.0'] in the paths that we search based on your env.\n",
            "  warn(msg)\n"
          ]
        }
      ]
    },
    {
      "cell_type": "markdown",
      "source": [
        "Avec `HuggingFacePipeline` de `langchain.llms`, on peut inférer facilement un LLM."
      ],
      "metadata": {
        "id": "zH5vDHcOSTFT"
      }
    },
    {
      "cell_type": "code",
      "source": [
        "from transformers import pipeline\n",
        "from langchain.llms import HuggingFacePipeline\n",
        "import torch\n",
        "\n",
        "pipe = pipeline(\n",
        "    \"text-generation\",\n",
        "    model=model,\n",
        "    tokenizer=tokenizer,\n",
        "   # min_length=10,\n",
        "    max_length=1024,\n",
        "    temperature=0,\n",
        "    top_p=0.95,\n",
        "    repetition_penalty=1.15\n",
        ")\n",
        "\n",
        "local_llm = HuggingFacePipeline(pipeline=pipe)"
      ],
      "metadata": {
        "id": "6G98f4fXI5kT"
      },
      "execution_count": null,
      "outputs": []
    },
    {
      "cell_type": "markdown",
      "source": [
        "Quelques questions d'échauffement."
      ],
      "metadata": {
        "id": "Nhp0Ar-yROnM"
      }
    },
    {
      "cell_type": "code",
      "source": [
        "print(local_llm('What is the capital of France ?'))"
      ],
      "metadata": {
        "id": "vZ6FB4R8K42I",
        "colab": {
          "base_uri": "https://localhost:8080/"
        },
        "outputId": "5f92f63b-da02-49fc-dc6b-0b2936919364"
      },
      "execution_count": null,
      "outputs": [
        {
          "output_type": "stream",
          "name": "stdout",
          "text": [
            " Paris\n"
          ]
        }
      ]
    },
    {
      "cell_type": "code",
      "source": [
        "print(local_llm('Which day comes after friday ?'))"
      ],
      "metadata": {
        "id": "ipa3z1egycoh",
        "colab": {
          "base_uri": "https://localhost:8080/"
        },
        "outputId": "7166695a-e2f1-4344-eba0-c78b6e95d799"
      },
      "execution_count": null,
      "outputs": [
        {
          "output_type": "stream",
          "name": "stdout",
          "text": [
            " Saturday\n"
          ]
        }
      ]
    },
    {
      "cell_type": "code",
      "source": [
        "print(local_llm('What is the color of the sky ?'))"
      ],
      "metadata": {
        "id": "pWz3UmsS7Vs9",
        "colab": {
          "base_uri": "https://localhost:8080/"
        },
        "outputId": "e17a47d6-fb12-4789-fb35-81dfdafab3b2"
      },
      "execution_count": null,
      "outputs": [
        {
          "output_type": "stream",
          "name": "stdout",
          "text": [
            " blue\n"
          ]
        }
      ]
    },
    {
      "cell_type": "markdown",
      "source": [
        "# LangChain multi-doc retriever with ChromaDB\n",
        "\n",
        "***New Points***\n",
        "- Multiple Files - PDFs\n",
        "- ChromaDB : Chroma is the open-source embedding database. Chroma makes it easy to build LLM apps by making knowledge, facts, and skills pluggable for LLMs.\n",
        "- Local LLM\n",
        "- Instuctor Embeddings\n"
      ],
      "metadata": {
        "id": "7AnZQpL_IZZZ"
      }
    },
    {
      "cell_type": "markdown",
      "source": [
        "## Setting up LangChain\n"
      ],
      "metadata": {
        "id": "HqwsGJDhvAQ5"
      }
    },
    {
      "cell_type": "code",
      "source": [
        "import os"
      ],
      "metadata": {
        "id": "dNA4TsHpu6OM"
      },
      "execution_count": null,
      "outputs": []
    },
    {
      "cell_type": "code",
      "source": [
        "from langchain.vectorstores import Chroma # pour stocker les embeddings\n",
        "from langchain.text_splitter import RecursiveCharacterTextSplitter # pour découper les documents en morceau\n",
        "\n",
        "from langchain.chains import RetrievalQA # chaine de Q/A\n",
        "from langchain.document_loaders import TextLoader\n",
        "from langchain.document_loaders import PyPDFLoader\n",
        "from langchain.document_loaders import DirectoryLoader\n",
        "\n",
        "from langchain.embeddings import HuggingFaceInstructEmbeddings # charger le modèle d'embedding"
      ],
      "metadata": {
        "id": "XHVE9uFb3Ajj"
      },
      "execution_count": null,
      "outputs": []
    },
    {
      "cell_type": "markdown",
      "source": [
        "## 2. Chargement & processing des documents\n",
        "Lecture des fichiers .pdf ou .txt avec `TextLoader` `PyPDFLoader` `DirectoryLoader`. Ici le fichier est stocké dans le dossier /documents/.\n"
      ],
      "metadata": {
        "id": "9UcQKUId3X2M"
      }
    },
    {
      "cell_type": "code",
      "source": [
        "# Load and process the text files\n",
        "\n",
        "# Pour un seul fichier\n",
        "# loader = TextLoader('attention.txt')\n",
        "\n",
        "loader = DirectoryLoader('./documents/', glob=\"./*.pdf\", loader_cls=PyPDFLoader)\n",
        "\n",
        "documents = loader.load()"
      ],
      "metadata": {
        "id": "PRSeXXc_3Ypj"
      },
      "execution_count": null,
      "outputs": []
    },
    {
      "cell_type": "code",
      "source": [
        "len(documents)"
      ],
      "metadata": {
        "id": "vT6KgAIT_BtB",
        "colab": {
          "base_uri": "https://localhost:8080/"
        },
        "outputId": "2d075072-0f07-42d9-f075-f94cca0e2927"
      },
      "execution_count": null,
      "outputs": [
        {
          "output_type": "execute_result",
          "data": {
            "text/plain": [
              "40"
            ]
          },
          "metadata": {},
          "execution_count": 16
        }
      ]
    },
    {
      "cell_type": "markdown",
      "source": [
        "Les documents sont coupés dans un premier temps pages par pages. Les metadata permettent de connaitre la source (chemin) et la page précise."
      ],
      "metadata": {
        "id": "xfYtSJ36TDwB"
      }
    },
    {
      "cell_type": "code",
      "source": [
        "documents[0]"
      ],
      "metadata": {
        "colab": {
          "base_uri": "https://localhost:8080/"
        },
        "id": "lJRiokmBHZkx",
        "outputId": "cf101603-7752-4acc-ca3f-4193cbe75726"
      },
      "execution_count": null,
      "outputs": [
        {
          "output_type": "execute_result",
          "data": {
            "text/plain": [
              "Document(page_content=\"1 janvier2015\\nC O N S T I T U T I O N\\nLe Gouvernement de la République, conformément\\nàla loi constitutionnelledu 3juin 1958,a proposé,\\nLepeuplefrançais aadopté,\\nLe Président de la République promulgue la loi\\nconstitutionnelledontlateneursuit:\\nPRÉAMBULE\\nLe peuple français proclame solennellement son attachement aux Droits de\\nl'homme et aux principes delasouveraineté nationaletels qu'ils ont été définis parla\\nDéclaration de 1789, confirmée et complétée par le préambule de la Constitution de\\n1946, ainsi qu'aux droits et devoirs définis dans la Charte de l'environnement de\\n2004.\\nEn vertu de ces principes et de celui de la libre détermination des peuples, la\\nRépublique offre aux territoires d'outre-mer qui manifestent la volonté d'y adhérer\\ndes institutions nouvelles fondées sur l'idéal commun de liberté, d'égalité et de\\nfraternitéet conçuesen vuedeleurévolutiondémocratique.\\n________\\nARTICLE PREMIER . La France est une République indivisible, laïque,\\ndémocratique et sociale. Elle assure l'égalité devant la loi de tous les citoyens sans\\ndistinction d'origine, de race ou de religion. Elle respecte toutes les croyances. Son\\norganisation estdécentralisée.\\nLa loi favorise l'égal accès des femmes et des hommes aux mandats électoraux et\\nfonctions électives, ainsi qu'aux responsabilités professionnelleset sociales.\\n1\", metadata={'source': 'documents/constitution.pdf', 'page': 0})"
            ]
          },
          "metadata": {},
          "execution_count": 18
        }
      ]
    },
    {
      "cell_type": "markdown",
      "source": [
        "On découpe les documents en morceaux. Il existe plusieurs méthodes `RecursiveCharacterTextSplitter`, `CharacterTextSplitter`. Dans chacun de ses morceaux de textes, on peut retrouver le document et la page d'origine."
      ],
      "metadata": {
        "id": "KOZB1940-VLb"
      }
    },
    {
      "cell_type": "code",
      "source": [
        "#splitting the text into (CharacterTextSplitter)\n",
        "text_splitter = RecursiveCharacterTextSplitter(chunk_size=1000, # controls the max size (in terms of number of characters) of the final documents\n",
        "                                               chunk_overlap=200 # specifies how much overlap there should be between chunks.\n",
        "                                              )\n",
        "texts = text_splitter.split_documents(documents)"
      ],
      "metadata": {
        "id": "3__nT0D4Fkmg"
      },
      "execution_count": null,
      "outputs": []
    },
    {
      "cell_type": "code",
      "source": [
        "len(texts)"
      ],
      "metadata": {
        "id": "YJObVw0CVlJw",
        "colab": {
          "base_uri": "https://localhost:8080/"
        },
        "outputId": "484d0f20-98c6-47c9-99f8-ea650975def5"
      },
      "execution_count": null,
      "outputs": [
        {
          "output_type": "execute_result",
          "data": {
            "text/plain": [
              "222"
            ]
          },
          "metadata": {},
          "execution_count": 25
        }
      ]
    },
    {
      "cell_type": "markdown",
      "source": [
        "On passe d'un document à 40 pages à 222 morceaux de ce document."
      ],
      "metadata": {
        "id": "7SdmrD64TUo4"
      }
    },
    {
      "cell_type": "code",
      "source": [
        "texts[0]"
      ],
      "metadata": {
        "id": "WFnfHlVzV4M0",
        "colab": {
          "base_uri": "https://localhost:8080/"
        },
        "outputId": "fab5569b-c5fd-474d-93fe-1f706416cd74"
      },
      "execution_count": null,
      "outputs": [
        {
          "output_type": "execute_result",
          "data": {
            "text/plain": [
              "Document(page_content=\"1 janvier2015\\nC O N S T I T U T I O N\\nLe Gouvernement de la République, conformément\\nàla loi constitutionnelledu 3juin 1958,a proposé,\\nLepeuplefrançais aadopté,\\nLe Président de la République promulgue la loi\\nconstitutionnelledontlateneursuit:\\nPRÉAMBULE\\nLe peuple français proclame solennellement son attachement aux Droits de\\nl'homme et aux principes delasouveraineté nationaletels qu'ils ont été définis parla\\nDéclaration de 1789, confirmée et complétée par le préambule de la Constitution de\", metadata={'source': 'documents/constitution.pdf', 'page': 0})"
            ]
          },
          "metadata": {},
          "execution_count": 26
        }
      ]
    },
    {
      "cell_type": "markdown",
      "source": [
        "## 3. HF Embeddings"
      ],
      "metadata": {
        "id": "fhs0C0FYASlM"
      }
    },
    {
      "cell_type": "markdown",
      "source": [
        "Un point cléf dans la recherche sémantique est l'embedding des morceaux de document. Ici on import un modèle (transformer-encoder) depuis hugging face. A la manière de Open Leaderboard LLM, qui classe les LLMs (decoder),\n",
        "[Massive Text Embedding Benchmark (MTEB) Leaderboard](https://huggingface.co/spaces/mteb/leaderboard) classe les modèles d'embeddings.\n",
        "\n",
        "On choisit e5-small-v2 qui génère des embeddings de dimension 768. Attention à la longueur max en entrée.\n",
        "\n"
      ],
      "metadata": {
        "id": "KtP6jnFyTafQ"
      }
    },
    {
      "cell_type": "code",
      "source": [
        "from langchain.embeddings import HuggingFaceInstructEmbeddings\n",
        "\n",
        "instructor_embeddings = HuggingFaceInstructEmbeddings(model_name=\"ggrn/e5-small-v2\", #hkunlp/instructor-xl\n",
        "                                                      model_kwargs={\"device\": \"cuda\"})"
      ],
      "metadata": {
        "id": "Emj46ATxtV9C",
        "colab": {
          "base_uri": "https://localhost:8080/",
          "height": 404,
          "referenced_widgets": [
            "e899dc95c39e4fcbaccaa52687e03efd",
            "0a7bcf1de54c43ad98ddafd7e25760d8",
            "2497e4c3cde4495c862d8e1ed30d26ae",
            "732bab0253c54ee7817582124434cb6e",
            "d859f7f11284424da4853927554181b2",
            "f87378b524264f95929385cc9370a0b1",
            "31764b23f5734526ac94aff7b24da0f6",
            "12838e8a34ce436ebbd7992afedf624d",
            "2f94f133961b48cda8861cb843ecd3b2",
            "55766a9c2db64767af51bed674117d96",
            "4986736e52d34526b57aa48d0d46b576",
            "52f89fc36f8f47689e4f1cd2daede0ab",
            "af5b03dc1acf47f483a6217b07735ec8",
            "711d72f11aa24f75b655a05ba59936e4",
            "6bcdf82919154a719555e20d2c26dd4f",
            "c4d1dea7843e4cbd975400eea84568b4",
            "bd8ad8cce41d44b5a1d81dbb69493832",
            "ef79190d679f420dbc28f2b55c71066b",
            "4d45c8a5132442a793bc3db6bf1f7ac7",
            "29c1da16247942159587ef3edc1ad9cc",
            "087e138a22794598afdd0db9ca0be629",
            "8d0a320a247f4117be0cc9b0105bc9f7",
            "ec789c002a7f43e5b7a8f196b89cb743",
            "f31b00254e7d4aa3a1d10d8a04c0d18a",
            "a4121a61fe5d4ba1bc50c4a4f2e896dd",
            "4bf31c119e754de8b0afcd715224728b",
            "4bd51a1977994efb9757e17b1a6b1f3f",
            "e06fd11dd80740c585b3b201888898e5",
            "29d1f77ec1464ce88265716a6fde05dd",
            "f6f1c2c67131450da037024d804e8e40",
            "061d2196e90c40839f32d34b57d4febc",
            "beeb6ea26c3641b784b248c163b7f539",
            "742c0d7d4f6742c49d8671b76a3cfdb1",
            "38fe3b94d6664bc19ba9b704daa893bf",
            "a4c1fee618d44ca1842074c5625f0147",
            "8c68db44a93a46f3a10f83512df3f432",
            "466024fcdae94be085fc24ce460e54c3",
            "208551d25d85444fbcf5cf05247fb00b",
            "8f0d20689ff84fd4a8303b219c15d356",
            "9099c81cb7184a61bfcfd19f1b6849b3",
            "58dcd30fd234458481800d32044e064d",
            "b285320bbe18419fb83b10f1f0628d0c",
            "06032fef4130429591d4709151eea91b",
            "573494b9b5f344248fab255801c3ff3c",
            "2ca5673e4fab449ebb68f60aa1a46eb2",
            "c1e8f941ba4f4cac8401b01dfde16459",
            "a0704b698c9b41e7b6dff06f4b2863a7",
            "87d6602fa74c4759a06c740f138fd6f8",
            "ba4abee8a841410eb069f4477bd35dcb",
            "493bafdb4ced4569a447ed6a2963b2d7",
            "38e97925d3d84eec8775eb36b1b0b5dd",
            "e05b626bc158473bbbffae9954904bdf",
            "8b8cb1c78b8a404bad3597752188fbf7",
            "4ebb17eee8524dfcadec4356ee7c42f3",
            "d5ef329dd8bd4a70b035e721e1a42b32",
            "24c7d4aa00734d57ad8b684f36df3bee",
            "6a8e94f831574aaa8e11d473ba43ffdb",
            "74b72c332c0b4ed19e5bd4067266b2e6",
            "4fe3e80f4c8544a0b11c76a717fc4189",
            "b6a9fe0ee2164b3d96d2541be49efa3f",
            "a28abdc596134a82aefb0b8ce8994559",
            "03699581a5664520b2e4173263db07d5",
            "670e183ee2514ce4b38f73839cdb1c9c",
            "0499c4bf7da64874ae9b01202d1fee22",
            "3722886362fe454fa5ccac6d461d679b",
            "992053bfbc4e4ea289fd904515f4ea1a",
            "4384ba0734b0499b9758fff70d38858e",
            "a1fb11984bbe4f039fbd8bc4479ac7c1",
            "9b7184ea60174369a18f70e4accbc33a",
            "1238549f77d442c7a5efdb38285ddee5",
            "4f0c2a549f2f44c9ad00bbb1088adfdd",
            "df24d2d4d7ab4ce1b9ff755d32d297a8",
            "d1fc986748e84ea9bc8f217dbd9926cb",
            "313b0387932142318a0ecd3cd8bb01a7",
            "7ffc9954d4f449bb930d335da20523f9",
            "5ad03772b30e4d00b360e4941e6dafca",
            "4869fbaaf50b4b32914bc56592ea3cad",
            "747346035823436289be6fe3e4f82af6",
            "9630c9f9316c4f2b8bdec6591abb6676",
            "4e22cc7ce2a34567b1d40addfe7465f8",
            "2f632b91c61d40b4b22569d4857c81e3",
            "08741aefe304402a99f2d9f5ccf43efc",
            "6bd746908c284ec1bfc93d044503f9c9",
            "4426e36746694d0d8daf7895e6f30150",
            "dfb2f76370024d5f9669393ec826b639",
            "a67ea528d0e34cbea3bf419e7ecdba9a",
            "1ac1acf2cbc8440a938e716703f6f87d",
            "9951c1e46519430dbae03338dc45ba7c",
            "71dbed1bc59e49ce9250ee706e66967a",
            "f593e565bf44404c8e606de1ec3778dd",
            "19c95be07a28499f8a6c148013731646",
            "13ce1560f92d4456b2bdc1430ddc950b",
            "85b45dd035144dcbaabd8a12091d67f2",
            "79b1b8ea3c6b4b1bbb74a189f568e9ef",
            "45909356a3bf44d4b4681b4a202bfeed",
            "fe3210a30c9e4d8699c7de9f4e256dca",
            "b26badf7d43b486e8884c64c0a4c4f87",
            "53a01aa1e81a49deb87150593c57b828",
            "176540343e33426da5bd52a3a4915b6d",
            "1d5a695379e24e7cbb81c93e25d3fff6",
            "44bf3d93e4994831835e6f89d4d58d6e",
            "89a83736484f43009601afbf4d02aae4",
            "f001990d47234d6b87c793952b8bdfa4",
            "89d55093b6474a2abc680b6c77e75b43",
            "ac4ceca62dd94f6b9af019dd3a8c8260",
            "a23222790eac4080a0e4f2933288b31b",
            "4650c94d03294f7995eb338e60f9db1c",
            "2f5dbdcb6b64407e89ef9d3656f2f504",
            "65b6158d6f86484a80f218f92de1ec03",
            "402380a9ffe14f37b5d4852120f319db",
            "e580481ae94b4f1ea8ce1dd1effc4383",
            "3a6bfd90f62a4b038f9248841f916cce",
            "25dde8d188db4d6db83fb1c70e1010ce",
            "3f69f17f7f564922a243dbc104edc246",
            "01eeff6328034524bcd0e60e05819cfb",
            "7af4c2c02305442491a6f8598ab4a45e",
            "93cd41d6beba4269a663c32d848501e6",
            "e7e1a78d44fb4071af2923831f186c3a",
            "5dc5acf7a2894a9297130a4d83394276",
            "1f4645b45ffb4d58890044b3ddbe1dee",
            "f2d4f8e6df37488aa9fa69f82d39bc75"
          ]
        },
        "outputId": "fb9c9df5-c9ad-4189-fdd2-6389a3e4f2ad"
      },
      "execution_count": null,
      "outputs": [
        {
          "output_type": "display_data",
          "data": {
            "text/plain": [
              "Downloading (…)60cb8/.gitattributes:   0%|          | 0.00/1.48k [00:00<?, ?B/s]"
            ],
            "application/vnd.jupyter.widget-view+json": {
              "version_major": 2,
              "version_minor": 0,
              "model_id": "e899dc95c39e4fcbaccaa52687e03efd"
            }
          },
          "metadata": {}
        },
        {
          "output_type": "display_data",
          "data": {
            "text/plain": [
              "Downloading (…)_Pooling/config.json:   0%|          | 0.00/200 [00:00<?, ?B/s]"
            ],
            "application/vnd.jupyter.widget-view+json": {
              "version_major": 2,
              "version_minor": 0,
              "model_id": "52f89fc36f8f47689e4f1cd2daede0ab"
            }
          },
          "metadata": {}
        },
        {
          "output_type": "display_data",
          "data": {
            "text/plain": [
              "Downloading (…)d605a60cb8/README.md:   0%|          | 0.00/66.0k [00:00<?, ?B/s]"
            ],
            "application/vnd.jupyter.widget-view+json": {
              "version_major": 2,
              "version_minor": 0,
              "model_id": "ec789c002a7f43e5b7a8f196b89cb743"
            }
          },
          "metadata": {}
        },
        {
          "output_type": "display_data",
          "data": {
            "text/plain": [
              "Downloading (…)05a60cb8/config.json:   0%|          | 0.00/615 [00:00<?, ?B/s]"
            ],
            "application/vnd.jupyter.widget-view+json": {
              "version_major": 2,
              "version_minor": 0,
              "model_id": "38fe3b94d6664bc19ba9b704daa893bf"
            }
          },
          "metadata": {}
        },
        {
          "output_type": "display_data",
          "data": {
            "text/plain": [
              "Downloading pytorch_model.bin:   0%|          | 0.00/134M [00:00<?, ?B/s]"
            ],
            "application/vnd.jupyter.widget-view+json": {
              "version_major": 2,
              "version_minor": 0,
              "model_id": "2ca5673e4fab449ebb68f60aa1a46eb2"
            }
          },
          "metadata": {}
        },
        {
          "output_type": "display_data",
          "data": {
            "text/plain": [
              "Downloading (…)nce_bert_config.json:   0%|          | 0.00/57.0 [00:00<?, ?B/s]"
            ],
            "application/vnd.jupyter.widget-view+json": {
              "version_major": 2,
              "version_minor": 0,
              "model_id": "24c7d4aa00734d57ad8b684f36df3bee"
            }
          },
          "metadata": {}
        },
        {
          "output_type": "display_data",
          "data": {
            "text/plain": [
              "Downloading (…)cial_tokens_map.json:   0%|          | 0.00/125 [00:00<?, ?B/s]"
            ],
            "application/vnd.jupyter.widget-view+json": {
              "version_major": 2,
              "version_minor": 0,
              "model_id": "4384ba0734b0499b9758fff70d38858e"
            }
          },
          "metadata": {}
        },
        {
          "output_type": "display_data",
          "data": {
            "text/plain": [
              "Downloading (…)60cb8/tokenizer.json:   0%|          | 0.00/711k [00:00<?, ?B/s]"
            ],
            "application/vnd.jupyter.widget-view+json": {
              "version_major": 2,
              "version_minor": 0,
              "model_id": "747346035823436289be6fe3e4f82af6"
            }
          },
          "metadata": {}
        },
        {
          "output_type": "display_data",
          "data": {
            "text/plain": [
              "Downloading (…)okenizer_config.json:   0%|          | 0.00/394 [00:00<?, ?B/s]"
            ],
            "application/vnd.jupyter.widget-view+json": {
              "version_major": 2,
              "version_minor": 0,
              "model_id": "71dbed1bc59e49ce9250ee706e66967a"
            }
          },
          "metadata": {}
        },
        {
          "output_type": "display_data",
          "data": {
            "text/plain": [
              "Downloading (…)d605a60cb8/vocab.txt:   0%|          | 0.00/232k [00:00<?, ?B/s]"
            ],
            "application/vnd.jupyter.widget-view+json": {
              "version_major": 2,
              "version_minor": 0,
              "model_id": "1d5a695379e24e7cbb81c93e25d3fff6"
            }
          },
          "metadata": {}
        },
        {
          "output_type": "display_data",
          "data": {
            "text/plain": [
              "Downloading (…)5a60cb8/modules.json:   0%|          | 0.00/387 [00:00<?, ?B/s]"
            ],
            "application/vnd.jupyter.widget-view+json": {
              "version_major": 2,
              "version_minor": 0,
              "model_id": "e580481ae94b4f1ea8ce1dd1effc4383"
            }
          },
          "metadata": {}
        },
        {
          "output_type": "stream",
          "name": "stdout",
          "text": [
            "load INSTRUCTOR_Transformer\n",
            "max_seq_length  512\n"
          ]
        }
      ]
    },
    {
      "cell_type": "markdown",
      "source": [
        "## 4. Creation de la Vector DB\n",
        "Maintenant que nous avons découpé notre document en morceaux et importé notre modèle d'embedding, on peut générer les morceaux de textes sous forme d'embedding (représentation vectorielle) dans notre base de donnée.\n",
        "\n",
        "On utilise ici la solution Chroma (framework)."
      ],
      "metadata": {
        "id": "YsYsIy8F4cdm"
      }
    },
    {
      "cell_type": "code",
      "source": [
        "# Embed and store the texts\n",
        "# Supplying a persist_directory will store the embeddings on disk\n",
        "persist_directory = 'db'\n",
        "\n",
        "## Here is the nmew embeddings being used\n",
        "embedding = instructor_embeddings\n",
        "\n",
        "vectordb = Chroma.from_documents(documents=texts,\n",
        "                                 embedding=embedding,\n",
        "                                 persist_directory=persist_directory)"
      ],
      "metadata": {
        "id": "Q_eTIZwf4Dk2"
      },
      "execution_count": null,
      "outputs": []
    },
    {
      "cell_type": "markdown",
      "source": [
        "## 5. Création du retriever\n",
        "On indique, lors de la recherche par similarité (entre l'embedding de la question et embeddings de la database), comment choisir les meilleurs résultats : ici les 3 meilleurs. La recherche par similarité utilise le calcul du cosinus entre embeddings."
      ],
      "metadata": {
        "id": "siLXR-XT0JoI"
      }
    },
    {
      "cell_type": "code",
      "source": [
        "# Récupération : les k=3 résultats les plus similaires.\n",
        "retriever = vectordb.as_retriever(search_kwargs={\"k\": 3})"
      ],
      "metadata": {
        "id": "jVWgPJXs1yRq"
      },
      "execution_count": null,
      "outputs": []
    },
    {
      "cell_type": "code",
      "source": [
        "#  An index is a data structure that supports efficient searching, and a retriever is the component that uses the index to find and return relevant documents in response to a user's query.\n",
        "# The index is a key component that the retriever relies on to perform its function.\n",
        "retriever"
      ],
      "metadata": {
        "id": "EltUiiNfWjEn",
        "colab": {
          "base_uri": "https://localhost:8080/"
        },
        "outputId": "f44e521f-a815-4637-9d53-7566a377adf0"
      },
      "execution_count": null,
      "outputs": [
        {
          "output_type": "execute_result",
          "data": {
            "text/plain": [
              "VectorStoreRetriever(vectorstore=<langchain.vectorstores.chroma.Chroma object at 0x7fb650350460>, search_type='similarity', search_kwargs={'k': 3})"
            ]
          },
          "metadata": {},
          "execution_count": 23
        }
      ]
    },
    {
      "cell_type": "markdown",
      "source": [
        "## 6. Création de la chain\n",
        "Enfin, tous les éléments sont créés. Il ne reste plus qu'à créer la chaîne. La méthode _stuff_ est utilisée : la plus simple où l'on met dans le prompt les morceaux de textes reliés à la question.\n",
        "\n",
        "Pros: Only makes a single call to the LLM. When generating text, the LLM has access to all the data at once.\n",
        "\n",
        "Cons: Most LLMs have a context length, and for large documents (or many documents) this will not work as it will result in a prompt larger than the context length.\n",
        "\n",
        "The main downside of this method is that it only works on smaller pieces of data. Once you are working with many pieces of data, this approach is no longer feasible. The next two approaches are designed to help deal with that."
      ],
      "metadata": {
        "id": "4Ia-4OXa5IeP"
      }
    },
    {
      "cell_type": "code",
      "source": [
        "# create the chain to answer questions\n",
        "qa_chain = RetrievalQA.from_chain_type(llm=local_llm,\n",
        "                                  chain_type=\"stuff\",\n",
        "                                  retriever=retriever,\n",
        "                                  return_source_documents=True)"
      ],
      "metadata": {
        "id": "MGx8XblM4shW"
      },
      "execution_count": null,
      "outputs": []
    },
    {
      "cell_type": "markdown",
      "source": [
        "Element supplémentaire pour mettre en forme l'output."
      ],
      "metadata": {
        "id": "diuXx50MWZil"
      }
    },
    {
      "cell_type": "code",
      "source": [
        "## Cite sources\n",
        "\n",
        "import textwrap\n",
        "\n",
        "def wrap_text_preserve_newlines(text, width=110):\n",
        "    # Split the input text into lines based on newline characters\n",
        "    lines = text.split('\\n')\n",
        "\n",
        "    # Wrap each line individually\n",
        "    wrapped_lines = [textwrap.fill(line, width=width) for line in lines]\n",
        "\n",
        "    # Join the wrapped lines back together using newline characters\n",
        "    wrapped_text = '\\n'.join(wrapped_lines)\n",
        "\n",
        "    return wrapped_text\n",
        "\n",
        "def process_llm_response(llm_response):\n",
        "    print(wrap_text_preserve_newlines(llm_response['result']))\n",
        "    print('\\n\\nSources:')\n",
        "    for source in llm_response[\"source_documents\"]:\n",
        "        print(source.metadata['source'])"
      ],
      "metadata": {
        "id": "LZEo26mw8e5k"
      },
      "execution_count": null,
      "outputs": []
    },
    {
      "cell_type": "markdown",
      "source": [
        "### Résultats\n",
        "On affiche dans un premier temps la réponse donné par la chaîne puis celle du LLM sans le document. On affiche la réponse de la chaîne avec ses sources."
      ],
      "metadata": {
        "id": "XI21FHZORGW3"
      }
    },
    {
      "cell_type": "code",
      "source": [
        "# full example\n",
        "query = \"Combien de temps est élu le président ?\"\n",
        "llm_response = qa_chain(query)\n",
        "process_llm_response(llm_response)\n",
        "local_llm(query)"
      ],
      "metadata": {
        "colab": {
          "base_uri": "https://localhost:8080/",
          "height": 157
        },
        "id": "1ofMI9qz97WB",
        "outputId": "c7b84852-d2ad-48bd-8ebe-3dbe80c655df"
      },
      "execution_count": null,
      "outputs": [
        {
          "output_type": "stream",
          "name": "stdout",
          "text": [
            " 5 ans\n",
            "\n",
            "\n",
            "Sources:\n",
            "documents/constitution.pdf\n",
            "documents/constitution.pdf\n",
            "documents/constitution.pdf\n"
          ]
        },
        {
          "output_type": "execute_result",
          "data": {
            "text/plain": [
              "' one year'"
            ],
            "application/vnd.google.colaboratory.intrinsic+json": {
              "type": "string"
            }
          },
          "metadata": {},
          "execution_count": 62
        }
      ]
    },
    {
      "cell_type": "code",
      "source": [
        "# full example\n",
        "query = \"Qui peut dissoudre l\\'assembler nationale ?\"\n",
        "llm_response = qa_chain(query)\n",
        "process_llm_response(llm_response)\n",
        "local_llm(query)"
      ],
      "metadata": {
        "colab": {
          "base_uri": "https://localhost:8080/",
          "height": 157
        },
        "id": "DwCNFwjE97Qj",
        "outputId": "8c82f76b-20a0-489c-b4ae-0f656c579809"
      },
      "execution_count": null,
      "outputs": [
        {
          "output_type": "stream",
          "name": "stdout",
          "text": [
            " le président\n",
            "\n",
            "\n",
            "Sources:\n",
            "documents/constitution.pdf\n",
            "documents/constitution.pdf\n",
            "documents/constitution.pdf\n"
          ]
        },
        {
          "output_type": "execute_result",
          "data": {
            "text/plain": [
              "' le roi'"
            ],
            "application/vnd.google.colaboratory.intrinsic+json": {
              "type": "string"
            }
          },
          "metadata": {},
          "execution_count": 58
        }
      ]
    },
    {
      "cell_type": "code",
      "source": [
        "# full example\n",
        "query = \"Qui a écrit la constitution ?\"\n",
        "llm_response = qa_chain(query)\n",
        "process_llm_response(llm_response)\n",
        "local_llm(query)"
      ],
      "metadata": {
        "id": "wKfX4vX-5RFT",
        "colab": {
          "base_uri": "https://localhost:8080/",
          "height": 157
        },
        "outputId": "2daca21d-6722-4397-8931-a81c72161d6f"
      },
      "execution_count": null,
      "outputs": [
        {
          "output_type": "stream",
          "name": "stdout",
          "text": [
            " le peuple\n",
            "\n",
            "\n",
            "Sources:\n",
            "documents/constitution.pdf\n",
            "documents/constitution.pdf\n",
            "documents/constitution.pdf\n"
          ]
        },
        {
          "output_type": "execute_result",
          "data": {
            "text/plain": [
              "' les membres du parlement'"
            ],
            "application/vnd.google.colaboratory.intrinsic+json": {
              "type": "string"
            }
          },
          "metadata": {},
          "execution_count": 54
        }
      ]
    },
    {
      "cell_type": "code",
      "source": [
        "# full example\n",
        "query = \"Explique l'article 5\"\n",
        "llm_response = qa_chain(query)\n",
        "process_llm_response(llm_response)\n",
        "local_llm(query)"
      ],
      "metadata": {
        "colab": {
          "base_uri": "https://localhost:8080/",
          "height": 157
        },
        "id": "iEd2tWnk97Yu",
        "outputId": "a55babdb-99b2-4f06-9a4d-3f8cae0ac757"
      },
      "execution_count": null,
      "outputs": [
        {
          "output_type": "stream",
          "name": "stdout",
          "text": [
            " lorsque la réalisation d'un dommage\n",
            "\n",
            "\n",
            "Sources:\n",
            "documents/constitution.pdf\n",
            "documents/constitution.pdf\n",
            "documents/constitution.pdf\n"
          ]
        },
        {
          "output_type": "execute_result",
          "data": {
            "text/plain": [
              "' of the Constitution'"
            ],
            "application/vnd.google.colaboratory.intrinsic+json": {
              "type": "string"
            }
          },
          "metadata": {},
          "execution_count": 63
        }
      ]
    },
    {
      "cell_type": "markdown",
      "source": [
        "Réponse brute de la chaîne :"
      ],
      "metadata": {
        "id": "GJ7fIkpgWlY4"
      }
    },
    {
      "cell_type": "code",
      "source": [
        "llm_response"
      ],
      "metadata": {
        "colab": {
          "base_uri": "https://localhost:8080/"
        },
        "id": "f50s3S57SuOZ",
        "outputId": "78b67719-0a6d-47dd-ff78-2b1aa1777640"
      },
      "execution_count": null,
      "outputs": [
        {
          "output_type": "execute_result",
          "data": {
            "text/plain": [
              "{'query': \"Explique l'article 5\",\n",
              " 'result': \" lorsque la réalisation d'un dommage\",\n",
              " 'source_documents': [Document(page_content=\"ARTICLE 5. Lorsque la réalisation d'un dommage, bien qu'incertaine en l'état des\\nconnaissances scientifiques, pourrait affecter de manière grave et irréversible\\nl'environnement, les autorités publiques veillent, par application du principe de\\n34\", metadata={'source': 'documents/constitution.pdf', 'page': 33}),\n",
              "  Document(page_content=\"membre du Gouvernement dans l'exercice de ses fonctions peut porter plainte\\nauprèsd'unecommission des requêtes.\\n23\", metadata={'source': 'documents/constitution.pdf', 'page': 22}),\n",
              "  Document(page_content=\"l'exercice de tout mandat parlementaire, de toute fonction de représentation\\nprofessionnelle à caractère national et de tout emploi public ou de toute activité\\nprofessionnelle.\\nUne loi organique fixe les conditions dans lesquelles il est pourvu au\\nremplacement destitulaires detels mandats,fonctionsou emplois.\\n7\", metadata={'source': 'documents/constitution.pdf', 'page': 6})]}"
            ]
          },
          "metadata": {},
          "execution_count": 64
        }
      ]
    },
    {
      "cell_type": "code",
      "source": [
        "# full example\n",
        "query = \"Quand a été écrit la constitution francaise ?\" # pas dans le texte La première constitution écrite fut celle de 1791, adoptée pendant la Révolution française.\n",
        "llm_response = qa_chain(query)\n",
        "process_llm_response(llm_response)\n",
        "local_llm(query)"
      ],
      "metadata": {
        "colab": {
          "base_uri": "https://localhost:8080/",
          "height": 157
        },
        "id": "3W_IYt0N97TW",
        "outputId": "6c554430-ff2b-4b4e-c207-274f9c065c79"
      },
      "execution_count": null,
      "outputs": [
        {
          "output_type": "stream",
          "name": "stdout",
          "text": [
            " 1791\n",
            "\n",
            "\n",
            "Sources:\n",
            "documents/constitution.pdf\n",
            "documents/constitution.pdf\n",
            "documents/constitution.pdf\n"
          ]
        },
        {
          "output_type": "execute_result",
          "data": {
            "text/plain": [
              "' 1791'"
            ],
            "application/vnd.google.colaboratory.intrinsic+json": {
              "type": "string"
            }
          },
          "metadata": {},
          "execution_count": 59
        }
      ]
    },
    {
      "cell_type": "code",
      "source": [
        "# full example\n",
        "query = \"Quand a été écrite la constitution ?\" # La Constitution française a été écrite pour la première fois en 1958.\n",
        "llm_response = qa_chain(query)\n",
        "process_llm_response(llm_response)\n",
        "local_llm(query)"
      ],
      "metadata": {
        "colab": {
          "base_uri": "https://localhost:8080/",
          "height": 157
        },
        "id": "n0ETCRuZ97bQ",
        "outputId": "18d41278-ce74-42f6-ce89-cdf7906b5233"
      },
      "execution_count": null,
      "outputs": [
        {
          "output_type": "stream",
          "name": "stdout",
          "text": [
            " 1958\n",
            "\n",
            "\n",
            "Sources:\n",
            "documents/constitution.pdf\n",
            "documents/constitution.pdf\n",
            "documents/constitution.pdf\n"
          ]
        },
        {
          "output_type": "execute_result",
          "data": {
            "text/plain": [
              "' 1949'"
            ],
            "application/vnd.google.colaboratory.intrinsic+json": {
              "type": "string"
            }
          },
          "metadata": {},
          "execution_count": 65
        }
      ]
    },
    {
      "cell_type": "markdown",
      "source": [
        "Voici le prompt utilisé (inclu dans LangChain) pour ce use case."
      ],
      "metadata": {
        "id": "QQQ1R_zRRgPT"
      }
    },
    {
      "cell_type": "code",
      "source": [
        "print(qa_chain.combine_documents_chain.llm_chain.prompt.template)"
      ],
      "metadata": {
        "id": "3_lp0_796P_-",
        "colab": {
          "base_uri": "https://localhost:8080/"
        },
        "outputId": "97234ca0-b9db-41af-9f27-6079cebb9d32"
      },
      "execution_count": null,
      "outputs": [
        {
          "output_type": "stream",
          "name": "stdout",
          "text": [
            "Use the following pieces of context to answer the question at the end. If you don't know the answer, just say that you don't know, don't try to make up an answer.\n",
            "\n",
            "{context}\n",
            "\n",
            "Question: {question}\n",
            "Helpful Answer:\n"
          ]
        }
      ]
    },
    {
      "cell_type": "code",
      "source": [
        "# full example\n",
        "query = \"Who is the president of the USA ?\"\n",
        "llm_response = qa_chain(query)\n",
        "process_llm_response(llm_response)\n",
        "local_llm(query)"
      ],
      "metadata": {
        "colab": {
          "base_uri": "https://localhost:8080/",
          "height": 157
        },
        "id": "RMp-sw9f97eI",
        "outputId": "5e4b2498-7f21-45c6-ac08-ee45a245ca6f"
      },
      "execution_count": null,
      "outputs": [
        {
          "output_type": "stream",
          "name": "stdout",
          "text": [
            " Barack Obama\n",
            "\n",
            "\n",
            "Sources:\n",
            "documents/constitution.pdf\n",
            "documents/constitution.pdf\n",
            "documents/constitution.pdf\n"
          ]
        },
        {
          "output_type": "execute_result",
          "data": {
            "text/plain": [
              "' Barack Obama'"
            ],
            "application/vnd.google.colaboratory.intrinsic+json": {
              "type": "string"
            }
          },
          "metadata": {},
          "execution_count": 67
        }
      ]
    },
    {
      "cell_type": "markdown",
      "source": [
        "Possibilité de modifier le prompt, pour le mettre en français notamment."
      ],
      "metadata": {
        "id": "jd0o7wjRRqLq"
      }
    },
    {
      "cell_type": "code",
      "source": [
        "from langchain.prompts import PromptTemplate\n",
        "prompt_template =\"\"\"Utilisez les éléments de contexte suivants pour répondre à la question finale. Si vous ne connaissez pas la réponse, dites simplement que vous ne savez pas, n'essayez pas d'inventer une réponse.\n",
        "\n",
        "{context}\n",
        "\n",
        "Question : {question}\n",
        "Réponse utile :\n",
        "\"\"\"\n",
        "PROMPT = PromptTemplate(\n",
        "    template=prompt_template,\n",
        "    input_variables=[\"context\", \"question\"]\n",
        ")"
      ],
      "metadata": {
        "id": "MCem1tAfY92s"
      },
      "execution_count": null,
      "outputs": []
    },
    {
      "cell_type": "code",
      "source": [
        "chain_type_kwargs = {\"prompt\": PROMPT}\n",
        "qa = RetrievalQA.from_chain_type(llm=local_llm, chain_type=\"stuff\", retriever=retriever, chain_type_kwargs=chain_type_kwargs)"
      ],
      "metadata": {
        "id": "HBFeVWT6Ys9S"
      },
      "execution_count": null,
      "outputs": []
    },
    {
      "cell_type": "code",
      "source": [
        "qa.run('Qui est Macron ?')"
      ],
      "metadata": {
        "colab": {
          "base_uri": "https://localhost:8080/",
          "height": 36
        },
        "id": "h6-aSKiPZbZP",
        "outputId": "b8600d6f-5a23-45dc-a3d8-494155540977"
      },
      "execution_count": null,
      "outputs": [
        {
          "output_type": "execute_result",
          "data": {
            "text/plain": [
              "'Le président de la république française'"
            ],
            "application/vnd.google.colaboratory.intrinsic+json": {
              "type": "string"
            }
          },
          "metadata": {},
          "execution_count": 70
        }
      ]
    },
    {
      "cell_type": "markdown",
      "source": [
        "Test avec un autre document .txt."
      ],
      "metadata": {
        "id": "kYSWW1-nRuE-"
      }
    },
    {
      "cell_type": "code",
      "source": [
        "process_llm_response(qa_chain(prompt.format(subject='transformer')))"
      ],
      "metadata": {
        "colab": {
          "base_uri": "https://localhost:8080/"
        },
        "id": "9nu9xRJ5U7Gw",
        "outputId": "8cdad88a-b5d2-4738-a34d-d9c7c3ea4a90"
      },
      "execution_count": null,
      "outputs": [
        {
          "output_type": "stream",
          "name": "stdout",
          "text": [
            " A model architecture eschewing recurrence and instead relying entirely on an attention mechanism\n",
            "\n",
            "\n",
            "Sources:\n",
            "attention.txt\n",
            "attention.txt\n",
            "attention.txt\n"
          ]
        }
      ]
    },
    {
      "cell_type": "code",
      "source": [
        "query = \"Who wrote this article?\"\n",
        "llm_response = qa_chain(query)\n",
        "process_llm_response(llm_response)"
      ],
      "metadata": {
        "id": "Dl7hy8IvFFL0",
        "colab": {
          "base_uri": "https://localhost:8080/"
        },
        "outputId": "ece27dfa-b290-4e0c-de21-3931e93d7ce5"
      },
      "execution_count": null,
      "outputs": [
        {
          "output_type": "stream",
          "name": "stdout",
          "text": [
            " Jakob\n",
            "\n",
            "\n",
            "Sources:\n",
            "attention.txt\n",
            "attention.txt\n",
            "attention.txt\n"
          ]
        }
      ]
    },
    {
      "cell_type": "code",
      "source": [
        "query = prompt.format(subject='encodeur')\n",
        "llm_response = qa_chain(query)\n",
        "process_llm_response(llm_response)"
      ],
      "metadata": {
        "id": "6TgESJYQsqvW",
        "colab": {
          "base_uri": "https://localhost:8080/"
        },
        "outputId": "cdd302a4-8933-4059-bc47-7a9259b4dbf0"
      },
      "execution_count": null,
      "outputs": [
        {
          "output_type": "stream",
          "name": "stdout",
          "text": [
            " Self-attention\n",
            "\n",
            "\n",
            "Sources:\n",
            "attention.txt\n",
            "attention.txt\n",
            "attention.txt\n"
          ]
        }
      ]
    },
    {
      "cell_type": "markdown",
      "source": [
        "Dans le prompt, il est demandé d'utiliser uniquement les informations fournis dans le contexte, et donc de ne pas répondre lorsque l'information ne s'y trouve pas."
      ],
      "metadata": {
        "id": "_KE6SQ2eW4Y5"
      }
    },
    {
      "cell_type": "code",
      "source": [
        "query = \"What is multi-head attention?\"\n",
        "llm_response = qa_chain(query)\n",
        "process_llm_response(llm_response)"
      ],
      "metadata": {
        "id": "3rMqu4Ous6-v",
        "colab": {
          "base_uri": "https://localhost:8080/"
        },
        "outputId": "86644015-fdaf-44d5-a937-d1d92b5d00ed"
      },
      "execution_count": null,
      "outputs": [
        {
          "output_type": "stream",
          "name": "stdout",
          "text": [
            " Answer not in context\n",
            "\n",
            "\n",
            "Sources:\n",
            "attention.txt\n",
            "attention.txt\n",
            "attention.txt\n"
          ]
        }
      ]
    },
    {
      "cell_type": "code",
      "source": [
        "query = \"Explain positional encoding.\"\n",
        "llm_response = qa_chain(query)\n",
        "process_llm_response(llm_response)"
      ],
      "metadata": {
        "id": "v0VD3Yw4uGKZ"
      },
      "execution_count": null,
      "outputs": []
    },
    {
      "cell_type": "code",
      "source": [
        "qa_chain.retriever.search_type , qa_chain.retriever.vectorstore"
      ],
      "metadata": {
        "id": "IPIhZWAR5n3X",
        "colab": {
          "base_uri": "https://localhost:8080/"
        },
        "outputId": "f2dfb422-462f-4d75-ecde-38a6ae65ea1b"
      },
      "execution_count": null,
      "outputs": [
        {
          "output_type": "execute_result",
          "data": {
            "text/plain": [
              "('similarity', <langchain.vectorstores.chroma.Chroma at 0x7fb650350460>)"
            ]
          },
          "metadata": {},
          "execution_count": 45
        }
      ]
    }
  ]
}

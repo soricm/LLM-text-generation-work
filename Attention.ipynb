{
  "nbformat": 4,
  "nbformat_minor": 0,
  "metadata": {
    "colab": {
      "provenance": []
    },
    "kernelspec": {
      "name": "python3",
      "display_name": "Python 3"
    },
    "language_info": {
      "name": "python"
    },
    "widgets": {
      "application/vnd.jupyter.widget-state+json": {
        "8f35f2abb54f4b46b4109d0a1db9abcb": {
          "model_module": "@jupyter-widgets/controls",
          "model_name": "HBoxModel",
          "model_module_version": "1.5.0",
          "state": {
            "_dom_classes": [],
            "_model_module": "@jupyter-widgets/controls",
            "_model_module_version": "1.5.0",
            "_model_name": "HBoxModel",
            "_view_count": null,
            "_view_module": "@jupyter-widgets/controls",
            "_view_module_version": "1.5.0",
            "_view_name": "HBoxView",
            "box_style": "",
            "children": [
              "IPY_MODEL_ef729b371dc04b38969d0d6c1570e577",
              "IPY_MODEL_3452cc1332f14889874300e7986cbb2c",
              "IPY_MODEL_05971ae5df5f4d94baef0160a43c69b1"
            ],
            "layout": "IPY_MODEL_cf20c6707dd04bc1b1ac242d3c90612c"
          }
        },
        "ef729b371dc04b38969d0d6c1570e577": {
          "model_module": "@jupyter-widgets/controls",
          "model_name": "HTMLModel",
          "model_module_version": "1.5.0",
          "state": {
            "_dom_classes": [],
            "_model_module": "@jupyter-widgets/controls",
            "_model_module_version": "1.5.0",
            "_model_name": "HTMLModel",
            "_view_count": null,
            "_view_module": "@jupyter-widgets/controls",
            "_view_module_version": "1.5.0",
            "_view_name": "HTMLView",
            "description": "",
            "description_tooltip": null,
            "layout": "IPY_MODEL_a139022cad4945919f5a62ef83a290de",
            "placeholder": "​",
            "style": "IPY_MODEL_330edf9a836748af8a51f1963e4b915c",
            "value": "Downloading (…)solve/main/vocab.txt: 100%"
          }
        },
        "3452cc1332f14889874300e7986cbb2c": {
          "model_module": "@jupyter-widgets/controls",
          "model_name": "FloatProgressModel",
          "model_module_version": "1.5.0",
          "state": {
            "_dom_classes": [],
            "_model_module": "@jupyter-widgets/controls",
            "_model_module_version": "1.5.0",
            "_model_name": "FloatProgressModel",
            "_view_count": null,
            "_view_module": "@jupyter-widgets/controls",
            "_view_module_version": "1.5.0",
            "_view_name": "ProgressView",
            "bar_style": "success",
            "description": "",
            "description_tooltip": null,
            "layout": "IPY_MODEL_6530a84d62c54efe94b0c095b2f9754f",
            "max": 213450,
            "min": 0,
            "orientation": "horizontal",
            "style": "IPY_MODEL_d35793d6ead54c2797323cac02ff6fd6",
            "value": 213450
          }
        },
        "05971ae5df5f4d94baef0160a43c69b1": {
          "model_module": "@jupyter-widgets/controls",
          "model_name": "HTMLModel",
          "model_module_version": "1.5.0",
          "state": {
            "_dom_classes": [],
            "_model_module": "@jupyter-widgets/controls",
            "_model_module_version": "1.5.0",
            "_model_name": "HTMLModel",
            "_view_count": null,
            "_view_module": "@jupyter-widgets/controls",
            "_view_module_version": "1.5.0",
            "_view_name": "HTMLView",
            "description": "",
            "description_tooltip": null,
            "layout": "IPY_MODEL_250ffce72bc14304b22a21e41090cbd9",
            "placeholder": "​",
            "style": "IPY_MODEL_97f6900ad60147cbbe82901c188d431e",
            "value": " 213k/213k [00:00&lt;00:00, 3.43MB/s]"
          }
        },
        "cf20c6707dd04bc1b1ac242d3c90612c": {
          "model_module": "@jupyter-widgets/base",
          "model_name": "LayoutModel",
          "model_module_version": "1.2.0",
          "state": {
            "_model_module": "@jupyter-widgets/base",
            "_model_module_version": "1.2.0",
            "_model_name": "LayoutModel",
            "_view_count": null,
            "_view_module": "@jupyter-widgets/base",
            "_view_module_version": "1.2.0",
            "_view_name": "LayoutView",
            "align_content": null,
            "align_items": null,
            "align_self": null,
            "border": null,
            "bottom": null,
            "display": null,
            "flex": null,
            "flex_flow": null,
            "grid_area": null,
            "grid_auto_columns": null,
            "grid_auto_flow": null,
            "grid_auto_rows": null,
            "grid_column": null,
            "grid_gap": null,
            "grid_row": null,
            "grid_template_areas": null,
            "grid_template_columns": null,
            "grid_template_rows": null,
            "height": null,
            "justify_content": null,
            "justify_items": null,
            "left": null,
            "margin": null,
            "max_height": null,
            "max_width": null,
            "min_height": null,
            "min_width": null,
            "object_fit": null,
            "object_position": null,
            "order": null,
            "overflow": null,
            "overflow_x": null,
            "overflow_y": null,
            "padding": null,
            "right": null,
            "top": null,
            "visibility": null,
            "width": null
          }
        },
        "a139022cad4945919f5a62ef83a290de": {
          "model_module": "@jupyter-widgets/base",
          "model_name": "LayoutModel",
          "model_module_version": "1.2.0",
          "state": {
            "_model_module": "@jupyter-widgets/base",
            "_model_module_version": "1.2.0",
            "_model_name": "LayoutModel",
            "_view_count": null,
            "_view_module": "@jupyter-widgets/base",
            "_view_module_version": "1.2.0",
            "_view_name": "LayoutView",
            "align_content": null,
            "align_items": null,
            "align_self": null,
            "border": null,
            "bottom": null,
            "display": null,
            "flex": null,
            "flex_flow": null,
            "grid_area": null,
            "grid_auto_columns": null,
            "grid_auto_flow": null,
            "grid_auto_rows": null,
            "grid_column": null,
            "grid_gap": null,
            "grid_row": null,
            "grid_template_areas": null,
            "grid_template_columns": null,
            "grid_template_rows": null,
            "height": null,
            "justify_content": null,
            "justify_items": null,
            "left": null,
            "margin": null,
            "max_height": null,
            "max_width": null,
            "min_height": null,
            "min_width": null,
            "object_fit": null,
            "object_position": null,
            "order": null,
            "overflow": null,
            "overflow_x": null,
            "overflow_y": null,
            "padding": null,
            "right": null,
            "top": null,
            "visibility": null,
            "width": null
          }
        },
        "330edf9a836748af8a51f1963e4b915c": {
          "model_module": "@jupyter-widgets/controls",
          "model_name": "DescriptionStyleModel",
          "model_module_version": "1.5.0",
          "state": {
            "_model_module": "@jupyter-widgets/controls",
            "_model_module_version": "1.5.0",
            "_model_name": "DescriptionStyleModel",
            "_view_count": null,
            "_view_module": "@jupyter-widgets/base",
            "_view_module_version": "1.2.0",
            "_view_name": "StyleView",
            "description_width": ""
          }
        },
        "6530a84d62c54efe94b0c095b2f9754f": {
          "model_module": "@jupyter-widgets/base",
          "model_name": "LayoutModel",
          "model_module_version": "1.2.0",
          "state": {
            "_model_module": "@jupyter-widgets/base",
            "_model_module_version": "1.2.0",
            "_model_name": "LayoutModel",
            "_view_count": null,
            "_view_module": "@jupyter-widgets/base",
            "_view_module_version": "1.2.0",
            "_view_name": "LayoutView",
            "align_content": null,
            "align_items": null,
            "align_self": null,
            "border": null,
            "bottom": null,
            "display": null,
            "flex": null,
            "flex_flow": null,
            "grid_area": null,
            "grid_auto_columns": null,
            "grid_auto_flow": null,
            "grid_auto_rows": null,
            "grid_column": null,
            "grid_gap": null,
            "grid_row": null,
            "grid_template_areas": null,
            "grid_template_columns": null,
            "grid_template_rows": null,
            "height": null,
            "justify_content": null,
            "justify_items": null,
            "left": null,
            "margin": null,
            "max_height": null,
            "max_width": null,
            "min_height": null,
            "min_width": null,
            "object_fit": null,
            "object_position": null,
            "order": null,
            "overflow": null,
            "overflow_x": null,
            "overflow_y": null,
            "padding": null,
            "right": null,
            "top": null,
            "visibility": null,
            "width": null
          }
        },
        "d35793d6ead54c2797323cac02ff6fd6": {
          "model_module": "@jupyter-widgets/controls",
          "model_name": "ProgressStyleModel",
          "model_module_version": "1.5.0",
          "state": {
            "_model_module": "@jupyter-widgets/controls",
            "_model_module_version": "1.5.0",
            "_model_name": "ProgressStyleModel",
            "_view_count": null,
            "_view_module": "@jupyter-widgets/base",
            "_view_module_version": "1.2.0",
            "_view_name": "StyleView",
            "bar_color": null,
            "description_width": ""
          }
        },
        "250ffce72bc14304b22a21e41090cbd9": {
          "model_module": "@jupyter-widgets/base",
          "model_name": "LayoutModel",
          "model_module_version": "1.2.0",
          "state": {
            "_model_module": "@jupyter-widgets/base",
            "_model_module_version": "1.2.0",
            "_model_name": "LayoutModel",
            "_view_count": null,
            "_view_module": "@jupyter-widgets/base",
            "_view_module_version": "1.2.0",
            "_view_name": "LayoutView",
            "align_content": null,
            "align_items": null,
            "align_self": null,
            "border": null,
            "bottom": null,
            "display": null,
            "flex": null,
            "flex_flow": null,
            "grid_area": null,
            "grid_auto_columns": null,
            "grid_auto_flow": null,
            "grid_auto_rows": null,
            "grid_column": null,
            "grid_gap": null,
            "grid_row": null,
            "grid_template_areas": null,
            "grid_template_columns": null,
            "grid_template_rows": null,
            "height": null,
            "justify_content": null,
            "justify_items": null,
            "left": null,
            "margin": null,
            "max_height": null,
            "max_width": null,
            "min_height": null,
            "min_width": null,
            "object_fit": null,
            "object_position": null,
            "order": null,
            "overflow": null,
            "overflow_x": null,
            "overflow_y": null,
            "padding": null,
            "right": null,
            "top": null,
            "visibility": null,
            "width": null
          }
        },
        "97f6900ad60147cbbe82901c188d431e": {
          "model_module": "@jupyter-widgets/controls",
          "model_name": "DescriptionStyleModel",
          "model_module_version": "1.5.0",
          "state": {
            "_model_module": "@jupyter-widgets/controls",
            "_model_module_version": "1.5.0",
            "_model_name": "DescriptionStyleModel",
            "_view_count": null,
            "_view_module": "@jupyter-widgets/base",
            "_view_module_version": "1.2.0",
            "_view_name": "StyleView",
            "description_width": ""
          }
        },
        "e08c46626a934d85959da99ed93cdda6": {
          "model_module": "@jupyter-widgets/controls",
          "model_name": "HBoxModel",
          "model_module_version": "1.5.0",
          "state": {
            "_dom_classes": [],
            "_model_module": "@jupyter-widgets/controls",
            "_model_module_version": "1.5.0",
            "_model_name": "HBoxModel",
            "_view_count": null,
            "_view_module": "@jupyter-widgets/controls",
            "_view_module_version": "1.5.0",
            "_view_name": "HBoxView",
            "box_style": "",
            "children": [
              "IPY_MODEL_2e3f27d8195e477b9fa93f1d0ca65985",
              "IPY_MODEL_2b5ad0c2128a44f794aa9791befed502",
              "IPY_MODEL_54cc397f6588498a8b0e6958de675faa"
            ],
            "layout": "IPY_MODEL_44913c80e3014a69bc8edde37f848bd4"
          }
        },
        "2e3f27d8195e477b9fa93f1d0ca65985": {
          "model_module": "@jupyter-widgets/controls",
          "model_name": "HTMLModel",
          "model_module_version": "1.5.0",
          "state": {
            "_dom_classes": [],
            "_model_module": "@jupyter-widgets/controls",
            "_model_module_version": "1.5.0",
            "_model_name": "HTMLModel",
            "_view_count": null,
            "_view_module": "@jupyter-widgets/controls",
            "_view_module_version": "1.5.0",
            "_view_name": "HTMLView",
            "description": "",
            "description_tooltip": null,
            "layout": "IPY_MODEL_2e67a79826a94648bd94ecfb669bcedd",
            "placeholder": "​",
            "style": "IPY_MODEL_72b40b15fb8541b9b2f8f7292a493cf2",
            "value": "Downloading (…)okenizer_config.json: 100%"
          }
        },
        "2b5ad0c2128a44f794aa9791befed502": {
          "model_module": "@jupyter-widgets/controls",
          "model_name": "FloatProgressModel",
          "model_module_version": "1.5.0",
          "state": {
            "_dom_classes": [],
            "_model_module": "@jupyter-widgets/controls",
            "_model_module_version": "1.5.0",
            "_model_name": "FloatProgressModel",
            "_view_count": null,
            "_view_module": "@jupyter-widgets/controls",
            "_view_module_version": "1.5.0",
            "_view_name": "ProgressView",
            "bar_style": "success",
            "description": "",
            "description_tooltip": null,
            "layout": "IPY_MODEL_816aac55e9954340bffbf4731841f079",
            "max": 29,
            "min": 0,
            "orientation": "horizontal",
            "style": "IPY_MODEL_fdea56eca04a4c10bd026ea3edc3896f",
            "value": 29
          }
        },
        "54cc397f6588498a8b0e6958de675faa": {
          "model_module": "@jupyter-widgets/controls",
          "model_name": "HTMLModel",
          "model_module_version": "1.5.0",
          "state": {
            "_dom_classes": [],
            "_model_module": "@jupyter-widgets/controls",
            "_model_module_version": "1.5.0",
            "_model_name": "HTMLModel",
            "_view_count": null,
            "_view_module": "@jupyter-widgets/controls",
            "_view_module_version": "1.5.0",
            "_view_name": "HTMLView",
            "description": "",
            "description_tooltip": null,
            "layout": "IPY_MODEL_c4e879fa0ce54019aed845a2fb1fafac",
            "placeholder": "​",
            "style": "IPY_MODEL_bb614aed5fb04e2b85b87387659f7ef2",
            "value": " 29.0/29.0 [00:00&lt;00:00, 1.12kB/s]"
          }
        },
        "44913c80e3014a69bc8edde37f848bd4": {
          "model_module": "@jupyter-widgets/base",
          "model_name": "LayoutModel",
          "model_module_version": "1.2.0",
          "state": {
            "_model_module": "@jupyter-widgets/base",
            "_model_module_version": "1.2.0",
            "_model_name": "LayoutModel",
            "_view_count": null,
            "_view_module": "@jupyter-widgets/base",
            "_view_module_version": "1.2.0",
            "_view_name": "LayoutView",
            "align_content": null,
            "align_items": null,
            "align_self": null,
            "border": null,
            "bottom": null,
            "display": null,
            "flex": null,
            "flex_flow": null,
            "grid_area": null,
            "grid_auto_columns": null,
            "grid_auto_flow": null,
            "grid_auto_rows": null,
            "grid_column": null,
            "grid_gap": null,
            "grid_row": null,
            "grid_template_areas": null,
            "grid_template_columns": null,
            "grid_template_rows": null,
            "height": null,
            "justify_content": null,
            "justify_items": null,
            "left": null,
            "margin": null,
            "max_height": null,
            "max_width": null,
            "min_height": null,
            "min_width": null,
            "object_fit": null,
            "object_position": null,
            "order": null,
            "overflow": null,
            "overflow_x": null,
            "overflow_y": null,
            "padding": null,
            "right": null,
            "top": null,
            "visibility": null,
            "width": null
          }
        },
        "2e67a79826a94648bd94ecfb669bcedd": {
          "model_module": "@jupyter-widgets/base",
          "model_name": "LayoutModel",
          "model_module_version": "1.2.0",
          "state": {
            "_model_module": "@jupyter-widgets/base",
            "_model_module_version": "1.2.0",
            "_model_name": "LayoutModel",
            "_view_count": null,
            "_view_module": "@jupyter-widgets/base",
            "_view_module_version": "1.2.0",
            "_view_name": "LayoutView",
            "align_content": null,
            "align_items": null,
            "align_self": null,
            "border": null,
            "bottom": null,
            "display": null,
            "flex": null,
            "flex_flow": null,
            "grid_area": null,
            "grid_auto_columns": null,
            "grid_auto_flow": null,
            "grid_auto_rows": null,
            "grid_column": null,
            "grid_gap": null,
            "grid_row": null,
            "grid_template_areas": null,
            "grid_template_columns": null,
            "grid_template_rows": null,
            "height": null,
            "justify_content": null,
            "justify_items": null,
            "left": null,
            "margin": null,
            "max_height": null,
            "max_width": null,
            "min_height": null,
            "min_width": null,
            "object_fit": null,
            "object_position": null,
            "order": null,
            "overflow": null,
            "overflow_x": null,
            "overflow_y": null,
            "padding": null,
            "right": null,
            "top": null,
            "visibility": null,
            "width": null
          }
        },
        "72b40b15fb8541b9b2f8f7292a493cf2": {
          "model_module": "@jupyter-widgets/controls",
          "model_name": "DescriptionStyleModel",
          "model_module_version": "1.5.0",
          "state": {
            "_model_module": "@jupyter-widgets/controls",
            "_model_module_version": "1.5.0",
            "_model_name": "DescriptionStyleModel",
            "_view_count": null,
            "_view_module": "@jupyter-widgets/base",
            "_view_module_version": "1.2.0",
            "_view_name": "StyleView",
            "description_width": ""
          }
        },
        "816aac55e9954340bffbf4731841f079": {
          "model_module": "@jupyter-widgets/base",
          "model_name": "LayoutModel",
          "model_module_version": "1.2.0",
          "state": {
            "_model_module": "@jupyter-widgets/base",
            "_model_module_version": "1.2.0",
            "_model_name": "LayoutModel",
            "_view_count": null,
            "_view_module": "@jupyter-widgets/base",
            "_view_module_version": "1.2.0",
            "_view_name": "LayoutView",
            "align_content": null,
            "align_items": null,
            "align_self": null,
            "border": null,
            "bottom": null,
            "display": null,
            "flex": null,
            "flex_flow": null,
            "grid_area": null,
            "grid_auto_columns": null,
            "grid_auto_flow": null,
            "grid_auto_rows": null,
            "grid_column": null,
            "grid_gap": null,
            "grid_row": null,
            "grid_template_areas": null,
            "grid_template_columns": null,
            "grid_template_rows": null,
            "height": null,
            "justify_content": null,
            "justify_items": null,
            "left": null,
            "margin": null,
            "max_height": null,
            "max_width": null,
            "min_height": null,
            "min_width": null,
            "object_fit": null,
            "object_position": null,
            "order": null,
            "overflow": null,
            "overflow_x": null,
            "overflow_y": null,
            "padding": null,
            "right": null,
            "top": null,
            "visibility": null,
            "width": null
          }
        },
        "fdea56eca04a4c10bd026ea3edc3896f": {
          "model_module": "@jupyter-widgets/controls",
          "model_name": "ProgressStyleModel",
          "model_module_version": "1.5.0",
          "state": {
            "_model_module": "@jupyter-widgets/controls",
            "_model_module_version": "1.5.0",
            "_model_name": "ProgressStyleModel",
            "_view_count": null,
            "_view_module": "@jupyter-widgets/base",
            "_view_module_version": "1.2.0",
            "_view_name": "StyleView",
            "bar_color": null,
            "description_width": ""
          }
        },
        "c4e879fa0ce54019aed845a2fb1fafac": {
          "model_module": "@jupyter-widgets/base",
          "model_name": "LayoutModel",
          "model_module_version": "1.2.0",
          "state": {
            "_model_module": "@jupyter-widgets/base",
            "_model_module_version": "1.2.0",
            "_model_name": "LayoutModel",
            "_view_count": null,
            "_view_module": "@jupyter-widgets/base",
            "_view_module_version": "1.2.0",
            "_view_name": "LayoutView",
            "align_content": null,
            "align_items": null,
            "align_self": null,
            "border": null,
            "bottom": null,
            "display": null,
            "flex": null,
            "flex_flow": null,
            "grid_area": null,
            "grid_auto_columns": null,
            "grid_auto_flow": null,
            "grid_auto_rows": null,
            "grid_column": null,
            "grid_gap": null,
            "grid_row": null,
            "grid_template_areas": null,
            "grid_template_columns": null,
            "grid_template_rows": null,
            "height": null,
            "justify_content": null,
            "justify_items": null,
            "left": null,
            "margin": null,
            "max_height": null,
            "max_width": null,
            "min_height": null,
            "min_width": null,
            "object_fit": null,
            "object_position": null,
            "order": null,
            "overflow": null,
            "overflow_x": null,
            "overflow_y": null,
            "padding": null,
            "right": null,
            "top": null,
            "visibility": null,
            "width": null
          }
        },
        "bb614aed5fb04e2b85b87387659f7ef2": {
          "model_module": "@jupyter-widgets/controls",
          "model_name": "DescriptionStyleModel",
          "model_module_version": "1.5.0",
          "state": {
            "_model_module": "@jupyter-widgets/controls",
            "_model_module_version": "1.5.0",
            "_model_name": "DescriptionStyleModel",
            "_view_count": null,
            "_view_module": "@jupyter-widgets/base",
            "_view_module_version": "1.2.0",
            "_view_name": "StyleView",
            "description_width": ""
          }
        },
        "493886efa6834bbbbb59649721c19346": {
          "model_module": "@jupyter-widgets/controls",
          "model_name": "HBoxModel",
          "model_module_version": "1.5.0",
          "state": {
            "_dom_classes": [],
            "_model_module": "@jupyter-widgets/controls",
            "_model_module_version": "1.5.0",
            "_model_name": "HBoxModel",
            "_view_count": null,
            "_view_module": "@jupyter-widgets/controls",
            "_view_module_version": "1.5.0",
            "_view_name": "HBoxView",
            "box_style": "",
            "children": [
              "IPY_MODEL_e88727c3c6e14270917d84301dcebea3",
              "IPY_MODEL_3710d1d32cd94868a453e3a02ea1272e",
              "IPY_MODEL_17d4c71834b54af881ef6adf59db0567"
            ],
            "layout": "IPY_MODEL_8dabe28c39484b46865cf18bc972fa0e"
          }
        },
        "e88727c3c6e14270917d84301dcebea3": {
          "model_module": "@jupyter-widgets/controls",
          "model_name": "HTMLModel",
          "model_module_version": "1.5.0",
          "state": {
            "_dom_classes": [],
            "_model_module": "@jupyter-widgets/controls",
            "_model_module_version": "1.5.0",
            "_model_name": "HTMLModel",
            "_view_count": null,
            "_view_module": "@jupyter-widgets/controls",
            "_view_module_version": "1.5.0",
            "_view_name": "HTMLView",
            "description": "",
            "description_tooltip": null,
            "layout": "IPY_MODEL_b9b57b675a404803a266a620b8dfd31c",
            "placeholder": "​",
            "style": "IPY_MODEL_f5338c3848614184b1460356974e1358",
            "value": "Downloading (…)lve/main/config.json: 100%"
          }
        },
        "3710d1d32cd94868a453e3a02ea1272e": {
          "model_module": "@jupyter-widgets/controls",
          "model_name": "FloatProgressModel",
          "model_module_version": "1.5.0",
          "state": {
            "_dom_classes": [],
            "_model_module": "@jupyter-widgets/controls",
            "_model_module_version": "1.5.0",
            "_model_name": "FloatProgressModel",
            "_view_count": null,
            "_view_module": "@jupyter-widgets/controls",
            "_view_module_version": "1.5.0",
            "_view_name": "ProgressView",
            "bar_style": "success",
            "description": "",
            "description_tooltip": null,
            "layout": "IPY_MODEL_6e26099d27f34a10868761427d22715f",
            "max": 570,
            "min": 0,
            "orientation": "horizontal",
            "style": "IPY_MODEL_7c8e2649d73a4ceeae3ba3612741740b",
            "value": 570
          }
        },
        "17d4c71834b54af881ef6adf59db0567": {
          "model_module": "@jupyter-widgets/controls",
          "model_name": "HTMLModel",
          "model_module_version": "1.5.0",
          "state": {
            "_dom_classes": [],
            "_model_module": "@jupyter-widgets/controls",
            "_model_module_version": "1.5.0",
            "_model_name": "HTMLModel",
            "_view_count": null,
            "_view_module": "@jupyter-widgets/controls",
            "_view_module_version": "1.5.0",
            "_view_name": "HTMLView",
            "description": "",
            "description_tooltip": null,
            "layout": "IPY_MODEL_1eda93901b5a47ed8163f95bd1b8b2c2",
            "placeholder": "​",
            "style": "IPY_MODEL_4ba68fb806924b59977f392ee743f876",
            "value": " 570/570 [00:00&lt;00:00, 25.8kB/s]"
          }
        },
        "8dabe28c39484b46865cf18bc972fa0e": {
          "model_module": "@jupyter-widgets/base",
          "model_name": "LayoutModel",
          "model_module_version": "1.2.0",
          "state": {
            "_model_module": "@jupyter-widgets/base",
            "_model_module_version": "1.2.0",
            "_model_name": "LayoutModel",
            "_view_count": null,
            "_view_module": "@jupyter-widgets/base",
            "_view_module_version": "1.2.0",
            "_view_name": "LayoutView",
            "align_content": null,
            "align_items": null,
            "align_self": null,
            "border": null,
            "bottom": null,
            "display": null,
            "flex": null,
            "flex_flow": null,
            "grid_area": null,
            "grid_auto_columns": null,
            "grid_auto_flow": null,
            "grid_auto_rows": null,
            "grid_column": null,
            "grid_gap": null,
            "grid_row": null,
            "grid_template_areas": null,
            "grid_template_columns": null,
            "grid_template_rows": null,
            "height": null,
            "justify_content": null,
            "justify_items": null,
            "left": null,
            "margin": null,
            "max_height": null,
            "max_width": null,
            "min_height": null,
            "min_width": null,
            "object_fit": null,
            "object_position": null,
            "order": null,
            "overflow": null,
            "overflow_x": null,
            "overflow_y": null,
            "padding": null,
            "right": null,
            "top": null,
            "visibility": null,
            "width": null
          }
        },
        "b9b57b675a404803a266a620b8dfd31c": {
          "model_module": "@jupyter-widgets/base",
          "model_name": "LayoutModel",
          "model_module_version": "1.2.0",
          "state": {
            "_model_module": "@jupyter-widgets/base",
            "_model_module_version": "1.2.0",
            "_model_name": "LayoutModel",
            "_view_count": null,
            "_view_module": "@jupyter-widgets/base",
            "_view_module_version": "1.2.0",
            "_view_name": "LayoutView",
            "align_content": null,
            "align_items": null,
            "align_self": null,
            "border": null,
            "bottom": null,
            "display": null,
            "flex": null,
            "flex_flow": null,
            "grid_area": null,
            "grid_auto_columns": null,
            "grid_auto_flow": null,
            "grid_auto_rows": null,
            "grid_column": null,
            "grid_gap": null,
            "grid_row": null,
            "grid_template_areas": null,
            "grid_template_columns": null,
            "grid_template_rows": null,
            "height": null,
            "justify_content": null,
            "justify_items": null,
            "left": null,
            "margin": null,
            "max_height": null,
            "max_width": null,
            "min_height": null,
            "min_width": null,
            "object_fit": null,
            "object_position": null,
            "order": null,
            "overflow": null,
            "overflow_x": null,
            "overflow_y": null,
            "padding": null,
            "right": null,
            "top": null,
            "visibility": null,
            "width": null
          }
        },
        "f5338c3848614184b1460356974e1358": {
          "model_module": "@jupyter-widgets/controls",
          "model_name": "DescriptionStyleModel",
          "model_module_version": "1.5.0",
          "state": {
            "_model_module": "@jupyter-widgets/controls",
            "_model_module_version": "1.5.0",
            "_model_name": "DescriptionStyleModel",
            "_view_count": null,
            "_view_module": "@jupyter-widgets/base",
            "_view_module_version": "1.2.0",
            "_view_name": "StyleView",
            "description_width": ""
          }
        },
        "6e26099d27f34a10868761427d22715f": {
          "model_module": "@jupyter-widgets/base",
          "model_name": "LayoutModel",
          "model_module_version": "1.2.0",
          "state": {
            "_model_module": "@jupyter-widgets/base",
            "_model_module_version": "1.2.0",
            "_model_name": "LayoutModel",
            "_view_count": null,
            "_view_module": "@jupyter-widgets/base",
            "_view_module_version": "1.2.0",
            "_view_name": "LayoutView",
            "align_content": null,
            "align_items": null,
            "align_self": null,
            "border": null,
            "bottom": null,
            "display": null,
            "flex": null,
            "flex_flow": null,
            "grid_area": null,
            "grid_auto_columns": null,
            "grid_auto_flow": null,
            "grid_auto_rows": null,
            "grid_column": null,
            "grid_gap": null,
            "grid_row": null,
            "grid_template_areas": null,
            "grid_template_columns": null,
            "grid_template_rows": null,
            "height": null,
            "justify_content": null,
            "justify_items": null,
            "left": null,
            "margin": null,
            "max_height": null,
            "max_width": null,
            "min_height": null,
            "min_width": null,
            "object_fit": null,
            "object_position": null,
            "order": null,
            "overflow": null,
            "overflow_x": null,
            "overflow_y": null,
            "padding": null,
            "right": null,
            "top": null,
            "visibility": null,
            "width": null
          }
        },
        "7c8e2649d73a4ceeae3ba3612741740b": {
          "model_module": "@jupyter-widgets/controls",
          "model_name": "ProgressStyleModel",
          "model_module_version": "1.5.0",
          "state": {
            "_model_module": "@jupyter-widgets/controls",
            "_model_module_version": "1.5.0",
            "_model_name": "ProgressStyleModel",
            "_view_count": null,
            "_view_module": "@jupyter-widgets/base",
            "_view_module_version": "1.2.0",
            "_view_name": "StyleView",
            "bar_color": null,
            "description_width": ""
          }
        },
        "1eda93901b5a47ed8163f95bd1b8b2c2": {
          "model_module": "@jupyter-widgets/base",
          "model_name": "LayoutModel",
          "model_module_version": "1.2.0",
          "state": {
            "_model_module": "@jupyter-widgets/base",
            "_model_module_version": "1.2.0",
            "_model_name": "LayoutModel",
            "_view_count": null,
            "_view_module": "@jupyter-widgets/base",
            "_view_module_version": "1.2.0",
            "_view_name": "LayoutView",
            "align_content": null,
            "align_items": null,
            "align_self": null,
            "border": null,
            "bottom": null,
            "display": null,
            "flex": null,
            "flex_flow": null,
            "grid_area": null,
            "grid_auto_columns": null,
            "grid_auto_flow": null,
            "grid_auto_rows": null,
            "grid_column": null,
            "grid_gap": null,
            "grid_row": null,
            "grid_template_areas": null,
            "grid_template_columns": null,
            "grid_template_rows": null,
            "height": null,
            "justify_content": null,
            "justify_items": null,
            "left": null,
            "margin": null,
            "max_height": null,
            "max_width": null,
            "min_height": null,
            "min_width": null,
            "object_fit": null,
            "object_position": null,
            "order": null,
            "overflow": null,
            "overflow_x": null,
            "overflow_y": null,
            "padding": null,
            "right": null,
            "top": null,
            "visibility": null,
            "width": null
          }
        },
        "4ba68fb806924b59977f392ee743f876": {
          "model_module": "@jupyter-widgets/controls",
          "model_name": "DescriptionStyleModel",
          "model_module_version": "1.5.0",
          "state": {
            "_model_module": "@jupyter-widgets/controls",
            "_model_module_version": "1.5.0",
            "_model_name": "DescriptionStyleModel",
            "_view_count": null,
            "_view_module": "@jupyter-widgets/base",
            "_view_module_version": "1.2.0",
            "_view_name": "StyleView",
            "description_width": ""
          }
        }
      }
    }
  },
  "cells": [
    {
      "cell_type": "markdown",
      "source": [
        "# Comprendre le mécanisme d'attention avec BERT\n",
        "Lien : [Source code](https://towardsdatascience.com/deep-dive-into-the-code-of-bert-model-9f618472353e)\n",
        "\n",
        "L'idée est ici de retracer pas à pas ce qui se passe dans le transformer-encoder de BERT. Dans un premier temps nous nous intéresserons à l'input : l'embedding des tokens. Puis au réseau de neurone (mécanisme de self-attention + Feed Forward).\n",
        "\n",
        "Le mécanisme d'attention vise à pondérer les embeddings de chaque token en fonction de l'attention qu'ils portent aux autres. En portant son attention sur un token en particulier, il influence les embeddings.\n",
        "\n",
        "Plan :     \n",
        "1. Import du modèle & data + structure du modèle\n",
        "2. Embedding initiaux en détail\n",
        "3. L'encodeur & l'aglorithme"
      ],
      "metadata": {
        "id": "N-OrecowVzBX"
      }
    },
    {
      "cell_type": "markdown",
      "source": [
        "# 1. Import"
      ],
      "metadata": {
        "id": "mMpn5tKMg7DF"
      }
    },
    {
      "cell_type": "code",
      "execution_count": null,
      "metadata": {
        "id": "esMYdg6HK61B"
      },
      "outputs": [],
      "source": [
        "!pip install transformers bertviz"
      ]
    },
    {
      "cell_type": "markdown",
      "source": [
        "Téléchargement du modèle BERT."
      ],
      "metadata": {
        "id": "k6sa5oyhK7N-"
      }
    },
    {
      "cell_type": "code",
      "source": [
        "from bertviz.transformers_neuron_view import BertModel, BertConfig\n",
        "from transformers import BertTokenizer\n",
        "import torch\n",
        "import math\n",
        "\n",
        "# max_position_embeddings (int, optional, defaults to 512)\n",
        "# The maximum sequence length that this model might ever be used with. Typically set this to something large just in case (e.g., 512 or 1024 or 2048).\n",
        "max_length = 256\n",
        "config = BertConfig.from_pretrained(\"bert-base-cased\", output_attentions=True, output_hidden_states=True, return_dict=True)\n",
        "tokenizer = BertTokenizer.from_pretrained(\"bert-base-cased\")\n",
        "config.max_position_embeddings = max_length"
      ],
      "metadata": {
        "id": "aieRrjqmLAgQ",
        "colab": {
          "base_uri": "https://localhost:8080/",
          "height": 130,
          "referenced_widgets": [
            "8f35f2abb54f4b46b4109d0a1db9abcb",
            "ef729b371dc04b38969d0d6c1570e577",
            "3452cc1332f14889874300e7986cbb2c",
            "05971ae5df5f4d94baef0160a43c69b1",
            "cf20c6707dd04bc1b1ac242d3c90612c",
            "a139022cad4945919f5a62ef83a290de",
            "330edf9a836748af8a51f1963e4b915c",
            "6530a84d62c54efe94b0c095b2f9754f",
            "d35793d6ead54c2797323cac02ff6fd6",
            "250ffce72bc14304b22a21e41090cbd9",
            "97f6900ad60147cbbe82901c188d431e",
            "e08c46626a934d85959da99ed93cdda6",
            "2e3f27d8195e477b9fa93f1d0ca65985",
            "2b5ad0c2128a44f794aa9791befed502",
            "54cc397f6588498a8b0e6958de675faa",
            "44913c80e3014a69bc8edde37f848bd4",
            "2e67a79826a94648bd94ecfb669bcedd",
            "72b40b15fb8541b9b2f8f7292a493cf2",
            "816aac55e9954340bffbf4731841f079",
            "fdea56eca04a4c10bd026ea3edc3896f",
            "c4e879fa0ce54019aed845a2fb1fafac",
            "bb614aed5fb04e2b85b87387659f7ef2",
            "493886efa6834bbbbb59649721c19346",
            "e88727c3c6e14270917d84301dcebea3",
            "3710d1d32cd94868a453e3a02ea1272e",
            "17d4c71834b54af881ef6adf59db0567",
            "8dabe28c39484b46865cf18bc972fa0e",
            "b9b57b675a404803a266a620b8dfd31c",
            "f5338c3848614184b1460356974e1358",
            "6e26099d27f34a10868761427d22715f",
            "7c8e2649d73a4ceeae3ba3612741740b",
            "1eda93901b5a47ed8163f95bd1b8b2c2",
            "4ba68fb806924b59977f392ee743f876"
          ]
        },
        "outputId": "99c0c521-e59b-423b-b7f4-10dc6879a58b"
      },
      "execution_count": null,
      "outputs": [
        {
          "output_type": "stream",
          "name": "stderr",
          "text": [
            "100%|██████████| 433/433 [00:00<00:00, 2154369.67B/s]\n"
          ]
        },
        {
          "output_type": "display_data",
          "data": {
            "text/plain": [
              "Downloading (…)solve/main/vocab.txt:   0%|          | 0.00/213k [00:00<?, ?B/s]"
            ],
            "application/vnd.jupyter.widget-view+json": {
              "version_major": 2,
              "version_minor": 0,
              "model_id": "8f35f2abb54f4b46b4109d0a1db9abcb"
            }
          },
          "metadata": {}
        },
        {
          "output_type": "display_data",
          "data": {
            "text/plain": [
              "Downloading (…)okenizer_config.json:   0%|          | 0.00/29.0 [00:00<?, ?B/s]"
            ],
            "application/vnd.jupyter.widget-view+json": {
              "version_major": 2,
              "version_minor": 0,
              "model_id": "e08c46626a934d85959da99ed93cdda6"
            }
          },
          "metadata": {}
        },
        {
          "output_type": "display_data",
          "data": {
            "text/plain": [
              "Downloading (…)lve/main/config.json:   0%|          | 0.00/570 [00:00<?, ?B/s]"
            ],
            "application/vnd.jupyter.widget-view+json": {
              "version_major": 2,
              "version_minor": 0,
              "model_id": "493886efa6834bbbbb59649721c19346"
            }
          },
          "metadata": {}
        }
      ]
    },
    {
      "cell_type": "markdown",
      "source": [
        "Architecture du modèle : réseau de neurones. Explicitons le modèle :\n",
        "\n",
        "\n",
        "1 : étape les (embeddings)\n",
        "\n",
        "* (word_embeddings): Taille du vocabulaire : 28996. Longueur des vecteurs embeddings pour chaque token : 768   \n",
        "* (position_embeddings): La taille maximale de l'input est une séquence de 256 tokens\n",
        "* (token_type_embeddings): Différencier 2 phrases\n",
        "* (LayerNorm): Couche de normalisation\n",
        "* (dropout): Evite l'overfitting\n",
        "\n",
        "\n",
        "2 : étape l'(encoder): 12 couches de self (attention)\n",
        "* (query): la requête (l'input)\n",
        "* (key): la cléf\n",
        "* (value): la valeur à modeler\n",
        "* (dropout): Evite l'overfitting\n",
        "* (LayerNorm): Normalisation()\n",
        "\n",
        "\n",
        "3 : (pooler): fonction d'(activation): Tanh()\n",
        "\n"
      ],
      "metadata": {
        "id": "Ko_mi8VrLgbe"
      }
    },
    {
      "cell_type": "code",
      "source": [
        "model = BertModel(config)\n",
        "model = model.eval()\n",
        "\n",
        "display(model)"
      ],
      "metadata": {
        "colab": {
          "base_uri": "https://localhost:8080/",
          "height": 712
        },
        "id": "Qq2AGVensqR0",
        "outputId": "0c15fc65-3086-442e-acbe-bf08567d0bd2"
      },
      "execution_count": null,
      "outputs": [
        {
          "output_type": "display_data",
          "data": {
            "text/plain": [
              "BertModel(\n",
              "  (embeddings): BertEmbeddings(\n",
              "    (word_embeddings): Embedding(28996, 768, padding_idx=0)\n",
              "    (position_embeddings): Embedding(256, 768)\n",
              "    (token_type_embeddings): Embedding(2, 768)\n",
              "    (LayerNorm): BertLayerNorm()\n",
              "    (dropout): Dropout(p=0.1, inplace=False)\n",
              "  )\n",
              "  (encoder): BertEncoder(\n",
              "    (layer): ModuleList(\n",
              "      (0-11): 12 x BertLayer(\n",
              "        (attention): BertAttention(\n",
              "          (self): BertSelfAttention(\n",
              "            (query): Linear(in_features=768, out_features=768, bias=True)\n",
              "            (key): Linear(in_features=768, out_features=768, bias=True)\n",
              "            (value): Linear(in_features=768, out_features=768, bias=True)\n",
              "            (dropout): Dropout(p=0.1, inplace=False)\n",
              "          )\n",
              "          (output): BertSelfOutput(\n",
              "            (dense): Linear(in_features=768, out_features=768, bias=True)\n",
              "            (LayerNorm): BertLayerNorm()\n",
              "            (dropout): Dropout(p=0.1, inplace=False)\n",
              "          )\n",
              "        )\n",
              "        (intermediate): BertIntermediate(\n",
              "          (dense): Linear(in_features=768, out_features=3072, bias=True)\n",
              "        )\n",
              "        (output): BertOutput(\n",
              "          (dense): Linear(in_features=3072, out_features=768, bias=True)\n",
              "          (LayerNorm): BertLayerNorm()\n",
              "          (dropout): Dropout(p=0.1, inplace=False)\n",
              "        )\n",
              "      )\n",
              "    )\n",
              "  )\n",
              "  (pooler): BertPooler(\n",
              "    (dense): Linear(in_features=768, out_features=768, bias=True)\n",
              "    (activation): Tanh()\n",
              "  )\n",
              ")"
            ]
          },
          "metadata": {}
        }
      ]
    },
    {
      "cell_type": "markdown",
      "source": [
        "# 2. BertEmbeddings\n",
        "On séléctionne 3 phrases du corpus. On les tokenize."
      ],
      "metadata": {
        "id": "S8iuedOP36wp"
      }
    },
    {
      "cell_type": "code",
      "source": [
        "# import du corpus de texte\n",
        "from sklearn.datasets import fetch_20newsgroups\n",
        "newsgroups_train = fetch_20newsgroups(subset='train')\n",
        "\n",
        "# création des inputs : 3 phrases tokenisés\n",
        "inputs_tests = tokenizer(newsgroups_train['data'][:3], truncation=True, padding=True, max_length=max_length, return_tensors='pt')\n",
        "inputs = tokenizer(newsgroups_train['data'][3:6], truncation=True, padding=True, max_length=max_length, return_tensors='pt')"
      ],
      "metadata": {
        "id": "aAEM4WOcLAiv"
      },
      "execution_count": null,
      "outputs": []
    },
    {
      "cell_type": "markdown",
      "source": [
        "`inputs` est un dictionnaire contenant 3 vecteurs de dimension égale à celle de la taille d'entrée (256)\n",
        "1. Dans `inputs['input_ids']` : les id des tokens du paragraphe (le vocabulaire est numéroté).\n",
        "2. Dans `inputs['token_type_ids']` : 0 ou 1 s'il y a un token ou non (espace vide)\n",
        "3. Dans `inputs['attention_mask']` : le masque d'attention, initialemement à 1"
      ],
      "metadata": {
        "id": "z_DZWsfQQr22"
      }
    },
    {
      "cell_type": "code",
      "source": [
        "inputs['token_type_ids'].shape"
      ],
      "metadata": {
        "colab": {
          "base_uri": "https://localhost:8080/"
        },
        "id": "hhNeePBpQrlW",
        "outputId": "439af849-21ce-4eab-8205-6c5ebaf0aa69"
      },
      "execution_count": null,
      "outputs": [
        {
          "output_type": "execute_result",
          "data": {
            "text/plain": [
              "torch.Size([3, 256])"
            ]
          },
          "metadata": {},
          "execution_count": 11
        }
      ]
    },
    {
      "cell_type": "markdown",
      "source": [
        "## word_embeddings"
      ],
      "metadata": {
        "id": "CPIUz1iiSb4f"
      }
    },
    {
      "cell_type": "markdown",
      "source": [
        "Taille du vocabulaire de BERT (30k) et la dimension de l'embedding (768).\n"
      ],
      "metadata": {
        "id": "udXnAGVPSG07"
      }
    },
    {
      "cell_type": "code",
      "source": [
        "model.embeddings.word_embeddings.weight.shape"
      ],
      "metadata": {
        "colab": {
          "base_uri": "https://localhost:8080/"
        },
        "id": "unkdAWeCLAlJ",
        "outputId": "31b12918-24e6-442b-e098-5c7eba20c5f5"
      },
      "execution_count": null,
      "outputs": [
        {
          "output_type": "execute_result",
          "data": {
            "text/plain": [
              "torch.Size([28996, 768])"
            ]
          },
          "metadata": {},
          "execution_count": 21
        }
      ]
    },
    {
      "cell_type": "markdown",
      "source": [
        "## position_embeddings"
      ],
      "metadata": {
        "id": "B6E0NxsASer_"
      }
    },
    {
      "cell_type": "markdown",
      "source": [
        "Contrairement aux LSTM qui prennent en compte l'ordre des mots (prise en compte des mots les uns après les autres), BERT parallélise leur entrée (ce qui permet d'être plus rapide).\n",
        "\n",
        "Il faut donc ajouter de cette information (ordre). Grace à la matrice position_embeddings de dimension :\n",
        "* 256 : the max sentence length whilst (maximum sequence length that this model might ever be used with)\n",
        "* 768 : the features dimension as for word embeddings"
      ],
      "metadata": {
        "id": "nMgrM3QAShFR"
      }
    },
    {
      "cell_type": "code",
      "source": [
        "\n",
        "model.embeddings.position_embeddings.weight.shape"
      ],
      "metadata": {
        "colab": {
          "base_uri": "https://localhost:8080/"
        },
        "id": "IMsh72kFLAnl",
        "outputId": "e89e54fd-1972-4f8f-a7b1-ad7752938745"
      },
      "execution_count": null,
      "outputs": [
        {
          "output_type": "execute_result",
          "data": {
            "text/plain": [
              "torch.Size([256, 768])"
            ]
          },
          "metadata": {},
          "execution_count": 22
        }
      ]
    },
    {
      "cell_type": "markdown",
      "source": [
        "Calcul des termes de la matrice.\n",
        "$\\mathrm{PE}_{i,j}=\\sin \\left( \\frac{i}{1000^{2E(j/2)/d_m}}+ \\frac{\\pi}{2} j\\right)$\n",
        "\n",
        "\n",
        "\n",
        "\n",
        "![image.png](data:image/png;base64,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)"
      ],
      "metadata": {
        "id": "huYx7E5QxrYn"
      }
    },
    {
      "cell_type": "code",
      "source": [
        "model.embeddings.position_embeddings.weight"
      ],
      "metadata": {
        "colab": {
          "base_uri": "https://localhost:8080/"
        },
        "id": "CH1WSRkmxYnI",
        "outputId": "2b9e720d-2483-4c9c-e490-54d39800c181"
      },
      "execution_count": null,
      "outputs": [
        {
          "output_type": "execute_result",
          "data": {
            "text/plain": [
              "Parameter containing:\n",
              "tensor([[-0.0058,  0.0002,  0.0125,  ..., -0.0110, -0.0080, -0.0016],\n",
              "        [-0.0348,  0.0099,  0.0507,  ..., -0.0021,  0.0295, -0.0151],\n",
              "        [-0.0223, -0.0019,  0.0356,  ...,  0.0052, -0.0167,  0.0017],\n",
              "        ...,\n",
              "        [-0.0189, -0.0190, -0.0081,  ...,  0.0267, -0.0427, -0.0077],\n",
              "        [ 0.0053,  0.0222, -0.0135,  ...,  0.0068, -0.0016,  0.0069],\n",
              "        [-0.0131, -0.0152, -0.0075,  ..., -0.0267, -0.0084,  0.0032]],\n",
              "       requires_grad=True)"
            ]
          },
          "metadata": {},
          "execution_count": 23
        }
      ]
    },
    {
      "cell_type": "markdown",
      "source": [
        "## token_type_embeddings\n",
        "Séparer les différentes phrases (A ou B)."
      ],
      "metadata": {
        "id": "37JFdZWXTNZu"
      }
    },
    {
      "cell_type": "code",
      "source": [
        "# this embedding is needed to distinguish between the first and the second sentence. We do not need it as we have only one input sentence for classification task.\n",
        "# token_type_embeddings is “redundant” here and comes from the Bert training task where the semantic similarity between two sentences is assessed\n",
        "model.embeddings.token_type_embeddings.weight.shape"
      ],
      "metadata": {
        "colab": {
          "base_uri": "https://localhost:8080/"
        },
        "id": "8XnGnOT2vUKz",
        "outputId": "66353e32-9940-4d18-e4db-196b0e65dff6"
      },
      "execution_count": null,
      "outputs": [
        {
          "output_type": "execute_result",
          "data": {
            "text/plain": [
              "torch.Size([2, 768])"
            ]
          },
          "metadata": {},
          "execution_count": 24
        }
      ]
    },
    {
      "cell_type": "markdown",
      "source": [
        "## Sommation des 3 embeddings pour former l'input du réseau de neurones"
      ],
      "metadata": {
        "id": "kfGav9SgT9tR"
      }
    },
    {
      "cell_type": "code",
      "source": [
        "# mini-batch de 3 phrases, 12 couches d'attention pour 12 têtes d'attention\n",
        "n_batch = 3\n",
        "tot_n_layers = 12\n",
        "tot_n_heads = 12\n",
        "\n",
        "# Dimension embedding : (3 phrases, 256 longueur max, 768 word embedding)\n",
        "shape_embs = (inputs_tests['input_ids'].shape) + (model.embeddings.word_embeddings.weight.shape[1], )\n",
        "\n",
        "# word_embeddings, position_embeddings & token_type_embeddings pour notre corpus\n",
        "# index_select (input tensor to select elements, dim along which you want to select, indices elements selected)\n",
        "w_embs_batch = torch.index_select(input=model.embeddings.word_embeddings.weight, dim=0, index=inputs_tests['input_ids'].reshape(1,-1).squeeze(0)).reshape(shape_embs)\n",
        "pos_embs_batch = torch.index_select(model.embeddings.position_embeddings.weight, 0,\n",
        "                                    torch.tensor(range(inputs_tests['input_ids'][1].size(0))).repeat(1, n_batch).squeeze(0)).reshape(shape_embs)\n",
        "type_embs_batch = torch.index_select(model.embeddings.token_type_embeddings.weight, 0,\n",
        "                                     inputs_tests['token_type_ids'].reshape(1,-1).squeeze(0)).reshape(shape_embs)\n",
        "\n",
        "# On somme les 3 embeddings pour en avoir qu'un seul\n",
        "batch_all_embs = w_embs_batch + pos_embs_batch + type_embs_batch\n",
        "print(f'(batch_size, n_words, embedding dim) = {tuple(batch_all_embs.shape)}')"
      ],
      "metadata": {
        "colab": {
          "base_uri": "https://localhost:8080/"
        },
        "id": "WlxDsGasLAsm",
        "outputId": "7524e9ab-81fd-4851-9456-742e35e72359"
      },
      "execution_count": null,
      "outputs": [
        {
          "output_type": "stream",
          "name": "stdout",
          "text": [
            "(batch_size, n_words, embedding dim) = (3, 256, 768)\n"
          ]
        }
      ]
    },
    {
      "cell_type": "code",
      "source": [
        "type_embs_batch[0][0][:5]"
      ],
      "metadata": {
        "colab": {
          "base_uri": "https://localhost:8080/"
        },
        "id": "v6Nr7iVP4Kmd",
        "outputId": "cebed3e8-a8b7-44d0-c64a-69b0a6b9a0e1"
      },
      "execution_count": null,
      "outputs": [
        {
          "output_type": "execute_result",
          "data": {
            "text/plain": [
              "tensor([-0.0005, -0.0292, -0.0218, -0.0020,  0.0132], grad_fn=<SliceBackward0>)"
            ]
          },
          "metadata": {},
          "execution_count": 26
        }
      ]
    },
    {
      "cell_type": "markdown",
      "source": [
        "## Fonction de normalisation"
      ],
      "metadata": {
        "id": "u0E1e8peUU9t"
      }
    },
    {
      "cell_type": "markdown",
      "source": [
        "$$X^* = \\frac{X-\\mu}{\\sigma} \\sim \\mathcal{N}(0,1) \\quad \\quad \\mathrm{shifted\\_x} = X^*W+b$$\n",
        "\n",
        "$$\\mathbb E [\\mathrm{shifted\\_x}] = \\mathbb E[b] $$\n",
        "\n",
        "$$\\mathbb V [\\mathrm{shifted\\_x}] = \\mathbb V[W] $$"
      ],
      "metadata": {
        "id": "ZYIw9qSCy6WF"
      }
    },
    {
      "cell_type": "code",
      "source": [
        "# Fonction de normalisation\n",
        "# LayerNorm step helps the model to train faster and generalize better.\n",
        "def layer_norm(x, w, b):\n",
        "  \"\"\" x : matrice full sentence embeddin à normaliser à laquelle on applique une transformation affine\n",
        "      w : poids du modèle\n",
        "      b : biais\n",
        "  \"\"\"\n",
        "  mean_x = x.mean(-1, keepdim=True) # moyenne sur la dernière dimension\n",
        "  std_x = (x - mean_x).pow(2).mean(-1, keepdim=True)\n",
        "  x_std = (x - mean_x) / torch.sqrt(std_x + 1e-12) # pas de division par 0\n",
        "  shifted_x = w * x_std + b\n",
        "  return shifted_x\n",
        "\n",
        "# batch normalisation\n",
        "# model.embeddings.LayerNorm : layer normalization operation applied to the input embeddings within the model architecture.\n",
        "# We then apply a trained weight and bias vectors so it can be shifted to have a different mean and variance so the model during training can adapt automatically.\n",
        "# Because we compute mean and standard deviation across different examples independently from the others,\n",
        "# it is different from Batch normalization where the normalization is across the batch dimension and thus depends on other examples in the batch.\n",
        "norm_embs = layer_norm(batch_all_embs, model.embeddings.LayerNorm.weight, model.embeddings.LayerNorm.bias)"
      ],
      "metadata": {
        "id": "ccjnJ0vbLAqH"
      },
      "execution_count": null,
      "outputs": []
    },
    {
      "cell_type": "code",
      "source": [
        "# apply Dropout : replace with zero some values\n",
        "# Dropout helps to reduce overfitting as we randomly block signals from certain neurons\n",
        "# the network needs to find other paths to reduce the loss function, and thus it learns how to generalise better instead of relying on certain paths.\n",
        "## NB: because we set model to evaluation mode we will ignore all the dropout layers, they are only used during training. We still include it for completeness.\n",
        "\n",
        "norm_embs_dropout = model.embeddings.dropout(norm_embs)"
      ],
      "metadata": {
        "id": "nLlR6AJJ2dRX"
      },
      "execution_count": null,
      "outputs": []
    },
    {
      "cell_type": "code",
      "source": [
        "# On obtient bien les mêmes résultats que le modèle\n",
        "embs_model = model.embeddings(inputs_tests['input_ids'], inputs_tests['token_type_ids'])\n",
        "torch.allclose(embs_model, norm_embs, atol=1e-06)"
      ],
      "metadata": {
        "colab": {
          "base_uri": "https://localhost:8080/"
        },
        "id": "Nq8KkVmp2x8U",
        "outputId": "11574ad2-dc68-4775-99b6-e0d49a52f0e3"
      },
      "execution_count": null,
      "outputs": [
        {
          "output_type": "execute_result",
          "data": {
            "text/plain": [
              "True"
            ]
          },
          "metadata": {},
          "execution_count": 29
        }
      ]
    },
    {
      "cell_type": "markdown",
      "source": [
        "# Encodeur\n",
        "Les matrices $W$ sont les matrices contenants les paramètres du modèle. Supposons pour simplifier $Q=K=V$, la matrice contenant les embeddings des tokens sur chaque ligne. En calculant $QK^T$, on accède à la matrice contenant les produits scalaires entre les embeddings de tous les tokens entre eux. En appliquant la fonction $\\mathrm{softmax}$, on normalise ces produits scalaires là pour obtenir une matrice de transition (les sommes des coefficients sur chaque ligne sont égaux à 1). Enfin, en multipliant par $V$, on a modifier la matrice $V$, en pondérant par les similarités entre les tokens.\n",
        "\n",
        "Dans cet exemple, on a considéré que les matrices contenants les embeddings en entier. En réalité, il y a 12 têtes d'attentions. On scinde donc les embeddings : $768/12=64$.\n",
        "\n",
        "\n",
        "\n",
        "\n",
        "\n",
        "This is where attention is used to create different representations of the original embeddings that are context-dependent.\n",
        "\n",
        "In the BertLayer we first try to understand BertAttention — after deriving the embeddings of each word.\n",
        "\n",
        "Bert uses 3 matrices — Key, Query and Value, to compute attention scores and derive the new values for words embedding based on other words in the sentences; this way Bert is context aware, embedding of each word instead of being fixed and context independent is derived based on other words in the sentence and the importance of other words when deriving new embedding for a certain word is represented by the attention score.\n",
        "\n",
        "To derive the query and key vector for each word we need to multiply its embedding by a trained matrix (which are separate for Queries and Keys).\n",
        "\n",
        "$$K, Q, V \\in \\mathbb R^{(3 \\times )256 \\times 768}$$\n",
        "\n",
        "$$\\mathrm{Attention}(Q, K, V) = \\mathrm{softmax} \\left(\\frac{1}{\\sqrt{d_k}} Q K^T \\right)V $$\n",
        "\n",
        "\n",
        "![image.png](data:image/png;base64,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)\n"
      ],
      "metadata": {
        "id": "kyZXzdU131uL"
      }
    },
    {
      "cell_type": "markdown",
      "source": [
        "Ce qui est important de comprendre ici : le vecteur $X$ est identique pour la création de $Q, K, V$. En effet, on compare les tokens entre eux même : l'attention porte sur les éléments de l'input. C'est pour cela qu'il s'agit de **self-attention**. Les matrices $W_q, W_k, W_v$ sont les matrices des poids qui seront apris et mis à jour lors de l'entraînement."
      ],
      "metadata": {
        "id": "Ed0aSACwe2Ja"
      }
    },
    {
      "cell_type": "code",
      "source": [
        "# Il y a n_att_heads=12 BertLayers et l'output de l'un est l'input du prochain\n",
        "att_head_size = int(model.config.hidden_size/model.config.num_attention_heads)\n",
        "n_att_heads = model.config.num_attention_heads\n",
        "\n",
        "## Exemple sur la première tête\n",
        "# Calcul de Q pour le premier mot\n",
        "norm_embs[0][0, :] @ model.encoder.layer[0].attention.self.query.weight.T[:, :att_head_size] + \\\n",
        "                     model.encoder.layer[0].attention.self.query.bias[:att_head_size]"
      ],
      "metadata": {
        "colab": {
          "base_uri": "https://localhost:8080/"
        },
        "id": "MBqRGi4m4INk",
        "outputId": "28e549a2-a834-4dd1-faec-ba6db7a5cffe"
      },
      "execution_count": null,
      "outputs": [
        {
          "output_type": "execute_result",
          "data": {
            "text/plain": [
              "tensor([ 0.3437,  0.0469, -0.1836, -0.2779,  0.7825, -0.3185,  0.1913,  0.0538,\n",
              "        -0.1921, -0.2774,  0.8730,  0.1324,  0.1510,  0.0315, -0.4081,  0.7408,\n",
              "         0.7187, -0.5432, -0.3178, -0.0402, -0.7240, -0.8604, -0.8630, -0.2962,\n",
              "        -0.0765,  0.6795,  0.1716, -0.0609, -0.0046, -0.7299, -0.2069, -0.0227,\n",
              "         0.0447, -0.2107,  0.0389,  0.4784, -0.4674, -1.1412, -0.2008,  0.0071,\n",
              "         0.6784, -0.1350,  0.1174, -0.3243, -0.0288,  0.3954, -0.0248,  0.7083,\n",
              "        -1.2520,  1.3240,  0.9077, -1.0966, -0.8784,  0.4890, -0.7702,  0.0592,\n",
              "        -0.1354, -0.4261, -0.2907, -0.5292,  0.4916, -0.0369, -0.3990,  0.0788],\n",
              "       grad_fn=<AddBackward0>)"
            ]
          },
          "metadata": {},
          "execution_count": 30
        }
      ]
    },
    {
      "cell_type": "code",
      "source": [
        "tot_n_heads, tot_n_layers"
      ],
      "metadata": {
        "colab": {
          "base_uri": "https://localhost:8080/"
        },
        "id": "eiLZbgB8sRtb",
        "outputId": "4ce8b167-e373-4e1f-83ef-9ef5894ee01a"
      },
      "execution_count": null,
      "outputs": [
        {
          "output_type": "execute_result",
          "data": {
            "text/plain": [
              "(12, 12)"
            ]
          },
          "metadata": {},
          "execution_count": 31
        }
      ]
    },
    {
      "cell_type": "code",
      "source": [
        "normalized_embs = layer_norm(batch_all_embs, model.embeddings.LayerNorm.weight, model.embeddings.LayerNorm.bias)\n",
        "\n",
        "# Tensor de 1=there is a token in that positio et 0=padded token\n",
        "extended_attention_mask = inputs['attention_mask'].unsqueeze(1).unsqueeze(2)\n",
        "# Rempli de 0 car que des tokens, pas de padding\n",
        "# when we apply SoftMax we effectively send to zero those negative values and then derive probabilities based on other values.\n",
        "extended_attention_mask = (1.0 - extended_attention_mask) * -10000.0\n",
        "\n",
        "# On itère sur les 12 couches d'attentions\n",
        "for layer_n in range(tot_n_layers):\n",
        "# Pour la première couche : initiation\n",
        " if layer_n == 0:\n",
        "   # compute Query, Key and Value matrices\n",
        "   Q = normalized_embs @ model.encoder.layer[layer_n].attention.self.query.weight.T + model.encoder.layer[layer_n].attention.self.query.bias\n",
        "   K = normalized_embs @ model.encoder.layer[layer_n].attention.self.key.weight.T + model.encoder.layer[layer_n].attention.self.key.bias\n",
        "   V = normalized_embs @ model.encoder.layer[layer_n].attention.self.value.weight.T + model.encoder.layer[layer_n].attention.self.value.bias\n",
        "   # reshape : new_x_shape=(3 phrases, 256 longueur max, 12 attention heads, 64 att_head_size)\n",
        "   ## Each of these attention heads creates different representation of words (new_embed_1 matrix) 64*12=768 word embedding\n",
        "   new_x_shape = Q.size()[:-1] + (n_att_heads, att_head_size)\n",
        "   Q_reshaped = Q.view(*new_x_shape)\n",
        "   K_reshaped = K.view(*new_x_shape)\n",
        "   V_reshaped = V.view(*new_x_shape)\n",
        "   # compute attention probabilities\n",
        "   # softmax(QKt/d**.5) obtention de proba. Somme=1. Parmutation des dimensions (3 phrases, 12 attention heads, 256 longueur max, 64 att_head_size)\n",
        "   att_scores = (Q_reshaped.permute(0, 2, 1, 3) @ K_reshaped.permute(0, 2, 1, 3).transpose(-1, -2))\n",
        "   att_scores = (att_scores/ math.sqrt(att_head_size)) + extended_attention_mask\n",
        "   attention_probs = torch.nn.Softmax(dim=-1)(att_scores)\n",
        "   # concatenate attention heads : the results from the 12 heads and pass them through a bunch of linear layers,\n",
        "   att_heads = []\n",
        "   for i in range(tot_n_heads):\n",
        "   # Attention = softmax * V\n",
        "   # We then multiply these Values by the attention scores to get the new context-aware words representations\n",
        "    att_heads.append(attention_probs[:, i] @ V_reshaped[:, : , i, :])\n",
        "   # fin boucle for\n",
        "\n",
        "   # passing our concatenated attention results through a linear layer\n",
        "   output_dense = torch.cat(att_heads, 2) @ model.encoder.layer[layer_n].attention.output.dense.weight.T + \\\n",
        "                                            model.encoder.layer[layer_n].attention.output.dense.bias\n",
        "   # normalization + residual connection\n",
        "   output_layernorm = layer_norm(output_dense + normalized_embs,\n",
        "                                 model.encoder.layer[layer_n].attention.output.LayerNorm.weight,\n",
        "                                 model.encoder.layer[layer_n].attention.output.LayerNorm.bias)\n",
        "   # linear layer + non linear gelu activation GELU(x)=xP[X<=x]\n",
        "   # GeLU is non-monotonic, non-convex and non-linear in the positive domain and thus can approximate more easily complicated functions.\n",
        "   interm_dense = torch.nn.functional.gelu(output_layernorm @ model.encoder.layer[layer_n].intermediate.dense.weight.T + \\\n",
        "                                           model.encoder.layer[layer_n].intermediate.dense.bias)\n",
        "   # linear layer\n",
        "   out_dense = interm_dense @ model.encoder.layer[layer_n].output.dense.weight.T + model.encoder.layer[layer_n].output.dense.bias\n",
        "   # normalization + residual connection\n",
        "   # out_layernorm : sortie de la première head attention\n",
        "   out_layernorm = layer_norm(out_dense + output_layernorm,\n",
        "                              model.encoder.layer[layer_n].output.LayerNorm.weight,\n",
        "                              model.encoder.layer[layer_n].output.LayerNorm.bias)\n",
        "\n",
        "# Pour les couches suivantes : utilisation de l'output précédent : out_layernorm\n",
        " else:\n",
        "   # compute Q, K and V matrices, avec le dernier out_layernorm\n",
        "   Q = out_layernorm @ model.encoder.layer[layer_n].attention.self.query.weight.T + \\\n",
        "                              model.encoder.layer[layer_n].attention.self.query.bias\n",
        "   K = out_layernorm @ model.encoder.layer[layer_n].attention.self.key.weight.T + \\\n",
        "                              model.encoder.layer[layer_n].attention.self.key.bias\n",
        "   V = out_layernorm @ model.encoder.layer[layer_n].attention.self.value.weight.T + \\\n",
        "                              model.encoder.layer[layer_n].attention.self.value.bias\n",
        "   # reshape : new_x_shape=(3 phrases, 256 longueur max, 12 attention heads, 64 att_head_size)\n",
        "   Q_reshaped = Q.view(*new_x_shape)\n",
        "   K_reshaped = K.view(*new_x_shape)\n",
        "   V_reshaped = V.view(*new_x_shape)\n",
        "   # compute attention probabilities\n",
        "   # softmax(QKt/d**.5) obtention de proba. Somme=1. Parmutation des dimensions (3 phrases, 12 attention heads, 256 longueur max, 64 att_head_size)\n",
        "   att_scores = (Q_reshaped.permute(0, 2, 1, 3) @ K_reshaped.permute(0, 2, 1, 3).transpose(-1, -2))\n",
        "   att_scores = (att_scores/ math.sqrt(att_head_size)) + extended_attention_mask\n",
        "   attention_probs = torch.nn.Softmax(dim=-1)(att_scores)\n",
        "   # concatenate attention heads : the results from the 12 heads and pass them through a bunch of linear layers,\n",
        "   att_heads = []\n",
        "   for i in range(tot_n_heads):\n",
        "   # Attention = softmax * V\n",
        "   # We then multiply these Values by the attention scores to get the new context-aware words representations\n",
        "    att_heads.append(attention_probs[:, i] @ V_reshaped[:, : , i, :])\n",
        "   # fin boucle for\n",
        "\n",
        "   # passing our concatenated attention results through a linear layer\n",
        "   output_dense = torch.cat(att_heads, 2) @ model.encoder.layer[layer_n].attention.output.dense.weight.T + \\\n",
        "                                            model.encoder.layer[layer_n].attention.output.dense.bias\n",
        "   # normalization + residual connection\n",
        "   output_layernorm = layer_norm(output_dense + out_layernorm,\n",
        "                                 model.encoder.layer[layer_n].attention.output.LayerNorm.weight,\n",
        "                                 model.encoder.layer[layer_n].attention.output.LayerNorm.bias)\n",
        "\n",
        "   # linear layer + non linear gelu activation\n",
        "   interm_dense = torch.nn.functional.gelu(output_layernorm @ model.encoder.layer[layer_n].intermediate.dense.weight.T + \\\n",
        "                                                              model.encoder.layer[layer_n].intermediate.dense.bias)\n",
        "   # linear layer\n",
        "   out_dense = interm_dense @ model.encoder.layer[layer_n].output.dense.weight.T + model.encoder.layer[layer_n].output.dense.bias\n",
        "   # normalization + residual connection\n",
        "   out_layernorm = layer_norm(out_dense + output_layernorm,\n",
        "                              model.encoder.layer[layer_n].output.LayerNorm.weight,\n",
        "                              model.encoder.layer[layer_n].output.LayerNorm.bias)"
      ],
      "metadata": {
        "id": "hfyQ8iD2s9Dx"
      },
      "execution_count": null,
      "outputs": []
    },
    {
      "cell_type": "code",
      "source": [
        "out_layernorm.shape"
      ],
      "metadata": {
        "colab": {
          "base_uri": "https://localhost:8080/"
        },
        "id": "W7zHbzdpv6tH",
        "outputId": "0982ee73-1c33-4ec6-b172-cab8b2f7ba2b"
      },
      "execution_count": null,
      "outputs": [
        {
          "output_type": "execute_result",
          "data": {
            "text/plain": [
              "torch.Size([3, 256, 768])"
            ]
          },
          "metadata": {},
          "execution_count": 33
        }
      ]
    },
    {
      "cell_type": "code",
      "source": [
        "Q_first_head = norm_embs[0] @ model.encoder.layer[0].attention.self.query.weight.T[:, :att_head_size] + \\\n",
        "               model.encoder.layer[0].attention.self.query.bias[:att_head_size]\n",
        "K_first_head = norm_embs[0] @ model.encoder.layer[0].attention.self.key.weight.T[:, :att_head_size] + \\\n",
        "               model.encoder.layer[0].attention.self.key.bias[:att_head_size]\n",
        "torch.nn.functional.softmax(torch.tensor([0,0,0, -10000, -10000]).float())\n",
        "# tensor([0.3333, 0.3333, 0.3333, 0.0000, 0.0000])\n",
        "mod_attention = (1.0 - inputs['attention_mask'][[0]]) * -10000.0\n",
        "attention_scores = torch.nn.Softmax(dim=-1)((Q_first_head @ K_first_head.T)/ math.sqrt(att_head_size) + mod_attention)"
      ],
      "metadata": {
        "id": "Vqg4UTggmXXw",
        "colab": {
          "base_uri": "https://localhost:8080/"
        },
        "outputId": "14d8acb8-a6d6-49a7-b16b-1e91e100ad56"
      },
      "execution_count": null,
      "outputs": [
        {
          "output_type": "stream",
          "name": "stderr",
          "text": [
            "<ipython-input-36-885c19d96949>:5: UserWarning: Implicit dimension choice for softmax has been deprecated. Change the call to include dim=X as an argument.\n",
            "  torch.nn.functional.softmax(torch.tensor([0,0,0, -10000, -10000]).float())\n"
          ]
        }
      ]
    },
    {
      "cell_type": "code",
      "source": [
        "out_view = model(**inputs_tests)\n",
        "torch.allclose(attention_scores, out_view[-1][0]['attn'][0, 0, :, :], atol=1e-06)"
      ],
      "metadata": {
        "id": "JqEfFo7BnfAr",
        "colab": {
          "base_uri": "https://localhost:8080/"
        },
        "outputId": "04e5bfb7-5c2e-44ba-a190-5f060fa07e58"
      },
      "execution_count": null,
      "outputs": [
        {
          "output_type": "execute_result",
          "data": {
            "text/plain": [
              "False"
            ]
          },
          "metadata": {},
          "execution_count": 37
        }
      ]
    },
    {
      "cell_type": "markdown",
      "source": [
        "Sortie du modèle :\n",
        "\n",
        "*\tlast_hidden_state (batch_size, sequence_length, hidden_size) : last hidden state which is outputted from the last BertLayer\n",
        "*\tpooler_output (batch_size, hidden_size) : output of the Pooler layer\n",
        "*\thidden_states (batch_size, sequence_length, hidden_size): hidden-states of the model at the output of each BertLayer plus the initial embedding\n",
        "*\tattentions (batch_size, num_heads, sequence_length, sequence_length): one for each BertLayer. Attentions weights after the attention SoftMax"
      ],
      "metadata": {
        "id": "UqHVAoIEgZ3Z"
      }
    },
    {
      "cell_type": "code",
      "source": [
        "Q.shape, Q_reshaped.shape"
      ],
      "metadata": {
        "id": "Ijpqvd4g4ISx"
      },
      "execution_count": null,
      "outputs": []
    },
    {
      "cell_type": "code",
      "source": [
        "output_dense.shape"
      ],
      "metadata": {
        "id": "vilwJ4mLl6MU"
      },
      "execution_count": null,
      "outputs": []
    }
  ]
}
